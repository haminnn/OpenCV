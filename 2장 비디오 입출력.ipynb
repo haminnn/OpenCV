{
 "cells": [
  {
   "cell_type": "markdown",
   "id": "a64afa97-f298-430a-9d1f-06ad56c5934d",
   "metadata": {
    "tags": []
   },
   "source": [
    "### 비디오 프레임 캡처와 화면표시"
   ]
  },
  {
   "cell_type": "markdown",
   "id": "a9519273-ac4b-4481-a14d-f785b18efed8",
   "metadata": {
    "tags": []
   },
   "source": [
    "#### 비디오 획득 객체 생성\n",
    "- cv2.VideoCapture()\n",
    "- cv2.VideoCapture(filename)\n",
    "- cv2.VideoCapture(device)"
   ]
  },
  {
   "cell_type": "markdown",
   "id": "e96101d0-c3b8-430e-a6f3-6e2e95cc03ce",
   "metadata": {
    "tags": []
   },
   "source": [
    "##### VideoCapture()는 비디오 파일 filename 또는 카메라 번호 device로부터 VideoCapture 객체를 생성하여 반환한다. \n",
    "##### 장치번호는 카메라가 한 개면 0이고, 두 개면 0, 1로 번호를 지정한다.\n",
    "##### 파일명 또는 장치번호 명시 없이 VideoCapture()로 생성한 경우 VideoCapture.open(filename) 또는 VideoCapture.open(device)로 비디오를 개방한다.\n",
    "##### VideoCapture.isOpened()를 사용하면 비디오 객체가 개방되었는지를 확인할 수 있다."
   ]
  },
  {
   "cell_type": "markdown",
   "id": "a4461aa8-7a55-43b2-837e-d5abfba07167",
   "metadata": {
    "tags": []
   },
   "source": [
    "#### 프레임 획득\n",
    "- cv2.VideoCapture.read([image])"
   ]
  },
  {
   "cell_type": "markdown",
   "id": "9ea387f1-becb-4e59-8c8a-7cb3ad68a763",
   "metadata": {},
   "source": [
    "##### cv2.VideoCapture.read()는 개방된 VideoCapture 객체로부터 다음 비디오 프레임을 잡아서 디코딩하여 프레임을 반환한다.\n",
    "##### VideoCapture.grab()과 VideoCapture.retrieve()를 모두 수행한 결과로 대부분의 비디오 프레임 캡처를 위해서 VideoCapture.read()를 사용한다.\n",
    "##### 프레임 캡처에 성공하면 retval는 True이고, 실패하면 False이다."
   ]
  },
  {
   "cell_type": "markdown",
   "id": "c7942afb-b768-473d-bc9b-a898c7403d45",
   "metadata": {
    "tags": []
   },
   "source": [
    "#### 프레임 감지\n",
    "- cv2.VideoCapture.grab()"
   ]
  },
  {
   "cell_type": "markdown",
   "id": "1fc7beb5-6a38-40a5-81c0-db0af4256d3d",
   "metadata": {},
   "source": [
    "##### cv2.VideoCapture.grab()은 개방된 VideoCapture 객체에서 다음 프레임을 잡기 위해 사용한다.\n",
    "##### 프레임을 캡처하기 위해서는 VideoCapture.retrieve()를 사용한다.\n",
    "##### 여러대의 카메라에서 동기화를 목적으로 사용한다."
   ]
  },
  {
   "cell_type": "markdown",
   "id": "4eeedf1d-72b2-45ae-82ed-c3e14ea59c87",
   "metadata": {
    "jp-MarkdownHeadingCollapsed": true,
    "tags": []
   },
   "source": [
    "#### 프레임 획득\n",
    "- cv2.VideoCapture.retrieve([image[, channel]])"
   ]
  },
  {
   "cell_type": "markdown",
   "id": "58b8353b-52ba-4aaf-aa9c-83e71ee8d3c1",
   "metadata": {},
   "source": [
    "##### cv2.VideoCapture.retrieve()는 cv2.VideoCapture.grab()에 의해 잡힌 영상을 디코딩하여 image로 반환한다.\n",
    "##### 프레임을 캡처하면 retval은 True이고, 실패하면 False이다."
   ]
  },
  {
   "cell_type": "markdown",
   "id": "9d8a3922-1a97-4e8f-90fa-68acd9f6fbef",
   "metadata": {
    "jp-MarkdownHeadingCollapsed": true,
    "tags": []
   },
   "source": [
    "#### 비디오 획득 객체 해제\n",
    "- cv2.VideoCapture.release()"
   ]
  },
  {
   "cell_type": "markdown",
   "id": "31897a2c-da82-44c1-aa80-1523dfcf7445",
   "metadata": {},
   "source": [
    "##### cv2.VideoCapture.release()는 개방된 VideoCapture 객체를 해제하여 닫는다."
   ]
  },
  {
   "cell_type": "markdown",
   "id": "c3e97933-2a5d-4e77-891a-295568f8fcef",
   "metadata": {
    "jp-MarkdownHeadingCollapsed": true,
    "tags": []
   },
   "source": [
    "#### 비디오 특성 얻기\n",
    "- cv2.VideoCapture.get(propld)"
   ]
  },
  {
   "cell_type": "markdown",
   "id": "3bc1687a-2dd7-4515-9762-ad3ae1ebfd15",
   "metadata": {},
   "source": [
    "##### cv2.VideoCapture.get()는 개방된 VideoCapture 객체의 특성을 실수로 반환한다.\n",
    "##### 비디오 파일에서 프레임 속도, 총 프레임 수 등이 올바르게 성정되지 않은 값이 있을 수 있다."
   ]
  },
  {
   "cell_type": "markdown",
   "id": "ea0428c9-b629-4754-8a72-1f40bc01e13c",
   "metadata": {
    "tags": []
   },
   "source": [
    "#### 비디오 특성 설정\n",
    "- cv2.VideoCapture.set(propld, value)"
   ]
  },
  {
   "cell_type": "markdown",
   "id": "c79d42c0-ab70-4d79-a713-a2c6f9542872",
   "metadata": {},
   "source": [
    "##### cv2.VideoCapture.set()는 개방된 VideoCapture 객체의 propld 특성을 value로 설정한다.\n",
    "##### 설정의 성공 여부를 참, 거짓으로 반환한다."
   ]
  },
  {
   "cell_type": "code",
   "execution_count": 1,
   "id": "85478bac-d8dc-4635-b31d-860e5aafe5e8",
   "metadata": {},
   "outputs": [],
   "source": [
    "import cv2\n",
    "import matplotlib.pyplot as plt\n",
    "import numpy as np"
   ]
  },
  {
   "cell_type": "code",
   "execution_count": 19,
   "id": "f7e563ad-ac4f-4955-9524-51bde3b4a4c9",
   "metadata": {},
   "outputs": [
    {
     "name": "stdout",
     "output_type": "stream",
     "text": [
      "frame_size = (1280, 720)\n",
      "Frame width: 1280\n",
      "Frame height: 720\n",
      "Frame count: 960\n",
      "\n",
      "frame_size = (1280, 720)\n",
      "Frame width: 1280\n",
      "Frame height: 720\n",
      "Frame count: 960\n"
     ]
    }
   ],
   "source": [
    "# cap = cv2.VideoCapture(0) # 0번 카메라\n",
    "\n",
    "cap = cv2.VideoCapture('./video_data/flower.mp4') # 비디오 파일로부터 객체 생성\n",
    "\n",
    "frame_size = (int(cap.get(cv2.CAP_PROP_FRAME_WIDTH)),\n",
    "              int(cap.get(cv2.CAP_PROP_FRAME_HEIGHT)))\n",
    "print('frame_size =', frame_size)\n",
    "print('Frame width:', int(cap.get(cv2.CAP_PROP_FRAME_WIDTH)))\n",
    "print('Frame height:', int(cap.get(cv2.CAP_PROP_FRAME_HEIGHT)))\n",
    "print('Frame count:', int(cap.get(cv2.CAP_PROP_FRAME_COUNT)))\n",
    "cap.set(cv2.CAP_PROP_FRAME_WIDTH, 320) \n",
    "cap.set(cv2.CAP_PROP_FRAME_HEIGHT, 240)\n",
    "print('\\nframe_size =', frame_size)\n",
    "print('Frame width:', int(cap.get(cv2.CAP_PROP_FRAME_WIDTH)))\n",
    "print('Frame height:', int(cap.get(cv2.CAP_PROP_FRAME_HEIGHT)))\n",
    "print('Frame count:', int(cap.get(cv2.CAP_PROP_FRAME_COUNT)))\n",
    "while True:\n",
    "    retval, frame = cap.read() # 프레임 캡처\n",
    "    \n",
    "    if not retval:\n",
    "        break\n",
    "        \n",
    "    cv2.imshow('frame', frame)\n",
    "    key = cv2.waitKey(25)\n",
    "\n",
    "    if key == 27:\n",
    "        break\n",
    "if cap.isOpened():\n",
    "    cap.release()\n",
    "\n",
    "cv2.destroyAllWindows()"
   ]
  },
  {
   "cell_type": "code",
   "execution_count": 3,
   "id": "feab91d3-4921-43a5-9db8-f0b165ac3ac6",
   "metadata": {},
   "outputs": [],
   "source": [
    "import cv2, pafy"
   ]
  },
  {
   "cell_type": "code",
   "execution_count": 11,
   "id": "ff10bc7c-5242-4e13-ae71-db848eeafa6c",
   "metadata": {},
   "outputs": [
    {
     "name": "stdout",
     "output_type": "stream",
     "text": [
      "title =  방송사고\n",
      "video.rating =  None\n",
      "video.duration =  00:03:44\n",
      "best.resolution 1280x720\n"
     ]
    }
   ],
   "source": [
    "import cv2\n",
    "import pafy\n",
    "url = \"https://www.youtube.com/watch?v=rWzNdMhnYIs\"\n",
    "video = pafy.new(url) # 객체 생성\n",
    "\n",
    "print('title = ', video.title) #동영상의 메타 데이터 출력\n",
    "print('video.rating = ', video.rating)\n",
    "print('video.duration = ', video.duration)\n",
    "best = video.getbest(preftype = 'mp4') # getbest로 최적의 비디오 파일양식 정보를 best에 저장\n",
    "print('best.resolution', best.resolution)\n",
    "cap = cv2.VideoCapture(best.url) #최적의 비디오 파일 양식을 이용하여 객체 cap생성\n",
    "\n",
    "while(True):\n",
    "    retval, frame = cap.read() # 비디오 프레임을 캡처\n",
    "    if not retval:\n",
    "        break\n",
    "    cv2.imshow('frame', frame) # 창에 표시\n",
    "    \n",
    "    gray = cv2.cvtColor(frame, cv2.COLOR_BGR2GRAY) # 그레이 스케일로 변환\n",
    "    edges = cv2.Canny(gray, 50, 200) # 엣지 검출 cv.Canny(gray_img, 임계값1:다른 엣지와 인접 부분에 있어 엣지인지 아닌지 판단, 임계값2:엣지인지 아닌지 판단) 임계값2에 의해 검출된 엣지를 길게 늘일지말지를 임계값1로 정한다.작을수록 엣지가 많이 검출됨\n",
    "    cv2.imshow('edges', edges)\n",
    "    key = cv2.waitKey(25)\n",
    "    if key == 27:\n",
    "        break\n",
    "cv2.destroyAllWindows()"
   ]
  },
  {
   "cell_type": "markdown",
   "id": "43d73159-87c0-4f80-b6a1-af84b02a4e7a",
   "metadata": {
    "tags": []
   },
   "source": [
    "### 비디오 파일 녹화"
   ]
  },
  {
   "cell_type": "markdown",
   "id": "76d379a6-c00c-4403-9f03-f6ee447b36a8",
   "metadata": {
    "tags": []
   },
   "source": [
    "#### 비디오 출력 객체 생성"
   ]
  },
  {
   "cell_type": "markdown",
   "id": "f3fa801e-6d39-40b7-b3b5-398ec6787b4d",
   "metadata": {},
   "source": [
    "- cv2.VideoWriter([filename, fourcc, fps, frameSize[, isColor]])"
   ]
  },
  {
   "cell_type": "markdown",
   "id": "d4e318ed-3c13-41ad-acea-03e9a1e54b5a",
   "metadata": {
    "tags": []
   },
   "source": [
    "##### cv2.VideoWriter()는 VideoWriter 객체를 생성하여 반환한다."
   ]
  },
  {
   "cell_type": "markdown",
   "id": "9570d148-2c24-48c4-8fd4-a4e07097fad9",
   "metadata": {},
   "source": [
    "##### filename은 비디오 파일의 이름이고, fourcc는 비디오 코덱을 위한 4-문자이다."
   ]
  },
  {
   "cell_type": "markdown",
   "id": "ef7a3d1d-6b09-4001-a9b6-0a0c9197cc1b",
   "metadata": {},
   "source": [
    "코덱문자는 http://www.fourcc.org/codecs.php 에 있다."
   ]
  },
  {
   "cell_type": "markdown",
   "id": "9585367b-c2e0-4993-bb25-0caa37f07988",
   "metadata": {
    "tags": []
   },
   "source": [
    "##### VideoWriter_fourcc(*'DIVX')는 VideoWriter_fourcc('D', 'I', 'V', 'X')와 같다"
   ]
  },
  {
   "cell_type": "markdown",
   "id": "9f471247-fad3-4413-ac80-81838eb33d96",
   "metadata": {},
   "source": [
    "##### fourcc = 1 이면, 압축 코덱 선택 대화상자가 나타난다."
   ]
  },
  {
   "cell_type": "markdown",
   "id": "8af8f1f9-8fe2-480a-95fb-b1d23fe25525",
   "metadata": {},
   "source": [
    "##### fps는 프레임 속도, frameSize는 프레임의 크기, isColor = True이면 컬러 비디오, isColor = False이면 그레이스스케일 비디오이다."
   ]
  },
  {
   "cell_type": "markdown",
   "id": "06361cc8-61dd-40bf-832a-22bdcf6ce144",
   "metadata": {},
   "source": [
    "##### VideoWriter 객체만 생성된 경우 VideoWriter.open()으로 비디오를 개방할 수 있다."
   ]
  },
  {
   "cell_type": "markdown",
   "id": "31ffcaa0-5f7e-4d17-bc3b-954ed507e8b5",
   "metadata": {},
   "source": [
    "##### VideoWriter.isOpened()로 개방여부를 확인할 수 있다."
   ]
  },
  {
   "cell_type": "markdown",
   "id": "5404dcd6-fe5d-47e2-a30d-1ab9fa0d029b",
   "metadata": {
    "tags": []
   },
   "source": [
    "#### 비디오에 파일 이미지 출력"
   ]
  },
  {
   "cell_type": "markdown",
   "id": "4091932d-9eb0-4930-98a3-6d83567b6443",
   "metadata": {},
   "source": [
    "- cv2.VideoWriter.write(image)"
   ]
  },
  {
   "cell_type": "markdown",
   "id": "f02ee237-530b-4676-bab8-043d8cbd7cf7",
   "metadata": {
    "jp-MarkdownHeadingCollapsed": true,
    "tags": []
   },
   "source": [
    "##### cv2.VideoWriter.write()는 개방된 VideoWriter 객체에 image를 출력한다."
   ]
  },
  {
   "cell_type": "markdown",
   "id": "d1b3b890-8f55-495b-8645-7238e415723f",
   "metadata": {},
   "source": [
    "##### 주의할 것은 image의 크기는 VideoWriter 객체를 생성할 때 명시한 프레임 크기인 framesize와 같아야 한다."
   ]
  },
  {
   "cell_type": "markdown",
   "id": "05ea845b-919f-4584-b0b9-88826c945277",
   "metadata": {},
   "source": [
    "#### 비디오 출력 객체 해제"
   ]
  },
  {
   "cell_type": "markdown",
   "id": "b9c515b4-973b-437e-958a-35772cb38c4e",
   "metadata": {},
   "source": [
    "- cv2.VideoWriter.release()"
   ]
  },
  {
   "cell_type": "markdown",
   "id": "2c872ed4-2957-4f2a-bbff-d09fac530a31",
   "metadata": {},
   "source": [
    "##### cv2.VideoWriter.release()는 개방된 VideoWriter 객체를 해제하여 닫는다."
   ]
  },
  {
   "cell_type": "code",
   "execution_count": 1,
   "id": "4c6b27cf-1edd-43b0-b347-a3c497c806de",
   "metadata": {},
   "outputs": [
    {
     "name": "stdout",
     "output_type": "stream",
     "text": [
      "frame_size = (1280, 1280)\n"
     ]
    }
   ],
   "source": [
    "import cv2\n",
    "\n",
    "cap = cv2.VideoCapture('./video_data/flower.mp4')\n",
    "frame_size = (int(cap.get(cv2.CAP_PROP_FRAME_WIDTH)),\n",
    "              int(cap.get(cv2.CAP_PROP_FRAME_WIDTH)))\n",
    "print('frame_size =', frame_size)\n",
    "\n",
    "fourcc = cv2.VideoWriter_fourcc(*'DIVX')\n",
    "\n",
    "out1 = cv2.VideoWriter('./data/record0.mp4', fourcc, 20.0, frame_size)\n",
    "out2 = cv2.VideoWriter('./data/record1.mp4', fourcc, 20.0, frame_size, isColor = False)\n",
    "\n",
    "while True:\n",
    "    retval, frame = cap.read()\n",
    "    if not retval:\n",
    "        break\n",
    "    \n",
    "    out1.write(frame)\n",
    "    \n",
    "    gray = cv2.cvtColor(frame, cv2.COLOR_BGR2GRAY)\n",
    "    \n",
    "    out2.write(gray)\n",
    "    \n",
    "    cv2.imshow('frame', frame)\n",
    "    cv2.imshow('gray', gray)\n",
    "    \n",
    "    key = cv2.waitKey(25)\n",
    "    if key == 27:\n",
    "        break\n",
    "cap.release()\n",
    "out1.release()\n",
    "out2.release()\n",
    "cv2.destroyAllWindows()"
   ]
  }
 ],
 "metadata": {
  "kernelspec": {
   "display_name": "Python 3 (ipykernel)",
   "language": "python",
   "name": "python3"
  },
  "language_info": {
   "codemirror_mode": {
    "name": "ipython",
    "version": 3
   },
   "file_extension": ".py",
   "mimetype": "text/x-python",
   "name": "python",
   "nbconvert_exporter": "python",
   "pygments_lexer": "ipython3",
   "version": "3.8.13"
  }
 },
 "nbformat": 4,
 "nbformat_minor": 5
}
