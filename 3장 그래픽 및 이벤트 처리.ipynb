{
 "cells": [
  {
   "cell_type": "markdown",
   "id": "5a7d70b2-031e-4a2b-966b-ada41d63388c",
   "metadata": {
    "tags": []
   },
   "source": [
    "## 간단한 그래픽 및 이벤트 처리"
   ]
  },
  {
   "cell_type": "markdown",
   "id": "33e1380b-3d06-4c7a-8648-412655d1b43e",
   "metadata": {},
   "source": [
    "- 좌표의 원점(0,0)은 왼쪽-상단이고, 왼쪽에서 오른쪽 방향의 가로가 x축, 위에서 아래 방향의 세로가 y축이다."
   ]
  },
  {
   "cell_type": "markdown",
   "id": "0a673899-765e-4c72-bfd4-22a8ddb0e99d",
   "metadata": {
    "tags": []
   },
   "source": [
    "### 직선 및 사각형 그리기"
   ]
  },
  {
   "cell_type": "markdown",
   "id": "d77830a4-09d6-4ccf-bd42-04b26da376b0",
   "metadata": {
    "tags": []
   },
   "source": [
    "#### 직선\n",
    "- cv2.line(img, pt1, pt2, color[, thickness[, lineType[, shift]]])"
   ]
  },
  {
   "cell_type": "markdown",
   "id": "ad60fda0-9bb8-4f61-83c8-48b9e3d169d4",
   "metadata": {
    "tags": []
   },
   "source": [
    "##### cv2.line()은 영상 img에 좌표 pt1에서 pt2까지 연결하는 직선을 그린다. color 색상, thickness 두께, lineType은 cv2.LINE_8, cv2.LINE_4, cv2.LINE_AA 등이 있다.\n",
    "##### shift는 pt1과 pt2의 각 좌표에 대한 비트 이동을 설정한다."
   ]
  },
  {
   "cell_type": "markdown",
   "id": "e9037b5e-bc88-4a1f-9fa0-9fb7067fff49",
   "metadata": {
    "tags": []
   },
   "source": [
    "#### 사각형\n",
    "- cv2.rectangle(img, pt1, pt2, color[, thickness[, lineType[, shift]]])"
   ]
  },
  {
   "cell_type": "markdown",
   "id": "46454ce8-10c1-4b96-bda0-3f429671ab00",
   "metadata": {
    "jp-MarkdownHeadingCollapsed": true,
    "tags": []
   },
   "source": [
    "##### cv2.rectangle()은 영상 img에 좌표 pt1, pt2에 의해 정의되는 직각 사각형을 그린다.\n",
    "##### color 색상, thickness 두께로 thickness = -1 이면 color 색상으로 채운 사각형을 그린다."
   ]
  },
  {
   "cell_type": "markdown",
   "id": "4b71e7f3-0195-40db-8275-355c4a85bcac",
   "metadata": {
    "tags": []
   },
   "source": [
    "#### 사각형-직선 절단 좌표\n",
    "- cv2.clipLine(imgRect, pt1, pt2)"
   ]
  },
  {
   "cell_type": "markdown",
   "id": "73738db5-a012-49ab-bafb-c42c9b3c66c1",
   "metadata": {},
   "source": [
    "##### cv2.clipLine()은 좌표 pt1에서 pt2까지의 직선이 imgRect 사각형에 의해 절단되는 좌표점을 계산하여 pt1과 pt2에 반환한다.\n",
    "##### 직선이 사각영역 밖에 있으면 retval에 False를 반환한다."
   ]
  },
  {
   "cell_type": "markdown",
   "id": "46987691-6f32-4b3e-b653-6b94a9970d7a",
   "metadata": {
    "tags": []
   },
   "source": [
    "#### 실습"
   ]
  },
  {
   "cell_type": "code",
   "execution_count": 15,
   "id": "2dd5165d-a636-4677-a0ad-a8872f94d73d",
   "metadata": {},
   "outputs": [],
   "source": [
    "import cv2\n",
    "import numpy as np\n",
    "\n",
    "img = np.zeros(shape = (512, 512, 3), dtype = np.uint8) + 255 # 영상으로 사용할 0으로 초기화된 배열을 생성하는데 512x512크기의 3채널 컬러영상이고\n",
    "                                                              # dtype = uint8은 영상 화소가 부호없는 8비트 정수이다. 화소값이 (0, 0, 0)이면 검은색 배경 영상이다.\n",
    "                                                              # np.zeros() + 255를 사용하면 영상의 모든 채널 값이 255로 변경되어 흰색 배경이다.\n",
    "\n",
    "# img = np.ones((512,512, 3), np.uint8) * 255                 # np.ones()는 1로 초기화된 배열을 생성한다.\n",
    "# img = np.full((512, 512, 3), (255, 0, 255), dtype = np.uint8) # np.full()을 사용하면 배경으로 사용할 컬러를 지정하여 영상을 생성할 수 있다.\n",
    "\n",
    "pt1 = 100, 100\n",
    "pt2 = 400, 400\n",
    "cv2.rectangle(img, pt1, pt2, (0, 255, 0), 2)                  # cv2.rectangle()로 img 영상에 pt1(100, 100), pt2(400, 400)에 의해서 정의되는 사각형을 \n",
    "                                                              # 녹색(0, 255, 0), 두께 2로 그린다.\n",
    "cv2.line(img, (0, 0), (500, 0), (255, 0, 0), 5)               # cv2.line()은 img 영상에 원점(0, 0)에서 좌표 (500, 0)로 파란색(255, 0, 0), 두께 5로 그린다.\n",
    "cv2.line(img, (0, 0), (0, 500), (0, 0, 255), 5)               # cv2.line()은 img 영상에 원점(0, 0)에서 좌표 (0, 500)로 빨간색(0, 0, 255), 두께 5로 그린다.\n",
    "\n",
    "cv2.imshow('img', img)\n",
    "cv2.waitKey()\n",
    "cv2.destroyAllWindows()"
   ]
  },
  {
   "cell_type": "code",
   "execution_count": 14,
   "id": "4119804d-3b8f-48a7-910a-fb33557e6f7f",
   "metadata": {},
   "outputs": [],
   "source": [
    "import cv2\n",
    "import numpy as np\n",
    "\n",
    "img = np.zeros(shape = (512, 512, 3), dtype = np.uint8) + 255\n",
    "x1, x2 = 100, 400\n",
    "y1, y2 = 100, 400\n",
    "cv2.rectangle(img, (x1, y1), (x2, y2), (0, 0, 255)) # cv2.rectangle()로 img영상에 x1, x2(100, 400), y1, y2(100, 400)에 의해서 정의되는 사각형을\n",
    "                                                    # 빨간색(0, 0, 255)로 그린다.\n",
    "\n",
    "pt1 = 120, 50\n",
    "pt2 = 300, 500\n",
    "cv2.line(img, pt1, pt2, (255, 0, 0), 2)             # cv2.line()로 img영상에 좌표(120,50)에서 좌표(300, 500)으로 파란색(255, 0, 0), 두께 2로 그린다.\n",
    "\n",
    "imgRect = (x1, y1, x2 - x1, y2 - y1)\n",
    "retval, rpt1, rpt2 = cv2.clipLine(imgRect, pt1, pt2)                       # cv2.clipLine()은 좌표 pt1과 pt2에 의한 직선과 imgRect에 정의된 사각형의 교차좌표를 계산한다.\n",
    "                                                                           # 직선과 사각형이 만나지 않으면 retval = False이다.\n",
    "if retval == True:                                                         \n",
    "    cv2.circle(img, rpt1, radius = 5, color = (0, 255, 0), thickness = -1) # cv2.circle()함수로 img 영상에 절단 좌표 rpt1과 rpt2가 중심인 반지름 5의 원을 그린다.\n",
    "    cv2.circle(img, rpt2, radius = 5, color = (0, 255, 0), thickness = -1)\n",
    "cv2.imshow('img',img)\n",
    "cv2.waitKey()\n",
    "cv2.destroyAllWindows()"
   ]
  },
  {
   "cell_type": "markdown",
   "id": "a9708ab9-4521-4060-b3c7-e01c785918e2",
   "metadata": {
    "tags": []
   },
   "source": [
    "### 원 및 타원 그리기"
   ]
  },
  {
   "cell_type": "markdown",
   "id": "d9d985bc-79f6-4d87-9568-b13a8dbf1831",
   "metadata": {
    "tags": []
   },
   "source": [
    "#### 원 그리기\n",
    "- cv2.circle(img, center, radius, color[, thickness[, lineType[, shift]]])"
   ]
  },
  {
   "cell_type": "markdown",
   "id": "d06cb1f6-4635-4048-8e67-ecb0ca9fdae5",
   "metadata": {
    "jp-MarkdownHeadingCollapsed": true,
    "tags": []
   },
   "source": [
    "##### cv2.circle()은 영상 img에 중심점 center, 반지금 radius의 원을 색상 color, 두꼐 thickness로 그린다.\n",
    "##### thickness = CV_FILLED()이면 color 색상으로 채운 원을 그린다."
   ]
  },
  {
   "cell_type": "markdown",
   "id": "715c756b-28ac-4824-afbc-087c173e9a7b",
   "metadata": {
    "tags": []
   },
   "source": [
    "#### 타원 그리기\n",
    "- cv2.ellipse(img, center, axes, angle, startAngle, endAngle, color [, thickness[, lineType]])"
   ]
  },
  {
   "cell_type": "markdown",
   "id": "c882a208-73e0-4ebb-b027-93ef13c9df81",
   "metadata": {},
   "source": [
    "##### cv2.ellipse()는 영상 img에 중심점 center, 주축 크기의 절반 axes, 수평축과의 회전각도 angle, 호의 시작과 끝의 각도는 startAngle, endAngle인 타원을 그린다.\n",
    "##### startAngle = 0, engAngle = 360이면 닫힌 타원을 그린다.\n",
    "##### thickness = CV_FILLED()이면 색상을 채운 타원을 그린다"
   ]
  },
  {
   "cell_type": "markdown",
   "id": "787c8fe8-4279-4a7f-ae8c-29201be98f56",
   "metadata": {
    "tags": []
   },
   "source": [
    "#### 회전 사각형 내접 나원\n",
    "- cv2.ellipse(img, box, color[, thickness[, lineType]])"
   ]
  },
  {
   "cell_type": "markdown",
   "id": "c9794a6a-eea7-4c1f-8118-c1b534682727",
   "metadata": {},
   "source": [
    "##### cv3.ellipse()는 영상 img에 회전된 사각형 box = (center, size, angle)에 내접하는 타원을 그린다.\n",
    "##### conter는 중심점, size는 크기, angle은 수평축과의 각도이다."
   ]
  },
  {
   "cell_type": "markdown",
   "id": "7c819f48-2db1-4b3c-a371-ed74e8fa4c2d",
   "metadata": {
    "tags": []
   },
   "source": [
    "#### 타원위 좌표 계산\n",
    "- cv2.ellipse2Poly(center, axes, angle, arcStart, arcEnd, delta)"
   ]
  },
  {
   "cell_type": "markdown",
   "id": "62da743a-7e35-40bc-85d8-b58b2bd426e6",
   "metadata": {},
   "source": [
    "##### cvw.ellipse2Poly()는 중심점 center, 축의 크기, axes, 각도 angle, 호 arc의 시작과 끝을 각조 startAngle, endAngle인 타원 위의 좌표를 delta 각도 간격으로 계산하여 반환한다."
   ]
  },
  {
   "cell_type": "markdown",
   "id": "6c701165-5e60-41b6-82ad-9d20b5d6e985",
   "metadata": {
    "tags": []
   },
   "source": [
    "#### 실습"
   ]
  },
  {
   "cell_type": "code",
   "execution_count": 82,
   "id": "afec1472-2dc7-4a0f-9ccb-224e4d375f74",
   "metadata": {},
   "outputs": [],
   "source": [
    "import cv2\n",
    "import numpy as np\n",
    "\n",
    "img = np.zeros(shape = (512, 512, 3), dtype = np.uint8) + 255\n",
    "cy = img.shape[0] # 영상의 중심을 정수로 계산한다.\n",
    "cx = img.shape[1]\n",
    "\n",
    "for r in range(200, 0, -100):                                                # for 문으로 원의 반지름 r을 200, 100으로 반복하면서 cv2.circle() 함수로\n",
    "                                                                             # 원의 중심(cx, cy), 반지름 r, 색상(255, 0, 0)인 원을 그린다.\n",
    "    cv2.circle(img, (cx, cy), r, color = (255, 0, 0))                        \n",
    "\n",
    "cv2.circle(img, (cx, cy), radius = 50, color = (0, 0, 255), thickness = -1)  # cv2.circle()함수로  thickness = -1로 하여 반지름을 50으로 하고 (0, 0, 255)\n",
    "                                                                             # 색상으로 채운 원을 그린다.\n",
    "\n",
    "cv2.imshow('img', img)\n",
    "cv2.waitKey()\n",
    "cv2.destroyAllWindows()"
   ]
  },
  {
   "cell_type": "code",
   "execution_count": 25,
   "id": "9be4ecae-8365-4f3d-adb0-4d5dd60a3137",
   "metadata": {},
   "outputs": [],
   "source": [
    "import cv2\n",
    "import numpy as np\n",
    "\n",
    "img = np.zeros(shape = (512, 512, 3), dtype = np.uint8) + 255\n",
    "ptCenter = img.shape[1], img.shape[0]\n",
    "size = 200, 100\n",
    "\n",
    "cv2.ellipse(img, ptCenter, size, 0, 0, 360, (255, 0, 0))\n",
    "cv2.ellipse(img, ptCenter, size, 45, 0, 360, (0, 0, 255))\n",
    "\n",
    "box = (ptCenter, size, 0)\n",
    "cv2.ellipse(img, box, (255, 0, 0), 5)\n",
    "\n",
    "cv2.imshow('img', img)\n",
    "cv2.waitKey()\n",
    "cv2.destroyAllWindows()"
   ]
  },
  {
   "cell_type": "markdown",
   "id": "ef818faf-5799-4fb9-b2e0-b348c36fdc39",
   "metadata": {
    "tags": []
   },
   "source": [
    "### 다각형 그리기"
   ]
  },
  {
   "cell_type": "markdown",
   "id": "634e7aca-77ac-4224-a754-af78729c7356",
   "metadata": {
    "tags": []
   },
   "source": [
    "#### 다각형 그리기\n",
    "- cv2.polylines(img, pts, isClosed, color[, thickness[, lineType[, shift]])"
   ]
  },
  {
   "cell_type": "markdown",
   "id": "d8a8939f-20cb-4c6f-a7ce-4ff793b070a1",
   "metadata": {},
   "source": [
    "##### cv2.polylines()는 하나 또는 그 이상의 다각형을 color 색상으로 그린다.\n",
    "##### pts는 다각형들의 numpy 배열이고, isClosed = True이면 닫힌 다각형을 그린다."
   ]
  },
  {
   "cell_type": "markdown",
   "id": "0dc47129-d962-440e-84f7-f4a84235828d",
   "metadata": {
    "tags": []
   },
   "source": [
    "#### 볼록다각형 채우기\n",
    "- cv2.fillConvexPoly(img, points, color[, lineType[, shift]])"
   ]
  },
  {
   "cell_type": "markdown",
   "id": "febd598c-b595-4b85-ba05-7842e933e082",
   "metadata": {},
   "source": [
    "##### cv2.fillConvexPoly()는 points에 저장된 좌표를 이루어진 볼록다각형 또는 일반 다각형을 color 색상으로 채운다.\n",
    "##### fillPoly()함수보다 빠르게 그린다"
   ]
  },
  {
   "cell_type": "markdown",
   "id": "ae13eb2e-35ac-45c4-9b2a-f36450549934",
   "metadata": {
    "tags": []
   },
   "source": [
    "#### 다각형 채우기\n",
    "- cv2.fillPoly(img, pts, color[, lineType[, shift[, offset]]])"
   ]
  },
  {
   "cell_type": "markdown",
   "id": "286c9aea-b7bb-48ea-bfa5-b83f0579ec32",
   "metadata": {},
   "source": [
    "##### cv2.fillPoly()는 하나 또는 그 이상의 다각형을 color 색상으로 채운다.\n",
    "##### pts는 다각형들의 numpy 배열이다."
   ]
  },
  {
   "cell_type": "markdown",
   "id": "6130e3d3-bc28-4bc3-a7fa-a96426e509b6",
   "metadata": {
    "tags": []
   },
   "source": [
    "#### 실습"
   ]
  },
  {
   "cell_type": "code",
   "execution_count": 45,
   "id": "d56ea45f-bcff-4886-9632-cb3ed5c440a8",
   "metadata": {},
   "outputs": [],
   "source": [
    "import cv2\n",
    "import numpy as np\n",
    "\n",
    "img = np.zeros(shape = (512, 512, 3), dtype = np.uint8) + 255\n",
    "\n",
    "pts1 = np.array([[100, 100], [200, 100], [200, 200], [100, 200]])      # 4개의 좌표를 갖는 다각형을 pts1 배열에 생성한다.\n",
    "pts2 = np.array([[300, 200], [400, 100], [400,200]])                   # 3개의 좌표를 갖는 다각형을 pts2 배열에 생성한다.\n",
    "\n",
    "cv2.polylines(img, [pts1, pts2], isClosed = True, color = (255, 0, 0)) # cv2.polylines() 함수로 [pts1, pts2]로 2개의 닫힌 다각형을 (255, 0, 0)색상으로 그린다.\n",
    "\n",
    "cv2.imshow('img',img)\n",
    "cv2.waitKey()\n",
    "cv2.destroyAllWindows()"
   ]
  },
  {
   "cell_type": "code",
   "execution_count": 59,
   "id": "e3bfa43d-5c6c-4b75-b46e-a99ad431907c",
   "metadata": {},
   "outputs": [],
   "source": [
    "import cv2\n",
    "import numpy as np\n",
    "\n",
    "img = np.zeros(shape = (512, 512, 3), dtype = np.uint8) + 255\n",
    "\n",
    "ptCenter = img.shape[1], img.shape[0]\n",
    "size = 200, 100\n",
    "\n",
    "cv2.ellipse(img, ptCenter, size, 0, 0, 360, (255, 0, 0))              # cv2.ellipse()로 타원의중심은 ptCenter, 크기는 size, 각도는 0, 색상은(255, 0, 0)인\n",
    "                                                                      # 타원을 그린다.\n",
    "pts1 = cv2.ellipse2Poly(ptCenter, size, 0, 0, 360, delta = 45)        # delta = 45 간격으로 타원 위의 좌표를 pts1 배열에 생성한다.\n",
    "\n",
    "cv2.ellipse(img, ptCenter, size, 45, 0, 360, (0, 255, 0))             # cv2.ellipse()로 타원의중심은 ptCenter, 크기는 size, 각도는 45, 색상은(0, 255, 0)인\n",
    "                                                                      # 타원을 그린다.\n",
    "pts2 = cv2.ellipse2Poly(ptCenter, size, 45, 0, 360, delta = 45)       \n",
    "\n",
    "cv2.polylines(img, [pts1, pts2], isClosed = True, color = (0, 0, 255))# cv2.ellipse2Poly() 함수로 [pts1, pts2]로 2개의 닫힌 다각형을 (0, 0, 255)색상을 그린다.\n",
    "\n",
    "cv2.imshow('img', img)\n",
    "cv2.waitKey()\n",
    "cv2.destroyAllWindows()"
   ]
  },
  {
   "cell_type": "code",
   "execution_count": 43,
   "id": "e8ab99bf-46dd-491d-9c0c-0c130e715924",
   "metadata": {},
   "outputs": [],
   "source": [
    "import cv2\n",
    "import numpy as np\n",
    "\n",
    "img = np.zeros(shape = (512, 512, 3), dtype = np.uint8) + 255\n",
    "\n",
    "x, y = 256, 256\n",
    "size = 200\n",
    "\n",
    "for angle in range(0, 90, 10):\n",
    "    rect = ((256, 256), (size, size), angle)\n",
    "    box = cv2.boxPoints(rect).astype(np.int32)     # cv2.boxPoints()로 중심(256, 256), 크기(size, size), 각도 angle인 회전 사각형 rect의 모서리 점을\n",
    "                                                   # 정수로 변환하여 box에 계산\n",
    "    r = np.random.randint(256)\n",
    "    g = np.random.randint(256)\n",
    "    b = np.random.randint(256)\n",
    "    cv2.polylines(img, [box], True, (b, g, r), 2)  # cv.polylines() 함수로 회전 사각형의 모서리 점을 닫힌 다각형을 그린다.\n",
    "                                                   # 난수로 생성한 (b, g, r)을 색상으로 하여 사각형을 그린다.\n",
    "\n",
    "cv2.imshow('img',img)\n",
    "cv2.waitKey()\n",
    "cv2.destroyAllWindows()"
   ]
  },
  {
   "cell_type": "code",
   "execution_count": 51,
   "id": "0bb52b84-3987-4a1b-805d-49956d902333",
   "metadata": {},
   "outputs": [],
   "source": [
    "import cv2\n",
    "import numpy as np\n",
    "\n",
    "img = np.zeros(shape = (512, 512, 3), dtype = np.uint8) + 255\n",
    "\n",
    "pts1 = np.array([[100, 100], [200, 100], [200, 200], [100, 200]])\n",
    "pts2 = np.array([[300, 200], [400, 100], [400, 200]])\n",
    "\n",
    "cv2.fillConvexPoly(img, pts1, color = (255, 0, 0))\n",
    "cv2.fillPoly(img, [pts2], color = (0, 0, 255))\n",
    "# cv2.fillPoly(img, [pts1, pts2], color = (0, 0, 255))\n",
    "\n",
    "cv2.imshow('img', img)\n",
    "cv2.waitKey()\n",
    "cv2.destroyAllWindows()"
   ]
  },
  {
   "cell_type": "markdown",
   "id": "58638f27-a94d-4880-9955-0a364b8373a5",
   "metadata": {
    "tags": []
   },
   "source": [
    "### 문자열 출력"
   ]
  },
  {
   "cell_type": "markdown",
   "id": "f61e8c3c-fc78-47ed-86b3-ac2f02ab72a3",
   "metadata": {
    "tags": []
   },
   "source": [
    "#### 문자열 출력 크기 반환\n",
    "- cv2.getTextSize(text, fontFace, fontScale, thickness)"
   ]
  },
  {
   "cell_type": "markdown",
   "id": "f6a4a09c-ee88-493f-b50e-b02bf4cb6c9d",
   "metadata": {},
   "source": [
    "##### cv2.getTextSize()는 문자열 text의 출력을 위한 크기를 retval에 반환하고, 출력될 사각 영역의 하단으로부터의 상대적 기준선 y의 위치를 반환한다."
   ]
  },
  {
   "cell_type": "markdown",
   "id": "93d51bf5-1f22-4b1b-ba39-3530116e4148",
   "metadata": {
    "tags": []
   },
   "source": [
    "#### 문자열 출력\n",
    "- cv2.putText(img, text, org, fontFace, fontScale, color[, thickness[, lineType[, bottomLeftOrigin]]])"
   ]
  },
  {
   "cell_type": "markdown",
   "id": "ec07a7b2-3854-4fe1-ac2e-7b4181bc97d8",
   "metadata": {},
   "source": [
    "##### cv2.putText()는 문자열 text를 사각형 왼쪽 하단 좌표 위치에 폰트, 폰트 스케일, 색상으로 문자열을 출력한다."
   ]
  },
  {
   "cell_type": "markdown",
   "id": "4f71be2c-32b4-4db9-83c9-6a4f012f2736",
   "metadata": {
    "tags": []
   },
   "source": [
    "#### 실습"
   ]
  },
  {
   "cell_type": "code",
   "execution_count": 75,
   "id": "3a2d1180-2a68-4000-9ac7-7350cab872a6",
   "metadata": {},
   "outputs": [],
   "source": [
    "import numpy as np\n",
    "import cv2\n",
    "\n",
    "img = np.zeros(shape = (512, 512, 3), dtype = np.uint8) + 255\n",
    "text = 'OpenCV Programming'\n",
    "org = (50, 100)\n",
    "font = cv2.FONT_HERSHEY_SIMPLEX\n",
    "cv2.putText(img, text, org, font, 1, (255, 0, 0), 2)                        # cv2.putText()로 text문자열을 org 위치에 font 폰트, 폰트 스케일 1,\n",
    "                                                                            # (255, 0, 0) 색상, 두께 2로 출력한다.\n",
    "\n",
    "size, baseLine = cv2.getTextSize(text, font, 1, 2)                          # cv2.getTextSize()로 text 문자열을 font폰트, 폰트 스케일 1, 두께 2로 출력하기\n",
    "                                                                            # 위한 사각형의 크기를 size에 반환하고 baseLine은 사각형 아래 기준선의 상대적\n",
    "                                                                            #  y 값을 반환한다.\n",
    "        \n",
    "# print('size = ', size)                                                    # (345, 22)\n",
    "# print('baseLine = ', baseLine)                                            # 10\n",
    "\n",
    "cv2.rectangle(img, org, (org[0] + size[0], org[1] - size[1]), (0, 0, 255))  # 사각형 모서리 좌표 org, (org[0] + size[0], org[1] - size[1])로\n",
    "                                                                            # 문자열의 출력 위치를 그린다.\n",
    "                                                                            # 실제 기준선의 y 좌표는 org[1] + baseLine이다\n",
    "cv2.circle(img, org, 3, (0, 255, 0), 2)\n",
    "# print(org[0]+size[0])\n",
    "# print(org[1]-size[1])\n",
    "\n",
    "cv2.imshow('img', img)\n",
    "cv2.waitKey()\n",
    "cv2.destroyAllWindows()"
   ]
  },
  {
   "cell_type": "markdown",
   "id": "f46fae30-78f5-48a1-87fc-067f24123632",
   "metadata": {
    "tags": []
   },
   "source": [
    "### 키보드 이벤트 처리"
   ]
  },
  {
   "cell_type": "markdown",
   "id": "80a24294-5674-434f-9018-41b5f18cccaf",
   "metadata": {
    "tags": []
   },
   "source": [
    "#### 실습"
   ]
  },
  {
   "cell_type": "code",
   "execution_count": 83,
   "id": "ecc7d735-c5a5-4995-96c2-9ec287fafe68",
   "metadata": {},
   "outputs": [],
   "source": [
    "import numpy as np\n",
    "import cv2\n",
    "\n",
    "width, height = 512, 512\n",
    "x, y, R = 256, 256, 50\n",
    "direction = 0\n",
    "\n",
    "while True:\n",
    "    key = cv2.waitKeyEx(30)\n",
    "    #windows key code\n",
    "    if key == 0x1B:          # ESC          \n",
    "        break\n",
    "    elif key == 0x270000:    # right\n",
    "        direction = 0\n",
    "    elif key == 0x280000:    # down\n",
    "        direction = 1\n",
    "    elif key == 0x250000:    # left\n",
    "        direction = 2\n",
    "    elif key == 0x250000:    # up\n",
    "        direction = 3\n",
    "    \n",
    "    if direction == 0:\n",
    "        x += 10\n",
    "    elif direction == 1:\n",
    "        y += 10\n",
    "    elif direction == 2:\n",
    "        x -= 10\n",
    "    elif direction == 3:\n",
    "        y -= 10\n",
    "        \n",
    "    # 경계 확인 \n",
    "    if x < R:\n",
    "        x = R\n",
    "        direction = 0\n",
    "    if x > width - R:\n",
    "        x = width -R\n",
    "        direction = 2\n",
    "    if y < R:\n",
    "        y = R\n",
    "        direction = 1\n",
    "    if y > height - R:\n",
    "        y = height - R\n",
    "        direction = 3\n",
    "        \n",
    "    # 지우고 그리기\n",
    "    img = np.zeros((width, height, 3), np.uint8) + 155\n",
    "    cv2.circle(img, (x, y), R, (0, 0, 255), -1)\n",
    "    cv2.imshow('img', img)\n",
    "    \n",
    "cv2.destroyAllWindows()\n",
    "        "
   ]
  },
  {
   "cell_type": "markdown",
   "id": "6f2dd703-5eb3-4062-bf7b-e08069890ee3",
   "metadata": {
    "tags": []
   },
   "source": [
    "### 마우스 이벤트 처리"
   ]
  },
  {
   "cell_type": "markdown",
   "id": "c41d57e3-aea7-4dcd-a40b-a7c3bbadd0f8",
   "metadata": {
    "tags": []
   },
   "source": [
    "#### 실습"
   ]
  },
  {
   "cell_type": "code",
   "execution_count": 84,
   "id": "3cd14aa1-030b-4fa3-b768-7bbaa54fe163",
   "metadata": {},
   "outputs": [],
   "source": [
    "import numpy as np\n",
    "import cv2\n",
    "\n",
    "def onMouse(event, x, y, flags, param):\n",
    "    if event == cv2.EVENT_LBUTTONDOWN:\n",
    "        if flags & cv2.EVENT_FLAG_SHIFTKEY:\n",
    "            cv2.rectangle(param[0], (x - 5, y - 5),\n",
    "                          (x + 5, y + 5), (255, 0, 0))\n",
    "        else:\n",
    "            cv2.circle(param[0], (x, y), 5, (255, 0, 0), 3)\n",
    "    elif event == cv2.EVENT_RBUTTONDOWN:\n",
    "        cv2.circle(param[0], (x, y), 5, (255, 0, 0), 3)\n",
    "    elif event == cv2.EVENT_LBUTTONDBLCLK:\n",
    "        param[0] = np.zeros(param[0].shape, np.uint8) + 255\n",
    "    cv2.imshow('img', param[0])\n",
    "    \n",
    "img = np.zeros((512, 512, 3), np.uint8) + 255\n",
    "cv2.imshow('img', img)\n",
    "cv2.setMouseCallback('img', onMouse, [img])\n",
    "cv2.waitKey()\n",
    "cv2.destroyAllWindows()"
   ]
  },
  {
   "cell_type": "markdown",
   "id": "19fbe4c9-a5d9-4b01-ae7c-55450aa54fce",
   "metadata": {
    "tags": []
   },
   "source": [
    "### 트랙바 이벤트 처리"
   ]
  },
  {
   "cell_type": "markdown",
   "id": "86608367-9b06-4bc0-9345-471822b45acc",
   "metadata": {
    "tags": []
   },
   "source": [
    "#### 비디오 출력 객체 생성\n",
    "- cv2.CreateTrackbar(trackbarName, windowName, value, count, onChange)"
   ]
  },
  {
   "cell_type": "markdown",
   "id": "203cc360-5e49-4efd-99d7-ae5b7e1b204e",
   "metadata": {
    "tags": []
   },
   "source": [
    "##### cv2.CreateTrackbar()은 윈도우에 트랙바를 생성한다.\n",
    "##### trackbarname는 트랙바 이름, winname은 윈도우 이름, value는 트랙바를 생성할 때 슬라이더의 위치이다.\n",
    "##### count는 슬라이더의 최대값이다.\n",
    "##### onChange() 함수는 슬라이더 위치가 변경될 때마다 슬라이더 이벤트를 처리를 위해 호출될 함수이다."
   ]
  },
  {
   "cell_type": "markdown",
   "id": "3a9a2155-6f80-44cd-b5e5-5e077aa65ffd",
   "metadata": {
    "tags": []
   },
   "source": [
    "#### 비디오에 이미지 출력\n",
    "- cv2.setTrackbarPos(trackbarname, winname, pos)"
   ]
  },
  {
   "cell_type": "markdown",
   "id": "71118672-2c04-486c-8273-18754dde623f",
   "metadata": {},
   "source": [
    "##### cv2.setTrackbarPos()는 트랙바의 위치를 pos로 변경한다."
   ]
  },
  {
   "cell_type": "markdown",
   "id": "065dd4d0-e7b9-4897-a83f-f6ce72eef2ee",
   "metadata": {
    "tags": []
   },
   "source": [
    "#### 비디오 출력 객체 해제\n",
    "- cv2.getTrackbarPos(trackbarname, winname)"
   ]
  },
  {
   "cell_type": "markdown",
   "id": "d3e14acd-ee57-4c3f-ab70-1c4762a35c2b",
   "metadata": {},
   "source": [
    "##### cv2.getTrackbarPos()는 트랙바의 현재 위치를 반환한다."
   ]
  },
  {
   "cell_type": "markdown",
   "id": "597dd64a-e887-41bb-a04b-0b6d4ec11d6a",
   "metadata": {
    "tags": []
   },
   "source": [
    "#### 실습"
   ]
  },
  {
   "cell_type": "code",
   "execution_count": 91,
   "id": "685f8a42-fde0-4a71-a050-8e7d5eb7abd3",
   "metadata": {},
   "outputs": [],
   "source": [
    "import numpy as np\n",
    "import cv2\n",
    "\n",
    "def onChange(pos):                                 # 트랙바 이벤트 핸들러 함수\n",
    "    global img                                     # global img 문으로 영상 img를 전역변수를 참조하도록 하고, cv2.getTrackbarPos()함수를 사용하여\n",
    "    r = cv2.getTrackbarPos('R', 'img')             # 세 개의 'R', 'G', 'B' 트랙바에서 슬라이더의 현재 위치로부터 r, g, b 값을 얻는다.\n",
    "    g = cv2.getTrackbarPos('G', 'img')             \n",
    "    b = cv2.getTrackbarPos('B', 'img')             \n",
    "    img[:] = (b, g, r)                             # img[:] = [b, g, r]로 img영상의 모든 화소를 (b, g, r)화소로 초기화\n",
    "    cv2.imshow('img', img)                         # 'img'창에 img 표시\n",
    "    \n",
    "img = np.zeros((512, 512, 3), np.uint8)\n",
    "cv2.imshow('img', img)\n",
    "\n",
    "# 트랙바 생성\n",
    "cv2.createTrackbar('R', 'img', 0, 255, onChange)   # 모든 트랙바에서 슬라이더의 초기 위치는 0, 최대값은 255, 트랙바 이벤트 핸들러 함수는 onChange()이다.\n",
    "cv2.createTrackbar('G', 'img', 0, 255, onChange)\n",
    "cv2.createTrackbar('B', 'img', 0, 255, onChange)\n",
    "\n",
    "# 트랙바의 위치 초기화\n",
    "cv2.setTrackbarPos('R', 'img', 0)                  # 'R' 트랙바에서 슬라이더의 위치를 255로 변경하면 트랙바 이벤트 핸들러 함수가 호출되어 윈도우의 영상이 빨간색으로 변경된다\n",
    "# cv2.setTrackbarPos('G', 'img', 0)\n",
    "# cv2.setTrackbarPos('B', 'img', 0)\n",
    "\n",
    "\n",
    "cv2.waitKey()\n",
    "cv2.destroyAllWindows()"
   ]
  }
 ],
 "metadata": {
  "kernelspec": {
   "display_name": "Python 3 (ipykernel)",
   "language": "python",
   "name": "python3"
  },
  "language_info": {
   "codemirror_mode": {
    "name": "ipython",
    "version": 3
   },
   "file_extension": ".py",
   "mimetype": "text/x-python",
   "name": "python",
   "nbconvert_exporter": "python",
   "pygments_lexer": "ipython3",
   "version": "3.8.13"
  }
 },
 "nbformat": 4,
 "nbformat_minor": 5
}
