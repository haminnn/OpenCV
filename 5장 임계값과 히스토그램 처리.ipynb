{
 "cells": [
  {
   "cell_type": "markdown",
   "id": "0377e7d1-523e-449a-8ea9-bb3657d15725",
   "metadata": {},
   "source": [
    "## 임계값과 히스토그램 처리"
   ]
  },
  {
   "cell_type": "markdown",
   "id": "05c3e16a-508b-40d4-b07c-1660e3701c6e",
   "metadata": {
    "jp-MarkdownHeadingCollapsed": true,
    "tags": []
   },
   "source": [
    "### 임계값 영상"
   ]
  },
  {
   "cell_type": "markdown",
   "id": "756280b0-b0ca-41b1-ba3b-1bf6c6c58a68",
   "metadata": {},
   "source": [
    "- cv2.threshold(src, thresh, max_val, type[,dst ])"
   ]
  },
  {
   "cell_type": "markdown",
   "id": "cc45d071-e088-416a-a30f-01458b21620e",
   "metadata": {
    "tags": []
   },
   "source": [
    "##### src는 1-채널의 np.uint8 또는 np.float32의 입력 영상이고, dst는 src와 같은 자료형, 같은 크기의 출력 영상이다.\n",
    "##### thresh는 임계값, type은 임계값의 종류이다.\n",
    "##### type에 cv2.THRESH_OTSU를 추가하면 임계값 thresh와 관계 없이 Otsu 알고리즘으로 최적 임계값을 계산하고, retval에 반환한다.\n",
    "##### Otsu 방법은 8비트에서 구현되어 있다"
   ]
  },
  {
   "cell_type": "markdown",
   "id": "9a9e6dfd-2fae-4a03-98f0-fdd45b5268ac",
   "metadata": {},
   "source": [
    "- cv2.adaptiveThreshold(src, max_val, adaptiveMethod, thresholdType, blockSize, C[, dst])"
   ]
  },
  {
   "cell_type": "markdown",
   "id": "4522dbe0-faeb-47ca-865d-a7daaaf109a0",
   "metadata": {},
   "source": [
    "##### adaptiveThreshold() 함수는 적응형 임계값 영상을 계산한다.\n",
    "##### 화소의 이웃을 사용하므로 포인트 프로세싱을 하는 것이 아니지만, 임계값 영상과 관련이 있다\n",
    "##### 입력 영상 src는 8비트 1-채널 영상이며, blockSize x blockSize 크기의 이웃에서 계산한 평균 또는 가중평균에서 함수의 인자인 C 값을 뺄셈하여 임계값을 계산하고, thresholdType에 따라 출력 영상 dst를 계산한다.\n",
    "##### adaptiveMethod는 적응형 임계값 종류이다. cv2.ADAPTIVE_THRESH_MEAN_C이면, blockSize x blockSize 크기의 이웃에서 평균을 계산한 다음 함수의 인자인 C 값을 뺄셈한 값이 임계값 T(y, x)가 된다.\n",
    "##### cv2.ADAPTIVE_THRESH_GAUSSIAN_C이면 blockSize x blockSize 크기의 이웃에서 가우시안 가중평균을 계산한 다음 C 값을 뺄셈한 값이 임계값(y, x)가 된다.\n",
    "##### block_size는 이웃의 크기로 3, 5, 7, 9등과 같이 홀수이다."
   ]
  },
  {
   "cell_type": "markdown",
   "id": "9b5e9083-7783-411e-a6a1-0c47063b4649",
   "metadata": {},
   "source": [
    "#### 실습"
   ]
  },
  {
   "cell_type": "code",
   "execution_count": 21,
   "id": "19261324-d040-405a-b2e8-954b29dad614",
   "metadata": {},
   "outputs": [
    {
     "name": "stdout",
     "output_type": "stream",
     "text": [
      "ret= 120.0\n",
      "ret2= 175.0\n"
     ]
    }
   ],
   "source": [
    "## 임계값 영상\n",
    "# 0501.py\n",
    "import cv2\n",
    "import numpy as np\n",
    "src = cv2.imread('./data/heart10.jpg', cv2.IMREAD_GRAYSCALE)\n",
    "cv2.imshow('src',  src)\n",
    "\n",
    "ret, dst = cv2.threshold(src, 120, 255, cv2.THRESH_BINARY)      # thresh = 120, max_val = 255, type = cv2.THRESH_BINARY으로 임계값 적용\n",
    "print('ret=', ret)\n",
    "cv2.imshow('dst',  dst)\n",
    "\n",
    "ret2, dst2 = cv2.threshold(src, 200, 255,\n",
    "                             cv2.THRESH_BINARY+cv2.THRESH_OTSU) # thresh = 200, max_val = 255, type = cv2.THRESH_BINARY +cv2.THRESH_OTSU\n",
    "print('ret2=', ret2)                                            # 주어진 임계값 200과 상관없이 otsu 알고리즘에 의해 최적화된 임계값이 적용된다.\n",
    "cv2.imshow('dst2',  dst2)\n",
    "\n",
    "cv2.waitKey()    \n",
    "cv2.destroyAllWindows()\n"
   ]
  },
  {
   "cell_type": "code",
   "execution_count": 24,
   "id": "5c455e87-b694-4261-93fd-924edafb8bd6",
   "metadata": {},
   "outputs": [],
   "source": [
    "## 적응형 임계값 영상\n",
    "# 0502.py\n",
    "import cv2\n",
    "import numpy as np\n",
    "src = cv2.imread('./data/srcThreshold.png', cv2.IMREAD_GRAYSCALE)\n",
    "cv2.imshow('src',  src)\n",
    "\n",
    "ret, dst = cv2.threshold(src, 0, 255, cv2.THRESH_BINARY+cv2.THRESH_OTSU) # thresh = 0, max_val = 255이지만 cv2.THRESH_BINARY+cv2.THRESH_OTSU에 의해\n",
    "cv2.imshow('dst',  dst)                                                  # 최적화된 임계값이 적용된다.\n",
    "\n",
    "dst2 = cv2.adaptiveThreshold(src, 255, cv2.ADAPTIVE_THRESH_MEAN_C, cv2.THRESH_BINARY, 51, 7) # 임계값 = 255, adaptiveMethod = cv2.ADAPTIVE_THRESH_MEAN.C,\n",
    "cv2.imshow('dst2',  dst2)                                                                    # thresholdType = cv2.THRESH_BINARY, blockSize = 51, C = 7로\n",
    "                                                                                             # 각각의 화소 별로 적응형 임계값을 적용한다.\n",
    "dst3 = cv2.adaptiveThreshold(src, 255, cv2.ADAPTIVE_THRESH_GAUSSIAN_C, cv2.THRESH_BINARY, 51, 7) # 여기서 C는 평균이나 가중평균에서 차감할 값이다.\n",
    "cv2.imshow('dst3',  dst3)\n",
    "\n",
    "cv2.waitKey()    \n",
    "cv2.destroyAllWindows()\n"
   ]
  },
  {
   "cell_type": "markdown",
   "id": "9eea0d11-cebd-4b29-baee-addfe1bfa0b0",
   "metadata": {
    "jp-MarkdownHeadingCollapsed": true,
    "tags": []
   },
   "source": [
    "### 히스토그램 계산"
   ]
  },
  {
   "cell_type": "markdown",
   "id": "991589a9-f192-485f-ba0c-4da05efc9e26",
   "metadata": {},
   "source": [
    "- cv2.calHist(images, channels, mask, histSize, reanges[, hist[, accumulate ]])"
   ]
  },
  {
   "cell_type": "markdown",
   "id": "bea0e013-8a23-430c-bd57-8c83d0a002ad",
   "metadata": {},
   "source": [
    "##### image는 히스토그램을 계산할 영상의 배열이다.  영상은 같은 크기, 같은 깊이의 8비트 부호 없는 정수 또는 32비트 실수 자료형이다.\n",
    "##### channels는 히스토그램을 계산할 채널 번호를 갖는 정수형 배열이다.\n",
    "##### mask는 images[i]와 같은 크기의 8비트 영상으로, mask(x, y) != 0 인 image[i](x, y)만을 히스토그램 계산에 사용한다.\n",
    "##### mask = None이면 마스크를 사용하지 않고, 모든 화소에서 히스토그램을 계산한다.\n",
    "##### histSize는 결과 히스토그램 hist의 각 빈(bin) 크기에 대한 정수 배열이다.\n",
    "##### ranges는 히스토그램의 각 빈의 경계값 배열의 배열이다. OpenCV 파이썬은 등간격 히스토그램을 계산한다.\n",
    "##### accumulate = True 이면, calcHist() 함수를 수행할 때 히스토그램을 초기화하지 않고, 이전 값을 계속 누적한다.\n",
    "##### hist는 결과 히스토그램이다."
   ]
  },
  {
   "cell_type": "code",
   "execution_count": 29,
   "id": "dd418734-62dc-4084-bf68-4426333622e0",
   "metadata": {},
   "outputs": [
    {
     "name": "stdout",
     "output_type": "stream",
     "text": [
      "hist1 =  [[9.]\n",
      " [3.]\n",
      " [2.]\n",
      " [2.]]\n",
      "hist2 =  [[4.]\n",
      " [5.]\n",
      " [0.]\n",
      " [3.]]\n"
     ]
    }
   ],
   "source": [
    "## 히스토그램 계산1\n",
    "# 0503.py\n",
    "import cv2\n",
    "import numpy as np\n",
    "\n",
    "src = np.array([[0, 0, 0, 0],\n",
    "              [1, 1, 3, 5],\n",
    "              [6, 1, 1, 3],\n",
    "              [4, 3, 1, 7]\n",
    "              ], dtype=np.uint8)\n",
    "\n",
    "hist1 = cv2.calcHist(images=[src], channels=[0], mask=None, # 4x4 배열 src의 0번 채널에서 마스크 지정 없이, 히스토그램 빈 크기 histSize와 범위 ranges로 \n",
    "                    histSize=[4], ranges=[0, 8])            # 히스토그램을 계산한다. 범위 [0,8]에서 0은 포함,8은 포함되지 않는다\n",
    "print('hist1 = ', hist1)\n",
    "\n",
    "hist2 = cv2.calcHist(images=[src], channels=[0], mask=None,\n",
    "                    histSize=[4], ranges=[0, 4])\n",
    "print('hist2 = ', hist2)\n"
   ]
  },
  {
   "cell_type": "code",
   "execution_count": 3,
   "id": "fc6a0ac9-f67e-40c9-a348-ab3a1fd6a425",
   "metadata": {},
   "outputs": [
    {
     "data": {
      "image/png": "[encoded data removed]",
      "text/plain": [
       "<Figure size 432x288 with 1 Axes>"
      ]
     },
     "metadata": {
      "needs_background": "light"
     },
     "output_type": "display_data"
    },
    {
     "data": {
      "image/png": "[encoded data removed]",
      "text/plain": [
       "<Figure size 432x288 with 1 Axes>"
      ]
     },
     "metadata": {
      "needs_background": "light"
     },
     "output_type": "display_data"
    },
    {
     "data": {
      "image/png": "[encoded data removed]",
      "text/plain": [
       "<Figure size 432x288 with 1 Axes>"
      ]
     },
     "metadata": {
      "needs_background": "light"
     },
     "output_type": "display_data"
    }
   ],
   "source": [
    "## 히스토그램 계산 2: 그레이스스케일 영상\n",
    "# 0504.py\n",
    "import cv2\n",
    "import numpy as np\n",
    "from   matplotlib import pyplot as plt\n",
    "\n",
    "src = cv2.imread('./data/lena.jpg', cv2.IMREAD_GRAYSCALE)\n",
    "\n",
    "hist1 = cv2.calcHist(images=[src], channels=[0], mask=None, # 그레이스케일 영상 src의 0번 채널에서 마스크 지정없이, 히스토그램 빈 크기 histSize = [32],\n",
    "                    histSize=[32], ranges=[0, 256])         # 범위 ranges = [0, 256]으로 히스토그램 hist1을 계산한다.\n",
    "\n",
    "hist2 = cv2.calcHist(images=[src], channels=[0], mask=None,\n",
    "                    histSize=[256], ranges=[0, 256])\n",
    "#1\n",
    "hist1 = hist1.flatten()                                     # hist1, hist2의 모양이 각각 hist1.shape = (32,), hist2.shape = (256, )인 1차원 행 배열로 변경한다.\n",
    "hist2 = hist2.flatten()\n",
    "\n",
    "#2\n",
    "plt.title('hist1: binX = np.arange(32)')                    # matplotlib을 사용하여 히스토그램 hist1을 plt.plot()는 꺾은선 그래프, plt.bar()는 막대그래프로 표시\n",
    "plt.plot(hist1, color='r')\n",
    "binX = np.arange(32)                                        # 가로축은 binX = np.arange(32)에 의해 빈의 인덱스이다.\n",
    "\n",
    "plt.bar(binX, hist1, width=1, color='b')\n",
    "plt.show()\n",
    "\n",
    "#3\n",
    "plt.title('hist1: binX = np.arange(32)*8')                  \n",
    "binX = np.arange(32)*8                                      # 가로축 binX = np.arange(32)*8에 의해 각 빈에 카운트된 값의 범위 정보이다.\n",
    "plt.plot(binX, hist1, color='r')\n",
    "plt.bar(binX, hist1, width=8, color='b')                    # 막대그래프의 너비는 8이다.\n",
    "plt.show()\n",
    "\n",
    "#4\n",
    "plt.title('hist2: binX = np.arange(256)')\n",
    "plt.plot(hist2, color='r')\n",
    "binX = np.arange(256)\n",
    "plt.bar(binX, hist2, width=1, color='b')\n",
    "plt.show()\n"
   ]
  },
  {
   "cell_type": "code",
   "execution_count": 28,
   "id": "87253dfc-1dd3-4376-a5fc-faed009a58c3",
   "metadata": {},
   "outputs": [
    {
     "data": {
      "image/png": "[encoded data removed]",
      "text/plain": [
       "<Figure size 432x288 with 1 Axes>"
      ]
     },
     "metadata": {
      "needs_background": "light"
     },
     "output_type": "display_data"
    }
   ],
   "source": [
    "## 히스토그램 계산 3: 컬러 영상\n",
    "# 0505.py\n",
    "import cv2\n",
    "import numpy as np\n",
    "from   matplotlib import pyplot as plt\n",
    "\n",
    "src = cv2.imread('./data/lena.jpg')\n",
    "histColor = ('b', 'g', 'r')\n",
    "for i in range(3):\n",
    "    hist = cv2.calcHist(images=[src], channels=[i], mask=None, # for문에서 컬러 영상 src의 i번 채널에서 마스크 지정 없이,\n",
    "                    histSize=[256], ranges=[0, 256])           # 히스토그램 빈 크기 histSize = [256], 범위 ranges = [0,256]으로 히스토그램을 계산한다.\n",
    "    plt.plot(hist, color = histColor[i])    \n",
    "plt.show()\n"
   ]
  },
  {
   "cell_type": "code",
   "execution_count": 15,
   "id": "0cfa4580-0020-4fa8-9118-c5391b82cf77",
   "metadata": {},
   "outputs": [
    {
     "data": {
      "image/png": "[encoded data removed]",
      "text/plain": [
       "<Figure size 432x288 with 1 Axes>"
      ]
     },
     "metadata": {
      "needs_background": "light"
     },
     "output_type": "display_data"
    },
    {
     "data": {
      "image/png": "[encoded data removed]",
      "text/plain": [
       "<Figure size 432x288 with 1 Axes>"
      ]
     },
     "metadata": {
      "needs_background": "light"
     },
     "output_type": "display_data"
    },
    {
     "data": {
      "image/png": "[encoded data removed]",
      "text/plain": [
       "<Figure size 432x288 with 1 Axes>"
      ]
     },
     "metadata": {
      "needs_background": "light"
     },
     "output_type": "display_data"
    }
   ],
   "source": [
    "## 히스토그램 계산 3: 컬러 영상의 2채널 히스토그램\n",
    "# 0506.py\n",
    "import cv2\n",
    "from   matplotlib import pyplot as plt\n",
    "\n",
    "bgr = cv2.imread('./data/lena.jpg')\n",
    "##hsv    = cv2.cvtColor(src, cv2.COLOR_BGR2HSV)\n",
    "\n",
    "#1\n",
    "hist01 = cv2.calcHist([bgr], [0,1], None,              # cv2.calcHist() 함수로 bgr의 [0, 1] 채널에서 histSize = [32, 32], 범위 ranges = [0, 256, 0, 256]으로\n",
    "\t[32, 32], [0, 256, 0, 256])                        # 히스토그램을 계산하고 표시한다\n",
    "##cv2.normalize(hist01, hist01, 0, 1, cv2.NORM_MINMAX)\n",
    "##fig = plt.figure()\n",
    "##fig.canvas.set_window_title('2D Histogram')\n",
    "\n",
    "plt.title('hist01')\n",
    "plt.ylim(0, 31)\n",
    "plt.imshow(hist01, interpolation = \"nearest\")\n",
    "plt.show()\n",
    "\n",
    "#2\n",
    "hist02 = cv2.calcHist([bgr], [0,2], None,              # cv2.calcHist() 함수로 bgr의 [0, 2] 채널에서 histSizr = [32, 32], 범위 ranges = [0, 256, 0, 256]으로\n",
    "\t[32, 32], [0, 256, 0, 256])                        # 히스토그램을 계산하고 표시한다.\n",
    "plt.title('hist02')\n",
    "plt.ylim(0, 31)\n",
    "plt.imshow(hist02, interpolation = \"nearest\")\n",
    "plt.show()\n",
    "\n",
    "#3\n",
    "hist12 = cv2.calcHist([bgr], [1,2], None,              # cv2.calcHist() 함수로 bgr의 [1, 2] 채널에서 histSizr = [32, 32], 범위 ranges = [0, 256, 0, 256]으로\n",
    "\t[32, 32], [0, 256, 0, 256])                        # 히스토그램을 계산하고 표시한다.\n",
    "plt.title('hist12')\n",
    "plt.ylim(0, 31)\n",
    "plt.imshow(hist02, interpolation = \"nearest\")\n",
    "plt.show()\n"
   ]
  },
  {
   "cell_type": "markdown",
   "id": "b2ce04b0-f22b-4633-bca4-744dee89d404",
   "metadata": {
    "jp-MarkdownHeadingCollapsed": true,
    "tags": []
   },
   "source": [
    "### 히스토그램 역투영"
   ]
  },
  {
   "cell_type": "markdown",
   "id": "95142f42-3934-4013-96ee-45447dbfcd5f",
   "metadata": {},
   "source": [
    "- cv2. calcBackProject(images, channels, hist, ranges, scale[, dst])"
   ]
  },
  {
   "cell_type": "markdown",
   "id": "3ecec89e-55cb-431f-8d32-16e9aa998954",
   "metadata": {},
   "source": [
    "##### images는 히스토그램 역투영할 영상의 배열이다. 영상은 같은 크기, 같은 깊이의 8비트 부호 없는 정수 또는 32비트 실수 자료형이다.\n",
    "##### channels는 히스토그램 역투영을 계산할 채널 번호를 갖는 정수형 배열이다.\n",
    "##### hist는 입력으로 사용되는 히스토그램이다.\n",
    "##### ranges는 히스토그램의 각 차원 빈의 경계값의 배열의 배열이다. OpenCV 파이썬은 등간격 히스토그램을 계산한다.\n",
    "##### ranges는 히스토그램의 각 빈의 경계값 배열의 배열이다.\n",
    "##### scale은 출력 역투영 행렬에 적용될 스케일 값으로 디폴트 스케일은 scale = 1이다.\n",
    "##### dst는 역투영 결과 영상이다."
   ]
  },
  {
   "cell_type": "markdown",
   "id": "da92793c-53b0-4307-911a-7c8ba5e08703",
   "metadata": {},
   "source": [
    "#### 실습"
   ]
  },
  {
   "cell_type": "code",
   "execution_count": 17,
   "id": "8d0ce764-d046-46dc-b757-bdcd0516815b",
   "metadata": {},
   "outputs": [
    {
     "name": "stdout",
     "output_type": "stream",
     "text": [
      "hist =  [[9.]\n",
      " [3.]\n",
      " [2.]\n",
      " [2.]]\n",
      "backP =  [[9 9 9 9]\n",
      " [9 9 3 2]\n",
      " [2 9 9 3]\n",
      " [2 3 9 2]]\n"
     ]
    }
   ],
   "source": [
    "## 영상 속성 1: 모양과 자료형\n",
    "# 0507.py\n",
    "import cv2\n",
    "import numpy as np\n",
    "\n",
    "src = np.array([[0, 0, 0, 0],\n",
    "              [1, 1, 3, 5],\n",
    "              [6, 1, 1, 3],\n",
    "              [4, 3, 1, 7]\n",
    "              ], dtype=np.uint8)\n",
    "\n",
    "hist = cv2.calcHist(images=[src], channels=[0], mask=None,     # 4x4 배열 src의 0번 채널에서 마스크 지정 없이, 히스토그램 빈 크기, 범위로 hist를 계산한다.\n",
    "                    histSize=[4], ranges=[0, 8])\n",
    "print('hist = ', hist)\n",
    "\n",
    "backP = cv2.calcBackProject([src], [0], hist, [0, 8], scale=1) # hist를 이용하여 역투영 backP를 계산한다.\n",
    "print('backP = ', backP)\n"
   ]
  },
  {
   "cell_type": "code",
   "execution_count": 24,
   "id": "bd19f340-030b-49ad-9860-9f1bbc72c32b",
   "metadata": {},
   "outputs": [
    {
     "name": "stdout",
     "output_type": "stream",
     "text": [
      "roi = (116, 451, 36, 24)\n",
      "T = 172.0\n"
     ]
    }
   ],
   "source": [
    "## Hue-채널의 히스토그램 역투영\n",
    "# 0508.py\n",
    "import cv2\n",
    "import numpy as np\n",
    "\n",
    "#1\n",
    "src = cv2.imread('./data/fruits.jpg')\n",
    "hsv = cv2.cvtColor(src, cv2.COLOR_BGR2HSV)  # 컬러 영상 src를 HSV 컬러영상 hsv로 변환\n",
    "h, s, v = cv2.split(hsv) # b, g, r순으로 h, s, v에 채널 분리\n",
    "\n",
    "#2\n",
    "roi = cv2.selectROI(src) # 마우스 영역을 사용하여 관심영역 roi를 지정\n",
    "print('roi =', roi)\n",
    "roi_h = h[roi[1]:roi[1]+roi[3], roi[0]:roi[0]+roi[2]]\n",
    "hist = cv2.calcHist([roi_h], [0], None,[64], [0, 256]) # h-채널의 관심 영역 roi_h에서 64빈으로 hist를 계산\n",
    "backP= cv2.calcBackProject([h.astype(np.float32)], [0], hist,[0, 256],scale=1.0) # hist를 h-채널 영상으로 역투영한 backP를 계산\n",
    "##minVal, maxVal, minLoc, maxLoc = cv2.minMaxLoc(backP)\n",
    "##T = maxVal -1 # threshold\n",
    "\n",
    "#3\n",
    "hist = cv2.sort(hist, cv2.SORT_EVERY_COLUMN+cv2.SORT_DESCENDING) # hist의 각 열을 내림차순으로 정렬한다.\n",
    "k = 1 \n",
    "T = hist[k][0] -1 # threshold  # 임계값 설정\n",
    "print('T =', T)\n",
    "ret, dst = cv2.threshold(backP, T, 255, cv2.THRESH_BINARY) # 입력영상 backP에서 임계값 T = 255이고 type은 cv2.THRESH_BINARY으로 적용하면\n",
    "                                                           # 관심 영역의 h-채널 화소 히스토그램/분포에서 가장 많은 k번째까지의 화소로 255로 검출된다.\n",
    "\n",
    "cv2.imshow('dst',  dst)\n",
    "cv2.waitKey()    \n",
    "cv2.destroyAllWindows()\n"
   ]
  },
  {
   "cell_type": "markdown",
   "id": "b1019964-1a8f-47f1-a7f4-ff41158717dc",
   "metadata": {
    "jp-MarkdownHeadingCollapsed": true,
    "tags": []
   },
   "source": [
    "### 히스토그램 비교"
   ]
  },
  {
   "cell_type": "markdown",
   "id": "a85860ec-dfaa-4145-a334-0cbdb72bcc36",
   "metadata": {},
   "source": [
    "- cv2.compareHist(H1, H2, method)"
   ]
  },
  {
   "cell_type": "markdown",
   "id": "75308fea-cedc-4885-95b7-c818fa39f89b",
   "metadata": {},
   "source": [
    "##### 두 개의 히스토그램 H1과 H2를 method 방법으로 비교하여, d(H1, H2)를 반환한다.\n",
    "##### method = cv2.HISTCMP_CORREL : -1 <= d(H1, H2) <= 1, d(H1, H2)의 절대값이 크면 H1과 H2는 유사한 히스토그램이다.\n",
    "##### method = cv2.HISTCMP_CHISQR : d(H1, H2)은 히스토그램 크기에 의존하며, 값이 작으면 H1과 H2는 유사한 히스토그램이다.\n",
    "##### method = cv2.HISTCMP_INTERSECT : d(H1, H2)값이 크면 H1과 H2는 유사한 히스토그램이다. 정규화된 히스토그램에서는 0 <= d(H1, H2) <= 1이다.\n",
    "##### method = cv2.HISTCMP_BHATTACHARYYA : 정규화된 히스토그램에서만 적용할 수 있다. 0 <= d(H1, H2) <= 1, d(H1, H2)값이 작으면 H1과 H2는 유사한 히스토그램이다."
   ]
  },
  {
   "cell_type": "markdown",
   "id": "5a7de673-933f-495f-b346-16bf0aba99ce",
   "metadata": {},
   "source": [
    "- cv2.EMD(S1, S2, distType[, cost[, lowerBound[, flow]]])"
   ]
  },
  {
   "cell_type": "markdown",
   "id": "c43e6f33-13ce-4da0-b957-62a938bb4cd0",
   "metadata": {},
   "source": [
    "##### EMD() 함수는 2개의 가중치를 갖는 좌표이 최소 일을 계산한다. 시그니처 입력 S1, S2는 32비트 실수 자료형이고, 행렬의 각 행에 가중치가 가장 먼저 오고, 이어서 위치 정보가 온다. 반환 값은 retval은 EMD로 0에 가까우면 S1, S2는 비슷한 시그니쳐이다.\n",
    "##### distType은 거리 계산 유형으로 cv2.DIST_L1, cv2.DIST_L2, cv2.DIST_C 등이 있다.\n",
    "##### lowerBound는 두 좌표의 중심 사이의 거리이며 입출력 변수이다. cost가 주어지거나, 두 분포의 가중치 합이 다르면 lowerBound는 계산하지 않는다. lowerBound는 항상 두 개의 무게중심 사이에 계산된 거리를 반환한다. lowerBound를 임의의 값으로 초기화하고, 계산된 중심 사이의 거리가 lowerBound보다 크거나 같으면, EMD를 계산하지 않는다."
   ]
  },
  {
   "cell_type": "code",
   "execution_count": 27,
   "id": "f1687deb-5ec9-4d36-a460-9a565d09f68c",
   "metadata": {},
   "outputs": [
    {
     "name": "stdout",
     "output_type": "stream",
     "text": [
      "d1(H1, H2, CORREL) = 0.5678297667012095\n",
      "d2(H1, H2, CHISQR)= 25.352066238447115\n",
      "d3(H1, H2, INTERSECT)= 0.48498999089497374\n",
      "d4(H1, H2, BHATTACHARYYA)= 0.4927035254397354\n"
     ]
    },
    {
     "data": {
      "image/png": "[encoded data removed]",
      "text/plain": [
       "<Figure size 432x288 with 1 Axes>"
      ]
     },
     "metadata": {
      "needs_background": "light"
     },
     "output_type": "display_data"
    }
   ],
   "source": [
    "## cv2.compareHist(): 1차원 히스토그램 비교\n",
    "# 0509.py\n",
    "import cv2\n",
    "import numpy as np\n",
    "import time\n",
    "from   matplotlib import pyplot as plt\n",
    "\n",
    "#1\n",
    "nPoints = 100000\n",
    "pts1 = np.zeros((nPoints, 1), dtype=np.uint16)  \n",
    "pts2 = np.zeros((nPoints, 1), dtype=np.uint16)\n",
    "\n",
    "cv2.setRNGSeed(int(time.time()))\n",
    "cv2.randn(pts1, mean=(128), stddev=(10)) # pts1에 nPoints개의 mean = 128, stddv = 10인 정규분포 난수를 생성\n",
    "cv2.randn(pts2, mean=(110), stddev=(20)) # pts2에 nPoints개의 mean = 110, stddv = 20인 정규분포 난수를 생성\n",
    "\n",
    "#2\n",
    "H1 = cv2.calcHist(images=[pts1], channels=[0], mask=None, # pts1 히스토그램을 H1에 계산하고, cv2.CORM_L1 놈으로 정규화하여 sum(H1)이 1이 되게 하여 확률로 변경한다.\n",
    "                    histSize=[256], ranges=[0, 256])\n",
    "cv2.normalize(H1, H1, 1, 0, cv2.NORM_L1)\n",
    "plt.plot(H1, color='r', label='H1')\n",
    "\n",
    "H2 = cv2.calcHist(images=[pts2], channels=[0], mask=None, # pts2 히스토그램을 H2에 계산하고, cv2.CORM_L1 놈으로 정규화하여 sum(H2)이 1이 되게 하여 확률로 변경한다.\n",
    "                    histSize=[256], ranges=[0, 256])\n",
    "cv2.normalize(H2, H2, 1, 0, cv2.NORM_L1)\n",
    "\n",
    "#3\n",
    "d1 = cv2.compareHist(H1, H2, cv2.HISTCMP_CORREL)\n",
    "d2 = cv2.compareHist(H1, H2, cv2.HISTCMP_CHISQR)\n",
    "d3 = cv2.compareHist(H1, H2, cv2.HISTCMP_INTERSECT)\n",
    "d4 = cv2.compareHist(H1, H2, cv2.HISTCMP_BHATTACHARYYA)\n",
    "print('d1(H1, H2, CORREL) =',       d1)\n",
    "print('d2(H1, H2, CHISQR)=',        d2)\n",
    "print('d3(H1, H2, INTERSECT)=',     d3)\n",
    "print('d4(H1, H2, BHATTACHARYYA)=', d4)\n",
    "\n",
    "plt.plot(H2, color='b', label='H2')\n",
    "plt.legend(loc='best')\n",
    "plt.show()\n"
   ]
  },
  {
   "cell_type": "code",
   "execution_count": 30,
   "id": "70d00a5b-b973-42f3-acaf-6589c7a0a92a",
   "metadata": {},
   "outputs": [
    {
     "name": "stdout",
     "output_type": "stream",
     "text": [
      "EMD(S1, S2, DIST_L1) = 18.296119689941406\n",
      "EMD(S1, S2, DIST_L2) = 18.296119689941406\n",
      "EMD(S1, S2, DIST_C) = 18.296119689941406\n"
     ]
    },
    {
     "data": {
      "image/png": "[encoded data removed]",
      "text/plain": [
       "<Figure size 432x288 with 1 Axes>"
      ]
     },
     "metadata": {
      "needs_background": "light"
     },
     "output_type": "display_data"
    }
   ],
   "source": [
    "## cv2.EMD(): 1차원 히스토그램 비교\n",
    "# 0510.py\n",
    "import cv2\n",
    "import numpy as np\n",
    "import time\n",
    "from   matplotlib import pyplot as plt\n",
    "\n",
    "#1\n",
    "nPoints = 100000\n",
    "pts1 = np.zeros((nPoints, 1), dtype=np.uint16)\n",
    "pts2 = np.zeros((nPoints, 1), dtype=np.uint16)\n",
    "\n",
    "cv2.setRNGSeed(int(time.time()))\n",
    "cv2.randn(pts1, mean=(128), stddev=(10)) # pts1에 nPoints개의 mean = 128, stddev = 10인 정규분포 난수를 생성한다.\n",
    "cv2.randn(pts2, mean=(110), stddev=(20)) # pts2에 nPoints개의 mean = 110, stddev = 20인 정규분포 난수를 생성한다.\n",
    "\n",
    "#2\n",
    "H1 = cv2.calcHist(images=[pts1], channels=[0], mask=None, # pts1의 히스토그램을 H1에 계산한다.\n",
    "                    histSize=[256], ranges=[0, 256])\n",
    "##cv2.normalize(H1, H1, norm_type=cv2.NORM_L1)\n",
    "\n",
    "H2 = cv2.calcHist(images=[pts2], channels=[0], mask=None,\n",
    "                    histSize=[256], ranges=[0, 256])\n",
    "##cv2.normalize(H2, H2, norm_type=cv2.NORM_L1)\n",
    "\n",
    "#3\n",
    "S1 = np.zeros((H1.shape[0], 2), dtype=np.float32) # 시그니쳐 배열 S1, S2의 0-열에 가중치로 각각 히스토그램 H1, H2을 복사하고,\n",
    "S2 = np.zeros((H1.shape[0], 2), dtype=np.float32) # 1-열에 배열의 첨자를 위치정보로 하여, cv2.EMP() 함수로 cv2.DIST_L1, cv2.DIST_L2, cv2.DIST_C의 EMD를\n",
    "##S1[:, 0] = H1[:, 0]                             # 각각 emd1, emd2, emd3에 계산하면, EMD가 모두 같다. 히스토그램을 정규화해도 같은 EMD를 갖는다.\n",
    "##S2[:, 0] = H2[:, 0]                             # 정확히 같은 히스토그램에 대해 EMD를 계산하면 0이다.\n",
    "for i in range(S1.shape[0]):\n",
    "    S1[i, 0] = H1[i,0]\n",
    "    S2[i, 0] = H2[i,0]\n",
    "    S1[i, 1] = i\n",
    "    S2[i, 1] = i\n",
    "\n",
    "emd1, lowerBound, flow = cv2.EMD(S1, S2, cv2.DIST_L1)\n",
    "print('EMD(S1, S2, DIST_L1) =',  emd1)\n",
    "\n",
    "emd2, lowerBound, flow = cv2.EMD(S1, S2, cv2.DIST_L2)\n",
    "print('EMD(S1, S2, DIST_L2) =',  emd2)\n",
    "\n",
    "emd3, lowerBound, flow = cv2.EMD(S1, S2, cv2.DIST_C) \n",
    "print('EMD(S1, S2, DIST_C) =',  emd3)\n",
    "\n",
    "plt.plot(H1, color='r', label='H1')\n",
    "plt.plot(H2, color='b', label='H2')\n",
    "plt.legend(loc='best')\n",
    "plt.show()\n"
   ]
  },
  {
   "cell_type": "markdown",
   "id": "97bb77a8-13aa-41b2-901f-b436a007b0a5",
   "metadata": {
    "jp-MarkdownHeadingCollapsed": true,
    "tags": []
   },
   "source": [
    "### 히스토그램 평활화(Equalization)"
   ]
  },
  {
   "cell_type": "markdown",
   "id": "95c6a007-44ea-4aca-b8df-192f6b931410",
   "metadata": {},
   "source": [
    "- cv2.equalizeHist(src[, dst])"
   ]
  },
  {
   "cell_type": "markdown",
   "id": "31234d82-9837-4944-b4cb-7e872633fe5c",
   "metadata": {},
   "source": [
    "##### src는 1채널 8비트 영상이고, dst는 src와 같은 크기, 같은 종류의 히스토그램 평활화된 출력 영상이다. 히스토그램 평활화 알고리즘은 다음과 같다.\n",
    "##### a. src 영상에서 256개의 빈에 히스토그램 hist를 계산한다.\n",
    "##### b. hist의 누적합계 cdf를 계산한다.\n",
    "##### c. cdf에서 0을 제외한 최소값과 최대값을 계산한다.\n",
    "##### d. 변환표 T를 계산한다."
   ]
  },
  {
   "cell_type": "code",
   "execution_count": 34,
   "id": "73577603-2882-45df-95b4-65f9c5bae032",
   "metadata": {},
   "outputs": [
    {
     "name": "stdout",
     "output_type": "stream",
     "text": [
      "dst = [[  0   0 255 255]\n",
      " [  0   0 255 255]\n",
      " [255 255 255 255]\n",
      " [255 255 255 255]]\n",
      "dst2 = [[  0   0 255 255]\n",
      " [  0   0 255 255]\n",
      " [255 255 255 255]\n",
      " [255 255 255 255]]\n"
     ]
    }
   ],
   "source": [
    "## 배열의 히스토그램 평활화\n",
    "# 0511.py\n",
    "import cv2\n",
    "import numpy as np\n",
    "\n",
    "src = np.array([[2, 2, 4, 4],\n",
    "                [2, 2, 4, 4],\n",
    "                [4, 4, 4, 4],\n",
    "                [4, 4, 4, 4]\n",
    "              ], dtype=np.uint8) # 배열 src는 화소값의 범위가 [2,4]로 좁은 범위에 걸쳐 있어 어두운 영상이다.\n",
    "#1\n",
    "dst = cv2.equalizeHist(src)      # dst = cv2.equalizeHist(src)에서 저대비 영상 src를 히스토그램 평활화한 결과 영상인 dst는 화소값의 범위가 [0, 255]로 넓은 고대비 영상이다.\n",
    "print('dst =', dst)\n",
    "\n",
    "#2                               # 히스토그램 평활화한 알고리즘을 직접 구현한다.\n",
    "'''\n",
    "ref: https://docs.opencv.org/master/d5/daf/tutorial_py_histogram_equalization.html\n",
    "'''\n",
    "##hist = cv2.calcHist(images = [src], channels = [0], mask = None,\n",
    "##                    histSize = [256], ranges = [0, 256])\n",
    "hist,bins = np.histogram(src.flatten(),256,[0,256])\n",
    "cdf = hist.cumsum()\n",
    "cdf_m = np.ma.masked_equal(cdf, 0) # cdf에서 0을 True 마스킹  \n",
    "T = (cdf_m - cdf_m.min())*255/(cdf_m.max()-cdf_m.min())\n",
    "T = np.ma.filled(T, 0).astype('uint8') # 마스킹을 0으로 채우기 \n",
    "dst2 = T[src] # dst2 == dst\n",
    "print('dst2 =', dst2)\n"
   ]
  },
  {
   "cell_type": "code",
   "execution_count": 36,
   "id": "91198d9c-33bc-4f70-9b22-9d94a3df0eb5",
   "metadata": {},
   "outputs": [
    {
     "data": {
      "image/png": "[encoded data removed]",
      "text/plain": [
       "<Figure size 432x288 with 1 Axes>"
      ]
     },
     "metadata": {
      "needs_background": "light"
     },
     "output_type": "display_data"
    }
   ],
   "source": [
    "## 그레이스케일 영상의 히스토그램 평활화\n",
    "# 0512.py\n",
    "import cv2\n",
    "import numpy as np\n",
    "from   matplotlib import pyplot as plt\n",
    "\n",
    "src = cv2.imread('./data/lena.jpg', cv2.IMREAD_GRAYSCALE)\n",
    "dst = cv2.equalizeHist(src)                                # 그레이스케일 영상 src를 cv2.equalizeHist()로 히스토그램 평활화한 영상 dst\n",
    "cv2.imshow('dst',  dst)\n",
    "cv2.waitKey()    \n",
    "cv2.destroyAllWindows()\n",
    "\n",
    "plt.title('Grayscale histogram of lena.jpg')\n",
    "\n",
    "hist1 = cv2.calcHist(images=[src], channels=[0], mask=None,\n",
    "                    histSize=[256], ranges=[0, 256])\n",
    "plt.plot(hist1, color='b', label='hist1 in src')\n",
    "\n",
    "hist2 = cv2.calcHist(images=[dst], channels=[0], mask=None,\n",
    "                    histSize=[256], ranges=[0, 256])\n",
    "plt.plot(hist2, color='r', alpha=0.7, label='hist2 in dst')\n",
    "plt.legend(loc='best')\n",
    "plt.show()\n"
   ]
  },
  {
   "cell_type": "code",
   "execution_count": 1,
   "id": "38cdea54-aee0-44a8-b48b-621888070aea",
   "metadata": {},
   "outputs": [],
   "source": [
    "## 컬러 영상의 히스토그램 평활화\n",
    "# BGR 컬러 영상 src를 BGR 컬러 영상의 히스토그램의 평활화는 HSV,YCrCb 등의 컬러 모델로 변환을 한 후에\n",
    "# 밝기값 채널(V, Y)에 히스토그램 평활화를 적용하고 BGR 컬러 영상으로 변환한다.\n",
    "# 0513.py\n",
    "import cv2\n",
    "import numpy as np\n",
    "\n",
    "src = cv2.imread('./data/lena.jpg')\n",
    "cv2.imshow('src',  src)\n",
    "\n",
    "#1\n",
    "hsv    = cv2.cvtColor(src, cv2.COLOR_BGR2HSV)        # cv2.cvtColor()로 BGR컬러 영상 src를 HSV 컬러 영상 hsv로 변환\n",
    "h, s, v = cv2.split(hsv)                             # cv2.split()로 hsv를 h, s, v에 채널 분리\n",
    "\n",
    "v2 = cv2.equalizeHist(v)                             # v를 v2에 히스토그램 평활화\n",
    "hsv2 = cv2.merge([h, s, v2])                         # 분리된 채널을 cv2.merge()로 [h, s, v2]를 hsv2에 채널 합성\n",
    "dst    = cv2.cvtColor(hsv2, cv2.COLOR_HSV2BGR)       # cv2.cvtColor()로 HSV컬러 영상 hsv2를 BGR 컬러 영상 dst로 변환\n",
    "cv2.imshow('dst',  dst)\n",
    "\n",
    "#2\n",
    "yCrCv = cv2.cvtColor(src, cv2.COLOR_BGR2YCrCb)\n",
    "y, Cr, Cv = cv2.split(yCrCv)\n",
    "\n",
    "y2 = cv2.equalizeHist(y)\n",
    "yCrCv2 = cv2.merge([y2, Cr, Cv])\n",
    "dst2    = cv2.cvtColor(yCrCv2, cv2.COLOR_YCrCb2BGR)\n",
    "\n",
    "cv2.imshow('dst2',  dst2)\n",
    "cv2.waitKey()    \n",
    "cv2.destroyAllWindows()\n"
   ]
  },
  {
   "cell_type": "markdown",
   "id": "d0fcf52f-68cc-4ae6-9af5-7ec2787a880b",
   "metadata": {
    "jp-MarkdownHeadingCollapsed": true,
    "tags": []
   },
   "source": [
    "### CLAHE 히스토그램 평활화"
   ]
  },
  {
   "cell_type": "markdown",
   "id": "194fa50c-cd79-4f8f-8f55-ae6273fe520c",
   "metadata": {},
   "source": [
    "1. 영상을 타일로 나누어 각 타일의 히스토그램을 계산한다.\n",
    "2. 각 타일의 히스토그램에서 clopLimit보다 큰 값은 전체 빈에 재분배한다. clipLimit는 히스토그램 크기와 타일의 크기를 고려하여 계산한다.\n",
    "3. 각 타일의 히스토그램 평활화를 수행하고, 타일 경계에서 문제를 해결하기 위하여 4개의 이웃 타일의 히스토그램을 이용하여 양선형 보간한다."
   ]
  },
  {
   "cell_type": "markdown",
   "id": "e090f9cc-c604-4115-928f-0f39d56d09a6",
   "metadata": {},
   "source": [
    "- cv2.createCLAHE([, clipLimit[, tileGridSize]])"
   ]
  },
  {
   "cell_type": "markdown",
   "id": "99933241-102c-48d7-88a5-267214107a44",
   "metadata": {},
   "source": [
    "##### cv2.createCLAHE()는 대비제한 임계값과 타일 그리드 크기를 이용하여 CLAHE 객체를 생성한다."
   ]
  },
  {
   "cell_type": "markdown",
   "id": "11c561d2-d26a-4c7e-9867-2841e1ae318d",
   "metadata": {},
   "source": [
    "- cv2.create.apply(src[, dst])"
   ]
  },
  {
   "cell_type": "markdown",
   "id": "669c0de7-2496-4343-bbc3-45a97f495cbb",
   "metadata": {},
   "source": [
    "##### apply() 메소드는 src영상에 CLAHE를 적용하여 히스토그램을 평활화한다."
   ]
  },
  {
   "cell_type": "markdown",
   "id": "67742343-0234-4d6c-960a-acef4dcd5b6f",
   "metadata": {},
   "source": [
    "#### 실습"
   ]
  },
  {
   "cell_type": "code",
   "execution_count": 5,
   "id": "06914fe4-8ad0-4a26-814f-7f5cf75e61a6",
   "metadata": {},
   "outputs": [
    {
     "name": "stdout",
     "output_type": "stream",
     "text": [
      "dst=\n",
      " [[116 116 116 116  44  44  44  44]\n",
      " [116  76  76 116  44  44  44  44]\n",
      " [116  76  76 116  44  44  44  44]\n",
      " [116 116 116 116  44  44  44  44]\n",
      " [ 44  44  44  44 255 255 255 255]\n",
      " [ 44  44  44  44 255  76  76 255]\n",
      " [ 44  44  44  44 255  76  76 255]\n",
      " [ 44  44  44  44 255 255 255 255]]\n",
      "dst2=\n",
      " [[ 80  80  80  72  32  40  48  48]\n",
      " [ 80  48  48  72  32  40  48  48]\n",
      " [ 80  48  48  72  32  40  48  48]\n",
      " [ 72  72  72  66  32  36  40  40]\n",
      " [ 32  32  32  32 255 255 255 255]\n",
      " [ 40  40  40  36 255  48  48 255]\n",
      " [ 48  48  48  40 255  48  48 255]\n",
      " [ 48  48  48  40 255 255 255 255]]\n"
     ]
    }
   ],
   "source": [
    "## CLAHE 히스토그램 평활화\n",
    "# 0514.py\n",
    "import cv2\n",
    "import numpy as np\n",
    "\n",
    "src = np.array([[2, 2, 2, 2, 0,   0,   0,   0],\n",
    "                [2, 1, 1, 2, 0,   0,   0,   0],\n",
    "                [2, 1, 1, 2, 0,   0,   0,   0],\n",
    "                [2, 2, 2, 2, 0,   0,   0,   0],\n",
    "                [0, 0, 0, 0, 255, 255, 255, 255],\n",
    "                [0, 0, 0, 0, 255, 1,   1,   255],\n",
    "                [0, 0, 0, 0, 255, 1,   1,   255],\n",
    "                [0, 0, 0, 0, 255, 255, 255, 255]], dtype=np.uint8)\n",
    "\n",
    "#1\n",
    "clahe = cv2.createCLAHE(clipLimit=40, tileGridSize=(1,1))  # clipLimit = 40, tileGridSize = (1,1)로 clahe 객체를 생성하고\n",
    "dst = clahe.apply(src)                                     # clahe.apply(src)로 src를 적용하여 평활화한다.. tileGridSize = (1,1), tileArea = 8x8이다.\n",
    "print(\"dst=\\n\", dst)                                       # 8-비트 그레이스케일 영상에서 histSize = 256이므로, clipLimit = 40 * 64 /256 = 10이다.\n",
    "                                                           # tileGridSize = (1,1)이므로 히스토그램은 1개만 계산한다. 히스토그램에서 clipLimit = 10보다 큰 값은\n",
    "                                                           # 히스토그램에 균등하게 재분배한다.\n",
    "#2\n",
    "clahe2 = cv2.createCLAHE(clipLimit=40, tileGridSize=(2,2))\n",
    "dst2 = clahe2.apply(src)\n",
    "print(\"dst2=\\n\", dst2)\n"
   ]
  },
  {
   "cell_type": "code",
   "execution_count": 6,
   "id": "af957fae-c371-4d08-b3a5-fbd0936be595",
   "metadata": {},
   "outputs": [
    {
     "name": "stdout",
     "output_type": "stream",
     "text": [
      "clipLimit= 2.5\n",
      "dst=\n",
      " [[ 80  80  80  72  32  40  48  48]\n",
      " [ 80  48  48  72  32  40  48  48]\n",
      " [ 80  48  48  72  32  40  48  48]\n",
      " [ 72  72  72  66  32  36  40  40]\n",
      " [ 32  32  32  32 247 247 247 247]\n",
      " [ 40  40  40  36 247  48  48 243]\n",
      " [ 48  48  48  40 247  48  48 239]\n",
      " [ 48  48  48  40 247 243 239 239]]\n"
     ]
    }
   ],
   "source": [
    "## CLAHE 구현\n",
    "#0515.py\n",
    "'''\n",
    "ref1: https://github.com/opencv/opencv/blob/master/modules/imgproc/src/clahe.cpp#L157 \n",
    "ref2:http://www.realtimerendering.com/resources/GraphicsGems/gemsiv/clahe.c\n",
    "ref3:https://gist.github.com/sadimanna/52c320ce5c49e200ce398f800d39a2c1#file-clahe-py\n",
    "\n",
    "'''\n",
    "# CLAHE 알고리즘을 ref1: OpenCv 소스, ref2: Graphics Gems IV, ref3을 참고하여 작성하였다.\n",
    "# 영상 크기와 타일의 크기에 따라 패딩이 필요할 수 있지만, 여기서는 패딩 없이, histSize = 256로 히스토그램을 계산하고, 히스토그램 재분배를 한 번만 수행하여 구현하였다.\n",
    "import cv2\n",
    "import numpy as np\n",
    "\n",
    "#1\n",
    "src = np.array([[2, 2, 2, 2, 0,   0,   0,   0],                           \n",
    "                [2, 1, 1, 2, 0,   0,   0,   0],\n",
    "                [2, 1, 1, 2, 0,   0,   0,   0],\n",
    "                [2, 2, 2, 2, 0,   0,   0,   0],\n",
    "                [0, 0, 0, 0, 255, 255, 255, 255],\n",
    "                [0, 0, 0, 0, 255, 1,   1,   255],\n",
    "                [0, 0, 0, 0, 255, 1,   1,   255],\n",
    "                [0, 0, 0, 0, 255, 255, 255, 255]], dtype=np.uint8)\n",
    "\n",
    "#2\n",
    "def interpolate(sub_image, UL,UR,BL,BR):\n",
    "    dst = np.zeros(sub_image.shape)\n",
    "    sY, sX = sub_image.shape\n",
    "    area = sX*sY\n",
    "    #print(\"sX={}, sY={}\".format(sX, sY))\n",
    "\n",
    "    for y in range(sY):\n",
    "        invY = sY-y\n",
    "        for x in range(sX):\n",
    "            invX = sX-x\n",
    "            val = sub_image[y, x].astype(int)\n",
    "            dst[y,x] = np.floor((invY*(invX*UL[val] + x*UR[val])+\\\n",
    "                                    y*(invX*BL[val] + x*BR[val]) )/area)          \n",
    "    return dst\n",
    "# interpolate() 함수는 4-개의 타일의 히스토그램 평활화 변환표인 UL, UR, BL, BR을 이용하여 sub_image를 dst에 양선형 보간한다.\n",
    "# UL은 UL변환표로 val을 평활화한 결과이다.\n",
    "\n",
    "#3\n",
    "def CLAHE(src, clipLimit = 40.0, tileX = 8, tileY = 8):\n",
    "# src영상에서 대비 제한 적응 평활화한 결과 dst을 반환하는 CLAHE()함수를 정의한다.\n",
    "\n",
    "#3-1\n",
    "    histSize = 256    \n",
    "    tileSizeX = src.shape[1]//tileX\n",
    "    tileSizeY = src.shape[0]//tileY\n",
    "    tileArea  = tileSizeX*tileSizeY\n",
    "    clipLimit = max(clipLimit*tileArea/histSize, 1)\n",
    "    lutScale = (histSize - 1) / tileArea\n",
    "    print(\"clipLimit=\", clipLimit)\n",
    "\n",
    "    LUT = np.zeros((tileY, tileX, histSize))\n",
    "    dst = np.zeros_like(src)\n",
    "    #print(\"tileX={}, tileY={}\".format(tileX, tileY))\n",
    "# tileSizeX, tileSizeY는 타일의 픽셀 크기이고, tileArea은 픽셀 개수이다.\n",
    "# clipLimit는 max(clipLimit * tileArea / histSize, 1)에 의해 다시 계산한다.\n",
    "# lutScale은 누적 히스토그램 cdf에 곱할 스케일값이다.\n",
    "# LUT는 각 타일의 히스토그램 평활화를 위한 변환표이다.\n",
    "\n",
    "#3-2: sublocks, tiles\n",
    "    for iy in range(tileY):\n",
    "        for ix in range(tileX):\n",
    "            \n",
    "#3-2-1\n",
    "            y = iy*tileSizeY\n",
    "            x = ix*tileSizeX\n",
    "            roi = src[y:y+tileSizeY, x:x+tileSizeX] # tile\n",
    "            \n",
    "            tileHist, bins = np.histogram(roi, histSize,[0,256])\n",
    "            #tileHist=cv2.calcHist([roi],[0],None,[histSize],[0,256]).astype(np.int)\n",
    "            #tileHist = tileHist.flatten()                                           \n",
    "            #print(\"tileHist[{},{}]=\\n{}\".format(iy, ix, tileHist))\n",
    "# 타일의 히스토그램을 계산\n",
    "\n",
    "#3-2-2                  \n",
    "            if clipLimit > 0: # clip histogram\n",
    "                clipped = 0\n",
    "                for i in range(histSize):\n",
    "                    if tileHist[i]>clipLimit:\n",
    "                        clipped += tileHist[i] - clipLimit\n",
    "                        tileHist[i] = clipLimit\n",
    "        \n",
    "                # redistribute clipped pixels    \n",
    "                redistBatch = int(clipped/ histSize)\n",
    "                residual = clipped - redistBatch * histSize\n",
    "                \n",
    "                for i in range(histSize):\n",
    "                    tileHist[i] += redistBatch\n",
    "                if residual != 0:\n",
    "                    residualStep = max(int(histSize/residual), 1)\n",
    "                    for i in range(0, histSize, residualStep):\n",
    "                        if residual> 0:\n",
    "                            tileHist[i] += 1\n",
    "                            residual -= 1                            \n",
    "            #print(\"redistributed[{},{}]=\\n{}\".format(iy, ix, tileHist))\n",
    "# clipLimit보다 큰 히스토그램 빈의 크기의 합계를 clipped에 계산하고, clipped를 히스토그램에 균일하게 재분배한다.\n",
    "            \n",
    "#3-2-3:     calculate Lookup table for equalizing\n",
    "            cdf = tileHist.cumsum()            \n",
    "            tileLut = np.round(cdf*lutScale)\n",
    "            LUT[iy, ix] = tileLut          \n",
    "# 재분배된 히스토그램을 누적시켜 cdf를 계산하고, np.round(cdf * lutScale)로 히스토그램 평활화 변환표를 계산하여 LUT[iy, ix]에 저장한다.\n",
    "# LUT[iy, ix]는 [iy, ix]타일의 변환표이다.\n",
    "# LUT를 이용하여 각 타일별로 평활화하면 타일 경계 표시가 나타난다.\n",
    "# cv2.equalizeHist()와 평활화 계산 방법이 다르다.\n",
    "\n",
    "#3-3            \n",
    "    # bilinear interpolation \n",
    "    y = 0\n",
    "    for i in range(tileY+1):\n",
    "        if i==0:  # top row\n",
    "            subY = int(tileSizeY/2)\n",
    "            yU = yB = 0\n",
    "        elif i==tileY: # bottom row \n",
    "            subY = int(tileSizeY/2)\n",
    "            yU= yB = tileY-1\n",
    "        else:\n",
    "            subY = tileSizeY\n",
    "            yU = i-1\n",
    "            yB = i\n",
    "        #print(\"i={}, yU={}, yB={}, subY={}\".format(i, yU, yB, subY))\n",
    "        \n",
    "        x = 0\n",
    "        for j in range(tileX+1):\n",
    "            if j==0: # left column\n",
    "                subX = tileSizeX//2\n",
    "                xL = xR = 0\n",
    "            elif j==tileX: # right column\n",
    "                subX = tileSizeX//2\n",
    "                xL = xR = tileX-1\n",
    "            else:\n",
    "                subX = tileSizeX\n",
    "                xL = j-1\n",
    "                xR = j\n",
    "            #print(\" j={}, xL={}, xR={}, subX={}\".format(j, xL, xR, subX))\n",
    "            \n",
    "            UL = LUT[yU,xL]\n",
    "            UR = LUT[yU,xR]\n",
    "            BL = LUT[yB,xL]\n",
    "            BR = LUT[yB,xR]\n",
    "            \n",
    "            roi = src[y:y+subY, x:x+subX] \n",
    "            dst[y:y+subY, x:x+subX] = interpolate(roi,UL,UR,BL,BR)\n",
    "            x += subX\n",
    "        y += subY        \n",
    "    return  dst\n",
    "# 타일 경계 문제를 해졀하기 위하여, 부분영역이 포함하는 4개의 타일의 변환표를 이용한 히스토그램 평활화 결과를 양선형 보간한다.\n",
    "# 9개 부분영역을 타일 4개를 이용하여 보간한다.\n",
    "# 테두리는 부분영역의 크기가 다르다.\n",
    "# 이 예제 프로그램에서 부분영역이 속한 타일 인덱스를 xL, xR, yU, yB로 계산하고, UL, UR, BL, BR은 해당 타일의 히스토그램 평활화 변환표이다.\n",
    "\n",
    "\n",
    "#4 \n",
    "##dst = CLAHE(src, clipLimit= 40.0, tileX= 1, tileY= 1)\n",
    "##print(\"dst=\", dst)\n",
    "dst2 = CLAHE(src, clipLimit= 40.0, tileX= 2, tileY= 2)\n",
    "print(\"dst=\\n\", dst2)\n",
    "# CLAHE로 dst2에 CLAHE 평활화를 수행한다.\n",
    "# clipLimit = max(clipLimit * tileArea / histSize, 1)에 의해 clipLimit = 2.5이다."
   ]
  },
  {
   "cell_type": "code",
   "execution_count": 12,
   "id": "bbe9cc86-3525-4cb6-9e84-b38fecab2df8",
   "metadata": {},
   "outputs": [],
   "source": [
    "## 히스토그램 평활화 비교\n",
    "# 0516.py\n",
    "import cv2\n",
    "import numpy as np \n",
    "#1\n",
    "src = cv2.imread('./data/tsukuba_l.png', cv2.IMREAD_GRAYSCALE) # 원본 영상 'tsukuba_1.png'파일을 src에 읽고 표시한다.\n",
    "cv2.imshow('src', src)                                         # 대부분의 배경이 어둡고 조각상의 얼굴 부분만 밝은 영상이다.\n",
    "\n",
    "#2\n",
    "dst = cv2.equalizeHist(src)                                    # cv2.equalizeHist()로 전체 영상에 대해 하나의 히스토그램을 이용하여 dst에 평활화한 결과이다.\n",
    "cv2.imshow('dst', dst)                                         # 영상전체가 밝아져서, 얼굴 부분의 윤곽선이 구분되지 않는다.\n",
    "\n",
    "#3\n",
    "clahe2 = cv2.createCLAHE(clipLimit=40, tileGridSize=(1,1))     # clahe2 = cv2.createCLAHE(clipLimit = 40, tileGridSize = (1, 1))로 하나의 히스토그램만을 가지고\n",
    "dst2 = clahe2.apply(src)                                       # dst2에 CLAHE 히스토그램 평활화한다. 하나의 히스토그램만을 가지고 사용하기 떄문에 #2와 비슷한 결과가 나온다.\n",
    "cv2.imshow('dst2', dst2)                                       # dst와 dst2는 정확히 같지는 않다. clahe는 히스토그램 재분배를 수행하고, 변환 테이블 계산 방법이\n",
    "                                                               # cv2.equalizeHist()와 다르기 때문이다. \n",
    "                                                               # src 영상 전체의 히스토그램은 clipLimit = 40 * src.size / 256 = 17280.0 보다 큰 빈 값이 없기 때문에 재분배는 수행하지 않는다.\n",
    "\n",
    "#4\n",
    "clahe3 = cv2.createCLAHE(clipLimit=40, tileGridSize=(8,8))     # cv2.createCLAHE(clipLimit = 40, tileGridSize = (8, 8))로 tileGridSize = (8, 8)개의 타일로\n",
    "dst3 = clahe3.apply(src)                                       # 나누어 dst3에 CLAHE 히스토그램 평활화한다. dst3은 배경뿐만 아니라 얼굴 부분에서\n",
    "cv2.imshow('dst3', dst3)                                       # dst, dst2에 비해 대비가 선명한 영상을 얻는다.\n",
    "\n",
    "cv2.waitKey()    \n",
    "cv2.destroyAllWindows()\n"
   ]
  }
 ],
 "metadata": {
  "kernelspec": {
   "display_name": "Python 3 (ipykernel)",
   "language": "python",
   "name": "python3"
  },
  "language_info": {
   "codemirror_mode": {
    "name": "ipython",
    "version": 3
   },
   "file_extension": ".py",
   "mimetype": "text/x-python",
   "name": "python",
   "nbconvert_exporter": "python",
   "pygments_lexer": "ipython3",
   "version": "3.8.13"
  }
 },
 "nbformat": 4,
 "nbformat_minor": 5
}
