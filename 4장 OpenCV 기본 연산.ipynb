{
 "cells": [
  {
   "cell_type": "markdown",
   "id": "a05081ee-f65a-4c85-a68a-a0b2072d8069",
   "metadata": {},
   "source": [
    "## OpenCV 기본 연산"
   ]
  },
  {
   "cell_type": "markdown",
   "id": "acf696a2-f31e-49c6-ba51-647a9b456103",
   "metadata": {},
   "source": [
    "### 영상 속성과 화소 접근"
   ]
  },
  {
   "cell_type": "markdown",
   "id": "8e044701-9c7f-4edd-a106-4673f063b381",
   "metadata": {
    "tags": []
   },
   "source": [
    "#### 실습"
   ]
  },
  {
   "cell_type": "code",
   "execution_count": 20,
   "id": "557acd86-c972-492b-bf0d-f489cce17288",
   "metadata": {},
   "outputs": [
    {
     "name": "stdout",
     "output_type": "stream",
     "text": [
      "img.ndim =  3\n",
      "img.shape =  (512, 512, 3)\n",
      "img.dtype =  uint8\n",
      "img.dtype = int32\n",
      "img.dtype = uint8\n"
     ]
    }
   ],
   "source": [
    "import cv2\n",
    "import numpy as np\n",
    "\n",
    "imgfile = './data/lena.jpg' # cv2.IMREAD_COLOR 영상으로 img를 읽는다.\n",
    "img = cv2.imread(imgfile, cv2.IMREAD_COLOR)\n",
    "# img = cv2.imread(imgfile, cv2.IMREAD_GRAYSCALE)\n",
    "print('img.ndim = ', img.ndim)\n",
    "print('img.shape = ', img.shape)\n",
    "print('img.dtype = ', img.dtype)    # img영상은 img.dim = 3으로 3차원 배열이고,\n",
    "                                    # img.shape(216, 200, 3)으로 216x200크기의 3채널 영상이다.\n",
    "                                    # img.shape[0]은 영상의 세로 화소 크기, img.shape[1]은 영상의 가로 화소 크기, img.shape[2]는 영상의 채널 개수이다.\n",
    "                                    # 각 화소의 자료형은 img.dtype = uint8로 부호없는 8비트 정수이다.\n",
    "\n",
    "img = img.astype(np.int32)          # 화소자료형을 정수형으로 변경 주요 화소자료형은 np.bool, uint8, np.uint16, np.uint32, np.uint64, np.float32, np.float64,\n",
    "                                    # np.complex64 등이 있다.\n",
    "print('img.dtype =', img.dtype)\n",
    "\n",
    "img = np.uint8(img)                 # 화소 자료형을 uint8로 변경할 수 있다.\n",
    "print('img.dtype =', img.dtype)     # 영상처리 계산을 위해서 다양한 자료형으로 변결할 필요가 있다. 영상을 표기 하기 위한 cv2.imshow()함수는 uint8 자료형의 영상만을 화면에 표시한다."
   ]
  },
  {
   "cell_type": "code",
   "execution_count": 28,
   "id": "9369b17a-975a-4a2b-b194-381cec714a11",
   "metadata": {},
   "outputs": [
    {
     "name": "stdout",
     "output_type": "stream",
     "text": [
      "img.shape = (512, 512)\n",
      "img.shape = (262144,)\n",
      "img.shape = (1, 512, 512)\n"
     ]
    }
   ],
   "source": [
    "import cv2\n",
    "import numpy as np\n",
    "\n",
    "imgfile = './data/lena.jpg' \n",
    "img = cv2.imread(imgfile, cv2.IMREAD_GRAYSCALE) # cv2.IMREAD_GRAYSCALE 영상으로 img를 읽는다.\n",
    "print('img.shape =', img.shape)\n",
    "\n",
    "# img = img.reshape(img.shape[0] * img.shape[1])\n",
    "img = img.flatten()                             # 다차원 배열을 1차원 배열로 변경하여 img.shape = (262144,)이다.\n",
    "print('img.shape =', img.shape)\n",
    "img = img.reshape(-1, 512, 512)                 # 3차원 배열로 확장한다. -1로 표시된 부분은 크기를 자동으로 계산한다. img의 화소크기가 512x512이므로\n",
    "                                                # img.shape = (1, 512, 512)로 변경된다.\n",
    "print('img.shape =', img.shape)\n",
    "\n",
    "cv2.imshow('img', img[0])                       # 원본 영상을 표시한다. img.reshape()은 실제 데이터를 변경하지 않고, 모양을 변경한다.\n",
    "cv2.waitKey()\n",
    "cv2.destroyAllWindows()"
   ]
  },
  {
   "cell_type": "code",
   "execution_count": 39,
   "id": "6acbaf76-fe17-4efe-a898-637ba07ac7b7",
   "metadata": {},
   "outputs": [
    {
     "name": "stdout",
     "output_type": "stream",
     "text": [
      "[[  0 145 143 132 144 141 142 137 137 137]\n",
      " [139 135 146 150 139 141 138 142 136 137]\n",
      " [129 138 152 139 133 137 139 138 135 131]\n",
      " [137 147 139 124 132 141 142 141 130 129]\n",
      " [145 140 131 134 142 142 140 131 134 140]\n",
      " [144 137 134 147 146 142 129 130 137 137]\n",
      " [142 146 141 142 140 139 144 136 133 132]\n",
      " [154 142 136 137 144 144 146 135 123 131]\n",
      " [144 136 135 133 145 142 129 125 134 138]\n",
      " [133 133 144 144 133 130 123 137 140 126]]\n"
     ]
    }
   ],
   "source": [
    "import cv2\n",
    "import numpy as np\n",
    "\n",
    "img = cv2.imread('./data/lena.jpg', cv2.IMREAD_GRAYSCALE) # cv2.IMREAD_GRAYSCALE 영상으로 img를 읽는다.\n",
    "img[100, 200] = 0                                         # img 영상의 y = 100(행),x = 200(열)화소의 값을 0으로 변경한다. 화소의 인덱스는 y(행),x(열)이다.\n",
    "print(img[100:110, 200:210])                              # numpy의 슬라이싱으로 y = 100에서 109까지, x = 200에서 209까지의 10x10사각영역을 ROI로 지정하여 출력\n",
    "\n",
    "for y in range(100, 400):                                 # for문으로 영상의 y = 100에서 399까지, x = 200에서 299까지의 사각영역을 0으로 변경\n",
    "    for x in range(200, 300):\n",
    "        img[y, x] = 0\n",
    "\n",
    "# img[100:400, 200:300] = 0                               # numpy의 슬라이싱으로 ROI를 지정하여 변경할 수 있다. \n",
    "\n",
    "cv2.imshow('img', img)\n",
    "cv2.waitKey()\n",
    "cv2.destroyAllWindows()"
   ]
  },
  {
   "cell_type": "code",
   "execution_count": 44,
   "id": "439c4e39-4f5a-47a6-8873-e36183326f8a",
   "metadata": {},
   "outputs": [
    {
     "name": "stdout",
     "output_type": "stream",
     "text": [
      "[[255   0   0]\n",
      " [109 117 213]\n",
      " [113 115 208]\n",
      " [114 101 199]\n",
      " [121 116 207]\n",
      " [105 114 209]\n",
      " [112 113 212]\n",
      " [107 109 204]\n",
      " [117 108 200]\n",
      " [110 109 202]]\n"
     ]
    }
   ],
   "source": [
    "import cv2\n",
    "import numpy as np\n",
    "\n",
    "img = cv2.imread('./data/lena.jpg', cv2.IMREAD_COLOR) # cv2.IMREAD_GRAYSCALE 영상으로 img를 읽는다.\n",
    "img[100, 200] = [255, 0, 0]                           # y = 100행, x = 200열의 영상화소 img[100, 200]의 컬러를 리스트 [255, 0, 0] 또는 튜플(255, 0, 0)으로 변경\n",
    "print(img[100, 200:210])                              # numpy의 슬라이싱으로 y = 100, x = 200에서 209까지의 1x10영역을 ROI로 지정하여 출력\n",
    "\n",
    "for y in range(100, 400):                             # for문으로 영상의 y = 100에서 399까지, x = 200에서 299까지의 사각영역에 포함된 각 화소를 \n",
    "    for x in range(200, 300):                         # 파란색[255, 0, 0]으로 변경한다.\n",
    "        img[y, x] = [255, 0, 0]\n",
    "        \n",
    "# img[100:400, 200:300] = [255, 0, 0]                 # numpy의 슬라이싱으로 ROI를 지정하여 변경할 수 있다. \n",
    "\n",
    "cv2.imshow('img', img)\n",
    "cv2.waitKey()\n",
    "cv2.destroyAllWindows()"
   ]
  },
  {
   "cell_type": "code",
   "execution_count": 50,
   "id": "74c00bab-8a26-4912-a633-87ec1b8c69c2",
   "metadata": {},
   "outputs": [],
   "source": [
    "import cv2\n",
    "import numpy as np\n",
    "\n",
    "img = cv2.imread('./data/lena.jpg')\n",
    "\n",
    "for y in range(100, 400):           # B-채널을 255로 변경\n",
    "    for x in range(200, 300):\n",
    "        img[y, x, 0] = 255\n",
    "        \n",
    "# img[100:400, 200:300, 0] = 255\n",
    "img[100:400, 300:400, 1] = 255      # G-채널을 255로 변경\n",
    "img[100:400, 400:500, 2] = 255      # R-채널을 255로 변경\n",
    "\n",
    "cv2.imshow('img', img)\n",
    "cv2.waitKey()\n",
    "cv2.destroyAllWindows()"
   ]
  },
  {
   "cell_type": "markdown",
   "id": "87b32b85-eb14-4534-9b83-bc0878add37f",
   "metadata": {},
   "source": [
    "### 관심 영역과 ROI"
   ]
  },
  {
   "cell_type": "markdown",
   "id": "a90c1d19-ca3d-4bf0-b6e0-821810c194a2",
   "metadata": {
    "jp-MarkdownHeadingCollapsed": true,
    "tags": []
   },
   "source": [
    "#### ROI 영역 지정 함수"
   ]
  },
  {
   "cell_type": "markdown",
   "id": "6cca3c25-3aaa-4f58-b9ae-7b00ad999f5d",
   "metadata": {},
   "source": [
    "- cv2.selectROI(windowName, img[, showCrosshair[, fromCenter]]) -> retval"
   ]
  },
  {
   "cell_type": "markdown",
   "id": "d93601e0-7c63-46b2-b683-7cc2e6be9972",
   "metadata": {
    "tags": []
   },
   "source": [
    "##### windowName 윈도우에 img 영상을 표시하고 사용자가 마우스 클릭과 드래그로 ROI를 선택할 수 있다.\n",
    "##### showCrosshair = True이면 선택영역에 격자가 표시되고, fromCenter = True이면 마우스 클릭 위치 중심을 기준으로 박스가 선택된다.\n",
    "##### 선택을 종료하려면 space bar 또는 enter키를 사용하면 반환 값 retval에 선택영역의 튜플(x, y, weight, height)을 반환한다.\n",
    "##### (x, y)는 박스의 왼쪽-상단 좌표이고, (width, height)는 박스의 가로세로크기이다.\n",
    "##### c키를 사용하면 선택을 취소하고, (0, 0, 0, 0)을 반환한다."
   ]
  },
  {
   "cell_type": "markdown",
   "id": "f6585d5e-1fc3-4625-80a4-2d18f99b8efe",
   "metadata": {},
   "source": [
    "- cv2.selectROIS(windowName, img[, showCrosshair[, fromCenter]]) -> boundingBoxes"
   ]
  },
  {
   "cell_type": "markdown",
   "id": "348f81d9-51fb-45c7-88fc-6b848f6bc0be",
   "metadata": {},
   "source": [
    "##### windowName 윈도우를 생성에 img 영상에 표시하고, 사용자가 마우스 클릭과 드래그로 다중 ROI를 선택할 수 있다.\n",
    "##### 마우스 클릭과 드래그로 각 ROI를 선택하고 스페이스바 또는 엔터를 사용하고, 선택영역을 취소하려면 c키를 선택한다.\n",
    "##### esc키는 다중 ROI 선택을 종료하고, 선택한 영역을 넘파이 배열로 반환한다."
   ]
  },
  {
   "cell_type": "markdown",
   "id": "6780b3d6-3584-41d5-b6b2-bdc191333ad5",
   "metadata": {
    "jp-MarkdownHeadingCollapsed": true,
    "tags": []
   },
   "source": [
    "#### 실습"
   ]
  },
  {
   "cell_type": "code",
   "execution_count": 6,
   "id": "f4d22bbd-af6b-46f2-927d-4c4b4465e457",
   "metadata": {},
   "outputs": [],
   "source": [
    "import cv2\n",
    "import numpy as np\n",
    "\n",
    "imgfile = './data/lena.jpg' \n",
    "src = cv2.imread(imgfile, cv2.IMREAD_GRAYSCALE)\n",
    "src2 = cv2.imread(imgfile)\n",
    "dst = np.zeros(src.shape, dtype = src.dtype)\n",
    "dst2 = np.zeros(src2.shape, dtype = src2.dtype)\n",
    "\n",
    "# print(dst.shape, dst.dtype)\n",
    "\n",
    "N = 32\n",
    "height, width = src.shape\n",
    "height, width, channel = src2.shape\n",
    "h = height // N\n",
    "w = width // N\n",
    "\n",
    "for i in range(N):\n",
    "    for j in range(N):\n",
    "        y = i * h\n",
    "        x = j * w\n",
    "        roi = src[y:y + h, x:x + w]\n",
    "        dst[y:y + h, x:x + w] = cv2.mean(roi)[0]\n",
    "        dst2[y:y + h, x:x + w] = cv2.mean(roi)[0:3]\n",
    "        \n",
    "\n",
    "while True:\n",
    "    cv2.imshow('dst', dst) \n",
    "    cv2.imshow('dst2', dst2)\n",
    "    key = cv2.waitKey(25)\n",
    "    if key == 0x1B:\n",
    "        break\n",
    "cv2.destroyAllWindows()"
   ]
  },
  {
   "cell_type": "code",
   "execution_count": 2,
   "id": "5e11885e-d3d3-4f1a-8867-d71368a82f58",
   "metadata": {},
   "outputs": [
    {
     "name": "stdout",
     "output_type": "stream",
     "text": [
      "roi = (205, 206, 148, 178)\n"
     ]
    }
   ],
   "source": [
    "import cv2\n",
    "\n",
    "src = cv2.imread('./data/lena.jpg', cv2.IMREAD_GRAYSCALE)\n",
    "roi = cv2.selectROI(src)                                  # roi = cv2.selectROI(src)는 디폴트 'ROI select'윈도우에 src영상을 표시하고,\n",
    "                                                          # 그림에서 마우스클릭과 드래그로 ROI를 선택하고, 스페이스바/엔터키를 누르면 선택한 영역을 roi에 반환한다.\n",
    "                                                          # 마우스로 ROI를 선택하지 않고 스페이스바/엔터키를 누르면 roi=(0, 0, 0, 0)을 반환한다.\n",
    "print('roi =',roi)\n",
    "\n",
    "if roi !=(0, 0, 0, 0):                                    # 선택영역에서 roi[0]은 x열, roi[1]은 y행, roi[2]은 가로크기, roi[3] 세로크기이다.\n",
    "    img = src[roi[1]:roi[1] + roi[3],\n",
    "              roi[0]:roi[0] + roi[2]]\n",
    "    cv2.imshow('img',img)                                 # img = src[roi[1]:roi[1] + roi[3], roi[0]:roi[0] + roi[2]]는 src에서 선택영역의 roi를 img에 저장한다.\n",
    "    cv2.waitKey()\n",
    "cv2.destroyAllWindows()"
   ]
  },
  {
   "cell_type": "code",
   "execution_count": 3,
   "id": "1c1b6c4b-2bcd-4770-a103-e5b9645fca90",
   "metadata": {},
   "outputs": [
    {
     "name": "stdout",
     "output_type": "stream",
     "text": [
      "rect = ()\n"
     ]
    }
   ],
   "source": [
    "import cv2\n",
    "\n",
    "src = cv2.imread('./data/lena.jpg', cv2.IMREAD_GRAYSCALE)\n",
    "rects = cv2.selectROIs('src', src, False, True)            # 'src' 윈도우에 src영상을 표시하고, showCrosshair = False로 선택영역에 격자를 표시하지 않고\n",
    "                                                           # fromCenter = True로 마우스 클릭 위치 중심을 기준으로 드래그하여 박스를 선택하고,\n",
    "                                                           # 스페이스바/엔터키를 눌러 반복적으로 ROI영역을 지정하고, Esc키를 눌러 다중 영역 선택을 종료하면\n",
    "                                                           # rects에 반환한다.\n",
    "print('rect =', rects)\n",
    "\n",
    "for r in rects:\n",
    "    cv2.rectangle(src, (r[0], r[1]),\n",
    "                  (r[0] + r[2], r[1] + r[3]), 255)         # 선택된 다중 영역의 리스트의 각각의 ROI영역 r을 이용하여 src 영상에 사각형을 그려 표시한다.\n",
    "    # img = src[r1[1]:r[1] + r[3], r[0]:r[0] + r[2]]\n",
    "    # cv2.imshow('img', img)\n",
    "    # cv2.waitKey()\n",
    "cv2.imshow('src', src)\n",
    "cv2.waitKey()\n",
    "cv2.destroyAllWindows()"
   ]
  },
  {
   "cell_type": "markdown",
   "id": "5854edf3-7bd4-44b6-846b-33f42a0a5dbd",
   "metadata": {
    "tags": []
   },
   "source": [
    "### 영상 복사"
   ]
  },
  {
   "cell_type": "markdown",
   "id": "a1e551fb-8e19-48c1-ba79-a2a11a578aff",
   "metadata": {
    "jp-MarkdownHeadingCollapsed": true,
    "tags": []
   },
   "source": [
    "#### 실습"
   ]
  },
  {
   "cell_type": "code",
   "execution_count": 2,
   "id": "fe769399-1ad5-4abc-a67f-f8d719acc505",
   "metadata": {},
   "outputs": [],
   "source": [
    "import cv2\n",
    "\n",
    "src = cv2.imread('./data/lena.jpg', cv2.IMREAD_GRAYSCALE)\n",
    "\n",
    "# dst = src               # 참조\n",
    "dst = src.copy()          # 복사\n",
    "dst[100:400, 200:300] = 0 # copy()를 안쓰고 참조를쓰면 src파일까지 변경된다.\n",
    "\n",
    "cv2.imshow('src', src)\n",
    "cv2.imshow('dst', dst)\n",
    "cv2.waitKey()\n",
    "cv2.destroyAllWindows()"
   ]
  },
  {
   "cell_type": "code",
   "execution_count": 4,
   "id": "5195f8e7-6c67-43cd-af9f-3cfa07aca095",
   "metadata": {},
   "outputs": [
    {
     "name": "stdout",
     "output_type": "stream",
     "text": [
      "<class 'tuple'>\n",
      "<class 'numpy.ndarray'>\n"
     ]
    }
   ],
   "source": [
    "import cv2\n",
    "src = cv2.imread('./data/lena.jpg')\n",
    "\n",
    "dst = cv2.split(src) # 3-채널 BGR 컬러영상 src를 채널 분리하여 튜플 dst에 저장한다.\n",
    "print(type(dst))\n",
    "print(type(dst[0])) # type(dst[1]), type(dst[2])\n",
    "\n",
    "cv2.imshow('blue',  dst[0])\n",
    "cv2.imshow('green', dst[1])\n",
    "cv2.imshow('red',   dst[2])\n",
    "cv2.waitKey()    \n",
    "cv2.destroyAllWindows()\n"
   ]
  },
  {
   "cell_type": "markdown",
   "id": "7908fce7-df21-4ab0-a46e-9333ccb59385",
   "metadata": {
    "tags": []
   },
   "source": [
    "### 영상 채널 분리 및 병합"
   ]
  },
  {
   "cell_type": "markdown",
   "id": "d1a2ab1b-0209-42eb-bd39-f5740b1f2300",
   "metadata": {
    "jp-MarkdownHeadingCollapsed": true,
    "tags": []
   },
   "source": [
    "#### 실습"
   ]
  },
  {
   "cell_type": "code",
   "execution_count": 7,
   "id": "0a8e3a39-8556-49c1-9f05-a8ad22d3309d",
   "metadata": {},
   "outputs": [
    {
     "name": "stdout",
     "output_type": "stream",
     "text": [
      "<class 'tuple'>\n",
      "<class 'numpy.ndarray'>\n"
     ]
    }
   ],
   "source": [
    "# 0411.py\n",
    "import cv2\n",
    "src = cv2.imread('./data/lena.jpg')\n",
    "\n",
    "dst = cv2.split(src)                              # 3-채널 컬러 영상 src를 채널 분리하여 튜플 sdt에 저장한다.\n",
    "print(type(dst))\n",
    "print(type(dst[0])) # type(dst[1]), type(dst[2])\n",
    "\n",
    "cv2.imshow('src', src)\n",
    "cv2.imshow('blue',  dst[0])\n",
    "cv2.imshow('green', dst[1])\n",
    "cv2.imshow('red',   dst[2])\n",
    "cv2.waitKey()    \n",
    "cv2.destroyAllWindows()\n"
   ]
  },
  {
   "cell_type": "code",
   "execution_count": 11,
   "id": "39268d74-8465-4f55-9c89-43e3309d8ec9",
   "metadata": {},
   "outputs": [
    {
     "name": "stdout",
     "output_type": "stream",
     "text": [
      "<class 'numpy.ndarray'>\n",
      "(512, 512, 3)\n"
     ]
    }
   ],
   "source": [
    "# 0412.py\n",
    "import cv2\n",
    "src = cv2.imread('./data/lena.jpg')\n",
    "\n",
    "b, g, r = cv2.split(src)            # 3-채널 컬러 영상 src를 채널 분리하여 b, g, r에 저장한다.\n",
    "dst = cv2.merge([b, g, r])          # 리스트[b, g, r]을 dst에 채널 합성한다. 리스트의 항목의 순서 b, g, r의 순서는 채널 순서로 중요하다.\n",
    "                                    # cv2.merge([r, g, b])는 다른 색상의 컬러 영상을 생성한다.\n",
    "# dst = cv2.merge([r, g, b])\n",
    "\n",
    "\n",
    "print(type(dst))\n",
    "print(dst.shape)\n",
    "cv2.imshow('src', src)\n",
    "cv2.imshow('dst',  dst)\n",
    "cv2.waitKey()    \n",
    "cv2.destroyAllWindows()\n"
   ]
  },
  {
   "cell_type": "markdown",
   "id": "b635fdfc-a99d-407f-9e99-11ae60f88177",
   "metadata": {
    "tags": []
   },
   "source": [
    "### 컬러 공간 변환"
   ]
  },
  {
   "cell_type": "markdown",
   "id": "98465427-f14a-4001-9105-d12aea26c00a",
   "metadata": {},
   "source": [
    "- cv2.cvtColor(src, code[, dst[, dsdtCn ]])"
   ]
  },
  {
   "cell_type": "markdown",
   "id": "525657bd-5e10-4f24-ac23-e20ad6019f43",
   "metadata": {
    "jp-MarkdownHeadingCollapsed": true,
    "tags": []
   },
   "source": [
    "##### 입력 영상 src를 code에 따라 출력 영상 dst에 반환한다.\n",
    "##### dstCn은 출력 영상의 채널 수이다.\n",
    "##### 컬러 변환에서 R, G, B 채널의 값은 영상의 자료형에 따라 np.uing8은 0..255, np.uint16은 0..65535, np.float32는 0..1의 범위로 간주한다.\n",
    "##### 선형변환의 경우 화소 자료형을 따르는 값의 범위가 문제 되지 않지만, 비선형 변환의 경우 문제가 될 수 있다.\n",
    "##### 그러므로 컬러 변환 전에 astype()함수를 사용하여 np.uint16, np.uint32 또는 np.float32로 변환할 필요가 있을 수 있다."
   ]
  },
  {
   "cell_type": "markdown",
   "id": "7d74d28f-ad55-4804-81dd-2ec6fe96b72b",
   "metadata": {
    "tags": []
   },
   "source": [
    "#### 실습"
   ]
  },
  {
   "cell_type": "code",
   "execution_count": 13,
   "id": "e6c4d22e-8f5d-4be3-9d77-f04d77fbfde5",
   "metadata": {},
   "outputs": [],
   "source": [
    "# 0413.py\n",
    "import cv2\n",
    "src = cv2.imread('./data/lena.jpg')\n",
    "\n",
    "gray   = cv2.cvtColor(src, cv2.COLOR_BGR2GRAY)\n",
    "yCrCv = cv2.cvtColor(src, cv2.COLOR_BGR2YCrCb)\n",
    "hsv    = cv2.cvtColor(src, cv2.COLOR_BGR2HSV)\n",
    "\n",
    "cv2.imshow('gray',  gray)\n",
    "cv2.imshow('yCrCv', yCrCv)\n",
    "cv2.imshow('hsv',   hsv)\n",
    "\n",
    "cv2.waitKey()    \n",
    "cv2.destroyAllWindows()"
   ]
  },
  {
   "cell_type": "markdown",
   "id": "b350d7b7-3d19-48ec-a2ab-6e13912e9f7b",
   "metadata": {
    "jp-MarkdownHeadingCollapsed": true,
    "tags": []
   },
   "source": [
    "### 영상의 크기 변환과 회전"
   ]
  },
  {
   "cell_type": "markdown",
   "id": "a91fe31f-f33a-4240-9e39-80e7a3281c18",
   "metadata": {},
   "source": [
    "- cv2.resize(src, dsize[, dst[, fx[, fy[, interpolation ]]]])"
   ]
  },
  {
   "cell_type": "markdown",
   "id": "6f7a51f1-e36e-482b-99d8-88b5aa9a596d",
   "metadata": {
    "tags": []
   },
   "source": [
    "##### 입력 영상을 크기 변환하여 반환한다.\n",
    "##### src는 입력 영상, dsize는 출력 영상의 크기, dst는 출력 영상, fx, fy는 가로와 세로의 스케일이고, interpolation cv2.INTER_NEAREST, cv2.INTER_LINEAR, cv2.INTER_AREA, cv2.INTER_CUBIC, cv2.INTER_LANCZOS4 등의 보간법이다. 출력 영상 dst를 반환한다."
   ]
  },
  {
   "cell_type": "markdown",
   "id": "f9a75536-dc4b-40c2-9e8e-bc306be51a6e",
   "metadata": {},
   "source": [
    "- cv2.rotate(src, rotateCode[, dst])"
   ]
  },
  {
   "cell_type": "markdown",
   "id": "7d94698a-3e3d-4379-8034-3a350b0baab8",
   "metadata": {
    "tags": []
   },
   "source": [
    "##### 입력 영상 src를 크기 rotateCode에 따라 90의 배수로 회전시켜 dst에 반환한다.\n",
    "##### rotateCode는 cv2.ROTATE_90_CLOCKWISE, cv2.ROTATE_180, cv2.ROTATE_90_COUNTERCLOCKWISE 등이 있다"
   ]
  },
  {
   "cell_type": "markdown",
   "id": "8c14c3c2-bde4-4c81-83cc-ca4ed944728b",
   "metadata": {},
   "source": [
    "- cv2.getRotationMatrix2D(center, angle, scale)"
   ]
  },
  {
   "cell_type": "markdown",
   "id": "3a731a41-ef6b-49ae-976f-f1e10736c3ba",
   "metadata": {
    "tags": []
   },
   "source": [
    "##### center 좌표를 중심으로 scale 확대/축소하고, angle 각도만큼 회전한 어파인 변환행렬 M을 반환한다.\n",
    "##### angle > 0이면 반시계방향 회전이다. M[:, 2] += (tx, ty)를 추가하면 이동을 추가할 수 있다."
   ]
  },
  {
   "cell_type": "markdown",
   "id": "46b74ab4-8fae-432d-9f9f-79f8ceeab5bb",
   "metadata": {},
   "source": [
    "- cv2.warpAffine(src, M, dsize[, dst[, flags[, borderMode[, borderValue ]]]])"
   ]
  },
  {
   "cell_type": "markdown",
   "id": "a0206f16-8ca1-4028-be94-0b23f8ca771f",
   "metadata": {},
   "source": [
    "##### cv2.warpAffine() 함수는 src 영상에 2x3 어파인 변환행렬 M을 적용하여 dst에 반환한다.\n",
    "##### dsize는 출력 영상 dst의 크기이며, flags는 보간법(cv2.INTER_NEARREST, cv2.INTER_LINEAR 등)과 cv2.WARP_INVERSE_MAP의 조합니다.\n",
    "##### cv2.WARP_INVERSE_MAP은 M이 dst ->의 역변환을 의미한다.\n",
    "##### borderMode는 경계값 처리방식이다.\n",
    "##### borderMode = cv2.BORDER_CONSTANT에서 borderValue는 경계값 상수이다."
   ]
  },
  {
   "cell_type": "markdown",
   "id": "36be179e-f538-41c2-bc3a-e9ef6ed0f93d",
   "metadata": {
    "jp-MarkdownHeadingCollapsed": true,
    "tags": []
   },
   "source": [
    "#### 실습"
   ]
  },
  {
   "cell_type": "code",
   "execution_count": 3,
   "id": "0a1e0804-9291-4a40-ac5c-b0b4b409d8fe",
   "metadata": {},
   "outputs": [],
   "source": [
    "# 0414.py\n",
    "import cv2\n",
    "import numpy as np\n",
    "src = cv2.imread('./data/lena.jpg', cv2.IMREAD_GRAYSCALE)\n",
    "\n",
    "dst = cv2.resize(src, dsize=(320, 240))                    # src를 가로 320, 세로 240 크기로 변환하여 dst에 저장한다. dst.shape은 (240, 320)이다.\n",
    "dst2 = cv2.resize(src, dsize=(0,0), fx=1.5, fy=1.2)        # dst2 = cv2.resize(src, dsize = (0, 0), fx = 1.5, fy = 1.2)는 src를 가로 fx = 1.5배, 세로 fy = 1.2배로 변환하여 dst2에 저장한다.\n",
    "\n",
    "cv2.imshow('dst', dst)\n",
    "cv2.imshow('dst2', dst2)\n",
    "cv2.waitKey()    \n",
    "cv2.destroyAllWindows()\n"
   ]
  },
  {
   "cell_type": "code",
   "execution_count": 6,
   "id": "c532fbc7-6fe7-4e4a-972d-3de9d0bea666",
   "metadata": {},
   "outputs": [],
   "source": [
    "# 0415.py\n",
    "import cv2\n",
    "src = cv2.imread('./data/lena.jpg')\n",
    "\n",
    "dst1 = cv2.rotate(src, cv2.ROTATE_90_CLOCKWISE)         # 시계방향으로 90도 회전\n",
    "dst2 = cv2.rotate(src, cv2.ROTATE_90_COUNTERCLOCKWISE)  # 반시계방향으로 90도 회전\n",
    "\n",
    "cv2.imshow('dst1',  dst1)\n",
    "cv2.imshow('dst2',  dst2)\n",
    "cv2.waitKey()    \n",
    "cv2.destroyAllWindows()"
   ]
  },
  {
   "cell_type": "code",
   "execution_count": 12,
   "id": "8f075357-7b97-45f3-b98a-5bfde8377bd8",
   "metadata": {},
   "outputs": [
    {
     "name": "stdout",
     "output_type": "stream",
     "text": [
      "(512, 512, 3)\n"
     ]
    }
   ],
   "source": [
    "# 0416.py\n",
    "import cv2\n",
    "src = cv2.imread('./data/lena.jpg')\n",
    "\n",
    "rows, cols, channels = src.shape\n",
    "print(src.shape)\n",
    "M1 = cv2.getRotationMatrix2D( (rows/2, cols/2),  45, 0.5 ) # 영상의 중심인 center = (rows/2, cols/2)를 기준으로 scale = 0.5로 축소하고,\n",
    "                                                           # angle = 45도로 반시계방향으로 회전한 어파인 변환행렬 M1을 생성한다.\n",
    "M2 = cv2.getRotationMatrix2D( (rows/2, cols/2), -45, 1.0 ) # 영상의 중심인 center = (rows/2, cols/2)를 기준으로 scale = 1로 확대나 축소하지 않고,\n",
    "                                                           # angle = -45도로 시계방향으로 회전한 어파인 변환행렬 M2를 생성한다.\n",
    "\n",
    "dst1 = cv2.warpAffine( src, M1, (rows, cols))              # src 영상에 2x3 어파인 변환행렬 M1을 적용하여 (rows, cols)의 크기의 dst1영상을 생성한다.\n",
    "dst2 = cv2.warpAffine( src, M2, (rows, cols))              # src 영상에 2x3 어파인 변환행렬 M2을 적용하여 (rows, cols)의 크기의 dst1영상을 생성한다.\n",
    "\n",
    "cv2.imshow('dst1',  dst1)\n",
    "cv2.imshow('dst2',  dst2)\n",
    "cv2.waitKey()    \n",
    "cv2.destroyAllWindows()"
   ]
  },
  {
   "cell_type": "markdown",
   "id": "1c572798-5598-4f15-afd1-931bc762dde2",
   "metadata": {
    "tags": []
   },
   "source": [
    "### 산술연산ㆍ비트연산ㆍ비교범위ㆍ수치연산 함수"
   ]
  },
  {
   "cell_type": "markdown",
   "id": "95373f83-de12-4ca4-88e1-5d20aa92c87e",
   "metadata": {},
   "source": [
    "##### 연산결과가 자료형의 범위를 벗어나는 경우 주의해서 사용한다"
   ]
  },
  {
   "cell_type": "markdown",
   "id": "9e268df7-bf6c-4a31-a309-79abec1a0679",
   "metadata": {},
   "source": [
    "#### 실습"
   ]
  },
  {
   "cell_type": "code",
   "execution_count": 42,
   "id": "664361e4-edbb-4a9d-8c4a-623406af1be8",
   "metadata": {},
   "outputs": [],
   "source": [
    "## 영상 덧셈\n",
    "# 0417.py\n",
    "import cv2\n",
    "import numpy as np\n",
    "\n",
    "src1 = cv2.imread('./data/lena.jpg', cv2.IMREAD_GRAYSCALE)\n",
    "src2 = np.zeros(shape=(512,512), dtype=np.uint8) + 100\n",
    "\n",
    "dst1 = src1 + src2                                          # numpy의 배열 덧셈으로 결과가 255를 넘는 경우, 256으로 나눈 나머지를 계산한다.\n",
    "dst2 = cv2.add(src1, src2)                                  # cv2.add()함수로 덧셈하여 결과가 255를 넘는 경우, 255로 계산한다.\n",
    "# dst2 = cv2.add(src1, src2, dtype = cv2.CV_8U)             # numpy자료형을 dtype을 cv2.CV_8U와 같이 opencv 자료형으로 명시 가능\n",
    "\n",
    "cv2.imshow('dst1',  dst1)\n",
    "cv2.imshow('dst2',  dst2)\n",
    "cv2.waitKey()    \n",
    "cv2.destroyAllWindows()\n"
   ]
  },
  {
   "cell_type": "code",
   "execution_count": 44,
   "id": "fe62b2f7-9b09-4d62-ae72-57a78b95f4bc",
   "metadata": {},
   "outputs": [],
   "source": [
    "## 비트연산\n",
    "# 0418.py: OpenCV-Python Tutorials 참조\n",
    "import cv2\n",
    "import numpy as np\n",
    "\n",
    "src1 = cv2.imread('./data/lena.jpg')\n",
    "src2 = cv2.imread('./data/opencv_logo.png')\n",
    "cv2.imshow('src2',  src2)\n",
    "\n",
    "#1\n",
    "rows,cols,channels = src2.shape\n",
    "roi = src1[0:rows, 0:cols]                                    # 전체 크기에 대한 src1의 영역을 roi에 저장\n",
    "\n",
    "#2\n",
    "gray = cv2.cvtColor(src2,cv2.COLOR_BGR2GRAY)                  # 컬러영상을 그레이스케일 영상 gray로 변환\n",
    "ret, mask = cv2.threshold(gray, 160, 255, cv2.THRESH_BINARY)  # 전경과 배경을 구분하기 위해 이미지 대상 gray, 임계값 160,\n",
    "                                                              # 임계값을 넘었을 때 적용할 value 255, type = binary로 이진 영상 mask 생성\n",
    "mask_inv = cv2.bitwise_not(mask)                              # 비트 반전 영상 mask_inv 생성\n",
    "cv2.imshow('mask',  mask)\n",
    "cv2.imshow('mask_inv',  mask_inv)\n",
    "\n",
    "#3\n",
    "src1_bg = cv2.bitwise_and(roi, roi, mask = mask)              # roi 영상에서 mask의 255인 화소만 bitwise_and() 함수로 src1의 배경영역 복사\n",
    "                                                              # 전경영역은 0인 src1_bg 생성\n",
    "cv2.imshow('src1_bg',  src1_bg)\n",
    "\n",
    "#4\n",
    "src2_fg = cv2.bitwise_and(src2, src2, mask = mask_inv)        # cv2.bitwise_and() 함수로 mask_inv 마스크를 사용하여 src2에서 전경영역을 src2_fg에 복사\n",
    "cv2.imshow('src2_fg',  src2_fg)\n",
    "\n",
    "#5\n",
    "## dst = cv2.add(src1_bg, src2_fg)\n",
    "dst = cv2.bitwise_or(src1_bg, src2_fg)                        # cv2.bitwise_or() 함수로 src_bg와 src2_fg를 비트 OR 연산하여 dst를 생성, add()함수 사용해도 동일\n",
    "cv2.imshow('dst',  dst)\n",
    "\n",
    "#6\n",
    "src1[0:rows, 0:cols] = dst                                    # dst를 src1에 복사하여 'result' 영상에 생성\n",
    "\n",
    "cv2.imshow('result',src1)\n",
    "cv2.waitKey(0)\n",
    "cv2.destroyAllWindows()\n"
   ]
  },
  {
   "cell_type": "code",
   "execution_count": 46,
   "id": "d7213b98-f250-47d6-aea1-512467a3a902",
   "metadata": {},
   "outputs": [
    {
     "name": "stdout",
     "output_type": "stream",
     "text": [
      "n =  0\n"
     ]
    }
   ],
   "source": [
    "## 반전 영상\n",
    "# 0419.py\n",
    "import cv2\n",
    "import numpy as np\n",
    "\n",
    "src1 = cv2.imread('./data/lena.jpg', cv2.IMREAD_GRAYSCALE)\n",
    "src2 = np.zeros(shape=(512,512), dtype=np.uint8) + 255\n",
    "\n",
    "dst1 = 255 - src1                                          # numpy의 브로드 캐스팅으로 255를 src1를 src1 크기의 배열로 확장하고, src1의 각 화소와 뺄셈으로 계산하고 src1 영상의 값을 반전영상 dst1을 생성\n",
    "dst2 = cv2.subtract(src2, src1)                            # cv2.subtract() 함수를 사용하여 (src2 - src1) 연산으로 src1의 화소값을 반전\n",
    "dst3 = cv2.compare(dst1, dst2, cv2.CMP_NE)                 # dst1과 dst2의 각 화소를 cv2.CMP_NE(not equal to) 비교하여, 참이면 255, 거짓이면 0을 dst 영상의 각 화소에 출력한다.\n",
    "                                                           # dst1과 dst2는 모든 화소에서 같은 값을 가진다.\n",
    "                                                           # cv2.compare()함수는 cv2.CMP_EQ, cv2.CMP_NE, cv2.CMP_GT, cv2.CMP_LT, cv2.CMP_LE 등의 비교를 할 수 있다.\n",
    "n    = cv2.countNonZero(dst3)                              # 0이 아닌 화소를 카운트하여 반환한다. dst3의 화소는 모두 0이기에 n은 0이다.\n",
    "print('n = ', n)\n",
    "cv2.imshow('src1', src1)\n",
    "cv2.imshow('src2', src2)\n",
    "cv2.imshow('dst1',  dst1)\n",
    "cv2.imshow('dst2',  dst2)\n",
    "cv2.waitKey()    \n",
    "cv2.destroyAllWindows()\n"
   ]
  },
  {
   "cell_type": "code",
   "execution_count": 47,
   "id": "706348c3-c6f0-47b2-8c1b-98e47496b522",
   "metadata": {},
   "outputs": [
    {
     "name": "stdout",
     "output_type": "stream",
     "text": [
      "src: 18.0 248.0 (265, 198) (116, 273)\n",
      "dst: 100.0 200.0 (265, 198) (116, 273)\n"
     ]
    }
   ],
   "source": [
    "## cv2.normalize()에 의한 영상 정규화\n",
    "# 0420.py\n",
    "import cv2\n",
    "import numpy as np\n",
    "\n",
    "src = cv2.imread('./data/lena.jpg', cv2.IMREAD_GRAYSCALE)\n",
    "\n",
    "minVal, maxVal, minLoc, maxLoc = cv2.minMaxLoc(src)        # cv2.minMaxLoc(src)는 src의 최소값, 최대값, 최소값 위치, 최대값 위지를 계산하여 반환한다.\n",
    "                                                           # 최소/최대값이 여러 개인 경우, 최초의 값의 위치를 반환한다.\n",
    "print('src:', minVal, maxVal, minLoc, maxLoc)\n",
    "\n",
    "dst = cv2.normalize(src, None, 100, 200, cv2.NORM_MINMAX)  # cv2.normalize()는 norm_type = cv2.NORM_MINMAX에 의해 src의 최소/최대값 범위를 [100, 200]으로 정규화한다.\n",
    "                                                           # dst = None은 결과 영상을 새로 생성한다.\n",
    "minVal, maxVal, minLoc, maxLoc = cv2.minMaxLoc(dst)\n",
    "print('dst:', minVal, maxVal, minLoc, maxLoc)\n",
    "\n",
    "cv2.imshow('dst',  dst)\n",
    "cv2.waitKey()    \n",
    "cv2.destroyAllWindows()\n"
   ]
  },
  {
   "cell_type": "code",
   "execution_count": 5,
   "id": "bb801812-99b4-4a12-becf-a3d40504a71f",
   "metadata": {},
   "outputs": [],
   "source": [
    "## cv2.randu()에 2차원 균등분포 난수 좌표\n",
    "# 0421.py\n",
    "import cv2\n",
    "import numpy as np\n",
    "import time\n",
    "\n",
    "dst = np.full((512,512,3), (255, 255, 255), dtype= np.uint8)     # 512x512x3 배열에 255를 부호없는 정수로 꽉채운다.\n",
    "nPoints = 100\n",
    "pts = np.zeros((1, nPoints, 2), dtype=np.uint16)\n",
    "cv2.setRNGSeed(int(time.time()))                                 # cv2.setRNGSeed(int(time.time()))는 난수 생성을 초기화한다.\n",
    "                                                                 # 초기화하지 않으면 항상 같은 난수열을 생성하므로 주의한다.\n",
    "                                                                 # 3차원 튜플형식의 배열이고 2차원안에 100개가 들어간다. 1x100x2\n",
    "    \n",
    "cv2.randu(pts, (0, 0), (512, 512))                               # 1 x nPoint이고 2-채널인 pts 배열에 (0, 0)에서 (512, 512) 범위의 균등분포 난수를 생성한다.\n",
    "            \n",
    "# draw points\n",
    "for k in range(nPoints):                                         \n",
    "    x, y = pts[0, k][:] # pts[0, k, :]                           # ptspts[0, k]의 채널데이터를 x, y에 저장한다. 0부터 k 까지의 배열 요소 중 처음부터 끝까지를 x와 y에 저장\n",
    "    cv2.circle(dst,(x,y),radius=5,color=(0,0,255),thickness=-1)  # 좌표x,y에 반지름이 5, color = (0, 0, 255)인 원을 dst에 넣는다 두께를 -1로하면 내부가 채워짐\n",
    "    \n",
    "    \n",
    "cv2.imshow('dst',  dst)\n",
    "cv2.waitKey()    \n",
    "cv2.destroyAllWindows()\n"
   ]
  },
  {
   "cell_type": "code",
   "execution_count": 15,
   "id": "05c75d69-57f3-4afd-8cb1-f4bb69d1792a",
   "metadata": {},
   "outputs": [],
   "source": [
    "## cv2.randn()에 2차원 정규분포 난수 좌표\n",
    "# 0422.py\n",
    "import cv2\n",
    "import numpy as np\n",
    "import time\n",
    "\n",
    "dst = np.full((512,512,3), (255, 255, 255), dtype= np.uint8)\n",
    "nPoints = 100\n",
    "pts = np.zeros((1, nPoints, 2), dtype=np.uint16)\n",
    "\n",
    "cv2.setRNGSeed(int(time.time()))                                 # 난수 생성을 초기화한다. 초기화하지 않으면 항상 같은 난수열을 생성한다.\n",
    "cv2.randn(pts, mean=(256, 256), stddev=(50, 50))                 # cv2.randn()함수로 1xnPoints이고 2-채널인 pts 배열에 평균이(256, 256), 편차가(50, 50)인 정규 분포 난수를 생성한다.\n",
    "            \n",
    "# draw points\n",
    "for k in range(nPoints):\n",
    "    x, y = pts[0][k, :] # pts[0, k, :]                           # ptspts[0, k]의 채널 데이터를 x, y에 저장한다.\n",
    "    cv2.circle(dst,(x,y),radius=5,color=(0,0,255),thickness=-1)  # cv2.circle() 함수로 좌표(x, y)에 반지름 radius = 5, red색상이고 내부를 채운 원을 그린다.\n",
    "    \n",
    "cv2.imshow('dst', dst)                \n",
    "cv2.waitKey()    \n",
    "cv2.destroyAllWindows()\n"
   ]
  },
  {
   "cell_type": "code",
   "execution_count": 21,
   "id": "cbded823-fb5a-468f-83fd-7181d3ada1f1",
   "metadata": {},
   "outputs": [
    {
     "name": "stdout",
     "output_type": "stream",
     "text": [
      "mean= [[12.5   1.25]]\n",
      "cov= [[73750.  34875. ]\n",
      " [34875.  26287.5]]\n",
      "icov= [[ 3.63872307e-05 -4.82740722e-05]\n",
      " [-4.82740722e-05  1.02084955e-04]]\n",
      "dist =  0.5051854992128457\n"
     ]
    }
   ],
   "source": [
    "## cv2.Mahalanobis()에 의한 통계적 거리 계산\n",
    "# 0423.py\n",
    "import cv2\n",
    "import numpy as np\n",
    "\n",
    "X = np.array([[0, 0,  0, 100, 100, 150, -100, -150],\n",
    "              [0, 50, -50, 0, 30, 100, -20, -100]], dtype=np.float64)      # 62비트 실수형의 2차원 배열 생성\n",
    "\n",
    "X = X.transpose() # X = X.T                                                # 전치행렬로 변경하여, 각 행의 요소가 열로 열의 요소가 행으로 바뀌는 2차원 좌표로 위치시킨다.\n",
    "\n",
    "cov, mean = cv2.calcCovarMatrix(X, mean=None, \n",
    "                               flags = cv2.COVAR_NORMAL + cv2.COVAR_ROWS)  # cv2.calcCovarMatrix(X, mX, cv2.COVAR_NORMAL + cv2.COVAR_ROWS)는\n",
    "                                                                           # input인 X의 각 행(cv2.COVAR_ROWS)에서 (x, y) 좌표의 평균 mean, 공분산 행렬 cov를 계산한다.\n",
    "                                                                           # 평균 mean은 1x2 열벡터이고, 공분산 행렬 cov는 2x2 행렬이다.\n",
    "                                                                           # 만약 데이터가 행렬의 열에 있으면 flags에 cv2.COVAR_COLS를 사용한다.\n",
    "print('mean=', mean)\n",
    "print('cov=', cov)\n",
    "\n",
    "ret, icov = cv2.invert(cov)                                                # ret, icov = cv2.invert(cov)는 공분산 행렬 cov의 역행렬 icov를 계산한다.\n",
    "print('icov=',icov)\n",
    "\n",
    "v1 = np.array([[0],[0]] , dtype=np.float64)\n",
    "v2 = np.array([[0],[50]], dtype=np.float64)\n",
    "\n",
    "dist = cv2.Mahalanobis(v1, v2, icov)                                       # dist = cv2.Mahalanobis(v1, v2, icov)는 두 벡터 v1, v2 사이의 통계적 거리인 마하라노비스 거리로 공분산 행렬의 역행렬을 이용하여 계산한다.\n",
    "print('dist = ', dist)\n",
    "                \n",
    "cv2.waitKey()    \n",
    "cv2.destroyAllWindows()\n"
   ]
  },
  {
   "cell_type": "code",
   "execution_count": 1,
   "id": "181d6975-55b5-4ca8-8606-d72aa5903c74",
   "metadata": {},
   "outputs": [
    {
     "name": "stdout",
     "output_type": "stream",
     "text": [
      "eVals= [[92202.13359547]\n",
      " [ 7835.36640453]]\n",
      "eVects= [[ 0.88390424  0.46766793]\n",
      " [-0.46766793  0.88390424]]\n"
     ]
    }
   ],
   "source": [
    "# 0424.py\n",
    "import cv2\n",
    "import numpy as np\n",
    " \n",
    "X = np.array([[0, 0,  0,100,100,150, -100,-150],\n",
    "                 [0,50,-50,  0, 30,100,  -20,-100]], dtype=np.float64)     # 64비트 실수형인 2차원 배열 생성\n",
    "X = X.transpose() # X = X.T                                                # 행렬 전치\n",
    "\n",
    "cov, mean = cv2.calcCovarMatrix(X, mean=None,\n",
    "                                    flags=cv2.COVAR_NORMAL+cv2.COVAR_ROWS) # # cv2.calcCovarMatrix(X, mX, cv2.COVAR_NORMAL + cv2.COVAR_ROWS)는\n",
    "                                                                           # input인 X의 각 행(cv2.COVAR_ROWS)에서 (x, y) 좌표의 평균 mean, 공분산 행렬 cov를 계산한다.\n",
    "                                                                           # 평균 mean은 1x2 열벡터이고, 공분산 행렬 cov는 2x2 행렬이다.\n",
    "                                                                           # 만약 데이터가 행렬의 열에 있으면 flags에 cv2.COVAR_COLS를 사용한다.\n",
    "            \n",
    "ret, icov = cv2.invert(cov)                                                # ret, icov = cv2.invert(cov)는 공분산 행렬 cov의 역행렬 icov를 계산한다.\n",
    "\n",
    "dst = np.full((512,512,3), (255, 255, 255), dtype= np.uint8)\n",
    "rows, cols, channel = dst.shape\n",
    "centerX = cols//2                                                          # 256\n",
    "centerY = rows//2                                                          # 256\n",
    "\n",
    "v2 = np.zeros((1,2), dtype=np.float64)                                     # 배열의 요소가 0이고 64비트 실수형 타입의 (1,2)2차원 튜플 생성\n",
    "FLIP_Y = lambda y: rows - 1 - y                                            # FLIP_Y(y)함수는 y 좌표를 rows -1 -y로 변환하여 y-축을 반전시킨다.\n",
    "\n",
    "# draw Mahalanobis distance\n",
    "for y in range(rows):\n",
    "    for x in range(cols):\n",
    "        v2[0,0] = x - centerX\n",
    "        v2[0,1] = FLIP_Y(y) - centerY # y-축 뒤집기 \n",
    "        dist = cv2.Mahalanobis(mean, v2, icov)                             # dist =cv2.Mahalanobis(mean, v2, icov)는 rows x cols의 각 좌표를 중심점 (centerX, centerY)을 원점으로 변환한 벡터 v2와 평균 벡터 mean의 마하라노비스 거리 dist를 계산한다.\n",
    "        \n",
    "        if dist < 0.1:                                                     # dist < 0.1이면 [50, 50, 50], dist < 0.3이면 [100, 100, 100], dist < 0.8이면 [200, 200, 200], 그 외에는 [250, 250, 250] 색상을 dst[y,x]에 저장한다.\n",
    "            dst[y, x] = [50, 50, 50]\n",
    "        elif dist < 0.3:\n",
    "            dst[y, x] = [100, 100, 100]\n",
    "        elif dist < 0.8:\n",
    "            dst[y, x] = [200, 200, 200]\n",
    "        else:\n",
    "            dst[y, x] = [250, 250, 250]\n",
    "            \n",
    "for k in range(X.shape[0]):                                                # X의 k-번째 행의 좌표를 (x, y)를 원점(centerX, centerY)를 기준으로 좌표(cx, cy)로 변환하고,\n",
    "    x, y = X[k,:]                                                          # cy = FLIP_Y(cy)로 y-좌표를 반전시켜 cv2.circle()함수로 dst에 빨간색(0, 0, 255) 원으로 표시된다.\n",
    "    cx = int(x+centerX)\n",
    "    cy = int(y+centerY)\n",
    "    cy = FLIP_Y(cy)\n",
    "    cv2.circle(dst,(cx,cy),radius=5,color=(0,0,255),thickness=-1)\n",
    "    \n",
    "# draw X, Y-axes\n",
    "cv2.line(dst, (0, 256), (cols-1, 256), (0, 0, 0))\n",
    "cv2.line(dst, (256,0), (256,rows), (0, 0, 0))\n",
    "\n",
    "# calculate eigen vectors\n",
    "ret, eVals, eVects = cv2.eigen(cov)                                        # ret, eVals, evects = cv2.eigen(cov)는 공분산 행렬 cov의 고유값 eVals, 고유 벡터 eVects를 계산한다.\n",
    "print('eVals=',  eVals)\n",
    "print('eVects=', eVects)\n",
    "\n",
    "def ptsEigenVector(eVal, eVect):                                           # def ptsEigenVector(eVal, eVect)는 고유값 eVal, 고유벡터 eVect를 이용하여\n",
    "                                                                           # 고유 벡터위의 대칭인 두 좌표(x1, y1), (x2, y2)을 계산한다.\n",
    "##    global mX, centerX, centerY                                          # scale = np.sqrt(eVal)은 고유값의 제곱근을 scale에 저장한다.\n",
    "                                                                           # x1 = scale * eVect[0], y1 = scale * eVect[1]은 고유 벡터를 scale하여\n",
    "    scale = np.sqrt(eVal) # eVal[0]                                        # 좌표 (x1, y1)를 계산하고, x2, y2 = -x1, -y1은 대칭을 이용하여\n",
    "    x1 = scale*eVect[0]                                                    # (x2, y2)를 계산한다.\n",
    "    y1 = scale*eVect[1]                                                    # 좌표(x1, y1), (x2, y2)을 평균벡터로 이동하고, \n",
    "    x2, y2 = -x1, -y1 # 대칭                                                \n",
    "    x1 += mean[0,0] + centerX                                              # 원점을 (centerX, centerY)로 변환하고, y1, y2는 반전시킨다.\n",
    "    y1 += mean[0,1] + centerY\n",
    "    x2 += mean[0,0] + centerX\n",
    "    y2 += mean[0,1] + centerY\n",
    "    y1 = FLIP_Y(y1)\n",
    "    y2 = FLIP_Y(y2)\n",
    "    return int(x1), int(y1), int(x2), int(y2)\n",
    "\n",
    " \n",
    "# draw eVects[0]\n",
    "x1, y1, x2, y2 = ptsEigenVector(eVals[0], eVects[0])                       # x1, y1, x2, y2 = ptsEigenVector(eVals[0], eVects[0])는 고유값 eVals[0],\n",
    "cv2.line(dst, (x1, y1), (x2, y2), (255, 0, 0), 2)                          # 고유 벡터 eVects[0]을 이용하여 고유 벡터 위의 대칭인 두 좌표(x1, y1), (x2, y2)을 계산한다.\n",
    "                                                                           # cv2.line(dst, (x1, y1), (x2, y2), (255, 0, 0), 2)으로 dst에 파란색(255, 0, 0)라인으로 그린다.\n",
    "# draw eVects[1]\n",
    "x1, y1, x2, y2 = ptsEigenVector(eVals[1], eVects[1])\n",
    "cv2.line(dst, (x1, y1), (x2, y2), (255, 0, 0), 2)\n",
    "\n",
    "cv2.imshow('dst', dst)               \n",
    "cv2.waitKey()    \n",
    "cv2.destroyAllWindows()\n"
   ]
  },
  {
   "cell_type": "code",
   "execution_count": 4,
   "id": "0f13c880-748c-4450-82b3-58cfef3e5d20",
   "metadata": {
    "jp-MarkdownHeadingCollapsed": true,
    "tags": []
   },
   "outputs": [
    {
     "name": "stdout",
     "output_type": "stream",
     "text": [
      "mean =  [[12.5   1.25]]\n",
      "eVects =  [[ 0.88390424  0.46766793]\n",
      " [-0.46766793  0.88390424]]\n",
      "Y =  [[ -11.63338792    4.74096885]\n",
      " [  11.75000868   48.93618085]\n",
      " [ -35.01678451  -39.45424315]\n",
      " [  76.75703609  -42.02582434]\n",
      " [  90.78707404  -15.50869713]\n",
      " [ 167.71904127   22.98120308]\n",
      " [-109.37717055   33.82967723]\n",
      " [-190.9858171   -13.49926538]]\n",
      "X2 =  [[ 1.77635684e-15  0.00000000e+00]\n",
      " [ 3.55271368e-15  5.00000000e+01]\n",
      " [ 0.00000000e+00 -5.00000000e+01]\n",
      " [ 1.00000000e+02 -7.10542736e-15]\n",
      " [ 1.00000000e+02  3.00000000e+01]\n",
      " [ 1.50000000e+02  1.00000000e+02]\n",
      " [-1.00000000e+02 -2.00000000e+01]\n",
      " [-1.50000000e+02 -1.00000000e+02]]\n",
      "True\n"
     ]
    }
   ],
   "source": [
    "# 0425.py\n",
    "import cv2\n",
    "import numpy as np\n",
    "\n",
    "X = np.array([[0, 0,  0,100,100,150, -100,-150],\n",
    "                 [0,50,-50,  0, 30,100,  -20,-100]], dtype=np.float64)\n",
    "X = X.transpose() # X = X.T\n",
    "\n",
    "##mean = cv2.reduce(X, 0, cv2.REDUCE_AVG)\n",
    "##print('mean = ', mean)\n",
    "\n",
    "mean, eVects = cv2.PCACompute(X, mean=None)  # X의 평균 벡터 mean, 공분산 행렬의 고유 벡터 eVects를 계산한다.\n",
    "print('mean = ', mean)\n",
    "print('eVects = ', eVects)\n",
    "\n",
    "Y =cv2.PCAProject(X, mean, eVects)           # 고유 벡터 eVects에 의해 PCA 두영한다. 즉 데이터를 고유 벡터를 축으로 한 좌표로 변환한다.\n",
    "print('Y = ', Y)\n",
    "\n",
    "X2 =cv2.PCABackProject(Y, mean, eVects)      # Y를 PCA 역투영하면 원본 X를 복구할 수 있다. X와 X2는 오차범위 내에서 같은 값을 갖는다. 즉, np.alllose(X, X2)는 True이다.\n",
    "print('X2 = ', X2)\n",
    "print(np.allclose(X, X2))\n",
    "cv2.waitKey()    \n",
    "cv2.destroyAllWindows()\n"
   ]
  },
  {
   "cell_type": "code",
   "execution_count": 7,
   "id": "efd5742e-125c-41a6-b5dd-b2696f0e46c1",
   "metadata": {},
   "outputs": [
    {
     "name": "stdout",
     "output_type": "stream",
     "text": [
      "X.shape= (262144, 3)\n",
      "mean =  [[105.39899  99.5627  179.7303 ]]\n",
      "eVects =  [[ 0.3958077   0.68919426  0.6069166 ]\n",
      " [-0.6352216  -0.27180612  0.72292113]\n",
      " [ 0.6631967  -0.6716642   0.3302081 ]]\n",
      "Y.shape= (512, 512, 3)\n"
     ]
    }
   ],
   "source": [
    "# 0426.py\n",
    "import cv2\n",
    "import numpy as np\n",
    "\n",
    "src = cv2.imread('./data/lena.jpg') \n",
    "b, g, r = cv2.split(src)                                          # 'lena.jpg'영상을 컬러로 읽은 src를 b, g, r로 채널을 분리한다.\n",
    "cv2.imshow('b', b)\n",
    "cv2.imshow('g', g)\n",
    "cv2.imshow('r', r)\n",
    "\n",
    "X = src.reshape(-1, 3)                                            # 행값에 -1이들어가면 3열로된 2차원배열로 행은 자동으로 맞춰서 생성이 된다. \n",
    "print('X.shape=', X.shape)\n",
    "\n",
    "mean, eVects = cv2.PCACompute(X, mean=None)                       # X의 평균 벡터 mean, 공분산 행렬의 고유벡터 eVects를 계산한다. eVect는 3x3행렬이다.\n",
    "print('mean = ', mean)\n",
    "print('eVects = ', eVects)\n",
    "\n",
    "Y =cv2.PCAProject(X, mean, eVects)                                # 고유 벡터 eVects에 의해 X를 Y에 PCA 투영한다.\n",
    "Y = Y.reshape(src.shape)                                          # Y의 모양을 재조정한다. Y.shape = (512, 512, 3)\n",
    "print('Y.shape=', Y.shape)\n",
    "\n",
    "eImage = list(cv2.split(Y))                                       # Y를 elmage에 채널 분리\n",
    "for i in range(3): \n",
    "    cv2.normalize(eImage[i], eImage[i], 0, 255, cv2.NORM_MINMAX)  # 각 채널 elmage[i]의 값을 [0, 255]로 정규화\n",
    "    eImage[i]=eImage[i].astype(np.uint8)                          # 8-비트 영상으로 변환한다.\n",
    "    \n",
    "cv2.imshow('eImage[0]', eImage[0])\n",
    "cv2.imshow('eImage[1]', eImage[1])\n",
    "cv2.imshow('eImage[2]', eImage[2])\n",
    "cv2.waitKey()    \n",
    "cv2.destroyAllWindows()\n"
   ]
  },
  {
   "cell_type": "code",
   "execution_count": null,
   "id": "a5cc6b0c-cba3-4270-9295-aa770391337a",
   "metadata": {},
   "outputs": [],
   "source": []
  },
  {
   "cell_type": "markdown",
   "id": "a9cb6ee1-bf9b-4ca1-a156-63c6ff5ce63c",
   "metadata": {},
   "source": []
  }
 ],
 "metadata": {
  "kernelspec": {
   "display_name": "Python 3 (ipykernel)",
   "language": "python",
   "name": "python3"
  },
  "language_info": {
   "codemirror_mode": {
    "name": "ipython",
    "version": 3
   },
   "file_extension": ".py",
   "mimetype": "text/x-python",
   "name": "python",
   "nbconvert_exporter": "python",
   "pygments_lexer": "ipython3",
   "version": "3.8.13"
  }
 },
 "nbformat": 4,
 "nbformat_minor": 5
}
