{
 "cells": [
  {
   "cell_type": "markdown",
   "id": "0f960ba3-b243-4405-9739-6bb421850cd7",
   "metadata": {},
   "source": [
    "## 영상 특징 검출"
   ]
  },
  {
   "cell_type": "markdown",
   "id": "d2f0642b-2ffa-48ac-b9d5-2d89459a5bdb",
   "metadata": {},
   "source": [
    "1. 영상으로부터 계산할 수 있는 영상 특징은 매우 다양하다. 이미 설명한 에지(edges), 직선(lines), 원(circles)을 포함한 코너점(corner points), 사각형(rectangle) 등의 구조적인 특징이있다.\n",
    "2. 영상의 밝기/컬러의 평균(averages), 분산(variances), 히스토그램(histograms), 분포(distribution), 그래디언트(gradients)의 크기 및 방향 등의 화소값 관련된 특징이 있다.\n",
    "3. 이러한 영상 특징은 화소 주변 이웃으로부터 계산하는 지역 특징(local features)과 영상 전체에서 계산하는 전역 특징(global features)이 있다.\n",
    "4. 특징 검출기(feature detector)는 영상으로부터 관심 영역의 위치(location)를 검출하는 알고리즘이다.\n",
    "4. 특징 디스크립터(feature descriptors)는 영상 매칭(matching)을 위한 정보를 표현한 특징 벡터이다."
   ]
  },
  {
   "cell_type": "markdown",
   "id": "24e751fa-03cc-46e4-a096-2ce43c944edf",
   "metadata": {
    "tags": []
   },
   "source": [
    "### 코너점 검출"
   ]
  },
  {
   "cell_type": "markdown",
   "id": "769bc61a-bdc3-42e8-be5d-00d07838bcf6",
   "metadata": {},
   "source": [
    "- cv2.preCornerDetect(src, ksize) -> dst"
   ]
  },
  {
   "cell_type": "markdown",
   "id": "df178a77-5203-4c52-9659-03536996b577",
   "metadata": {},
   "source": [
    "##### 영상 src에서 코너점 검출을 위한 특징맵 dst를 Sobel 미분 연산자를 이용하여 계산한다. ksize는 Sobel 연산자의 마스크 크기이다.\n",
    "##### 코너점은 dst에서 지역 극값에서 검출된다."
   ]
  },
  {
   "cell_type": "markdown",
   "id": "ead4310f-d826-453a-b85e-01950ce4c813",
   "metadata": {},
   "source": [
    "- cv2.cornerEigenValsAndVecs(src, blockSize, ksize) -> dst"
   ]
  },
  {
   "cell_type": "markdown",
   "id": "d5400dfe-a8be-41a9-8278-f829166e206e",
   "metadata": {},
   "source": [
    "##### 입력 영상 src에서 각 화소의 고유값과 고유 벡터를 6-채널 dst에 계산한다.\n",
    "##### 영상의 모든 화소에 대하여, blockSize x blockSize의 이웃에 있는 미분 값을 이용하여 2 x 2 크기의 그래디언트를 이용한 공분산 행렬 M을 계산하고, M의 고유값 λ<sub>1</sub>, λ<sub>2</sub>, 고유 벡터 (x<sub>1</sub>, y<sub>1</sub>), (x<sub>2</sub>, y<sub>2</sub>)을 계산하여 dst에 저장한다.\n",
    "##### 고유값 λ<sub>1</sub>, λ<sub>2</sub>이 모두 작은 곳은 평평한 영역에 있는 점이며, 고유값 λ<sub>1</sub>, λ<sub>2</sub> 중에서 하나는 크고 하나는 작으면 에지(edges)이며, 두 고유값 λ<sub>1</sub>, λ<sub>2</sub>이 모두 큰 곳이 코너점이다."
   ]
  },
  {
   "cell_type": "markdown",
   "id": "98a95823-c962-43ee-98bf-e9b1b954b8b6",
   "metadata": {},
   "source": [
    "- cv2.cornerMinEigenVal(src, blockSize) -> dst"
   ]
  },
  {
   "cell_type": "markdown",
   "id": "aff37ac8-df31-4fb5-b572-d38bd7fb18c0",
   "metadata": {},
   "source": [
    "##### 입력 영상 src에서 각 화소의 최소 고유값을 dst에 계산한다.\n",
    "##### 공분한 행렬 M으로부터 최소 고유값 min(λ<sub>1</sub>, λ<sub>2</sub>)을 출력 행렬 dst에 저장한다.\n",
    "##### dst에서 임계값보다 큰 화소가 코너점이다."
   ]
  },
  {
   "cell_type": "markdown",
   "id": "b91fecab-b7e0-4abe-aa74-de26e0377e42",
   "metadata": {},
   "source": [
    "- cv2.cornerHarris(src, blockSize, ksize, k) -> dst"
   ]
  },
  {
   "cell_type": "markdown",
   "id": "19a7c715-ac9f-4326-9e7d-865e3ed0276b",
   "metadata": {},
   "source": [
    "##### 입력 영상 src에서 각 화소의 Harris 반응값을 dst에 계산한다.\n",
    "##### k는 Harris 코너 검출 상수로 0.01에서 0.06사이의 값을 주로 사용한다.\n",
    "##### Harris 코너 검출 반응값의 행렬 dst에서 지역 극대값이 코너점이 된다.\n",
    "##### dst(x, y) = det(M(x, y)) - k * trace(M(x, y))<sup>2</sup>"
   ]
  },
  {
   "cell_type": "markdown",
   "id": "632eeabb-11de-47bb-817c-c013b5c65496",
   "metadata": {},
   "source": [
    "- cv2.cornerSubPix(image, corners, winSize, zeroZone, criteria) -> corners"
   ]
  },
  {
   "cell_type": "markdown",
   "id": "97037f76-f9ee-4336-9366-b9623e972813",
   "metadata": {},
   "source": [
    "##### 입력 영상 image에서 검출된 코너점 corners를 입력하여 코너점의 위치를 부화소 수준으로 다시 계산하여 반환한다.\n",
    "##### winSize은 탐색영역의 크기를 정의하며, 예를 들어 winSize = (3, 3)이면, 탐색 영역을 (3 x 2 + 1) x (3 x 2 + 1)크기이다.\n",
    "##### zeroZone을 설정하면 winSize 영역 내에서 해당 영역을 마스크 처리하여 탐색 영역에서 계산하지 않는다.\n",
    "##### zeroZone = (-1, -1)이면 zeroZone이 설정되지 않는다. criteria는 최대 반복회수와 오차를 사용한 종료 조건이다."
   ]
  },
  {
   "cell_type": "markdown",
   "id": "9890e573-1535-4d4c-a752-ca2e526cf3d7",
   "metadata": {},
   "source": [
    "- cv2.goodFeaturesToTrack(image, maxCorners, qualityLevel, minDistance[, corners[, mask[, blockSize[, useHarrisDetector[, k ]]]]]) -> corners"
   ]
  },
  {
   "cell_type": "markdown",
   "id": "5b198d4d-eaca-4e67-a4e4-ac356325a650",
   "metadata": {},
   "source": [
    "##### 영상 image에서 추적하기 좋은 강한 코너점을 검출한다.\n",
    "##### maxCorners는 최대 코너점 개수이고, qualityLevel는 최소 코너점의 질(quality)을 결정하는 값이다.\n",
    "##### minDistance는 코너점들 사이의 최소 거리이다.\n",
    "##### mask는 코너점이 검출될 영역을 지정하며, mask = None이면 영상 전체에서 코너점을 계산한다.\n",
    "##### blockSize는 블록의 크기이고, useHarrisDetector = False이면 cv2.cornerMinEigenVal()를 사용하고, useHarrisDetector = True이면 cv2.cornerHarris()를 사용한다.\n",
    "##### k는 해리스 코너점 검출에 사용되는 상수이다."
   ]
  },
  {
   "cell_type": "markdown",
   "id": "c06362d2-5da0-46c2-ab4e-a7ab87970e68",
   "metadata": {},
   "source": [
    "#### 실습"
   ]
  },
  {
   "cell_type": "code",
   "execution_count": 25,
   "id": "6a401ba0-aa89-4d36-99d8-7d1e3726c793",
   "metadata": {},
   "outputs": [
    {
     "name": "stdout",
     "output_type": "stream",
     "text": [
      "corners.shape= (8, 2)\n"
     ]
    }
   ],
   "source": [
    "## cv2.preConerDetect() 코너점 검출\n",
    "# 0801.py\n",
    "import cv2\n",
    "import numpy as np\n",
    "#1\n",
    "def findLocalMaxima(src):\n",
    "    kernel = cv2.getStructuringElement(shape = cv2.MORPH_RECT, ksize = (11, 11))\n",
    "    # local max if kernel = None, 3x3\n",
    "    dilate = cv2.dilate(src, kernel)\n",
    "    localMax = (src == dilate)\n",
    "    # lacal min if kernel = None, 3x3\n",
    "    erode = cv2.erode(src, kernel)\n",
    "    localMax2 = src > erode\n",
    "    localMax &= localMax2\n",
    "    points = np.argwhere(localMax == True)\n",
    "    points[:,[0,1]] = points[:,[1,0]]\n",
    "    # switch x, y\n",
    "    return points\n",
    "# findLocalmaxima()는 src에서 팽창과 침식의 모폴로지 연산으로 지역 극대값의 좌표흫 points 배열에 검출하여 반환한다.\n",
    "# cv2.dilate()로 src에서 rectKernel의 이웃에서 최대값을 dilate에 계산한다.\n",
    "# 커널을 None을 사용하면 3x3 사각형 이웃이다. src ==dilate로 src에서 지역 최대값의 위치를 localMax 배열에 계산한다.\n",
    "# cv2.erode()로 src에서 rectKernel의 이웃에서 최소값을 erode에 계산한다.\n",
    "# localMax2 = src > erode로 최소값보다 큰 위치를 localMax2에 계산한다. localMax &= localMax2로 localMax와 localMax2를 논리곱하여 지역 최대값 위치를 localMax 배열에 계산한다.\n",
    "# points = np.argwhere()로 localMax 배열에서 True인 위치의 좌표를 points 배열에 찾는다.\n",
    "# np.argwhere()는 행, 열 순서로 찾기 때문에, points[:, [0, 1]] = points[:, [1, 0]]에 의해 좌표순서를 열(x), 행(y)로 변경하여 반환한다.\n",
    "\n",
    "\n",
    "#2\n",
    "src = cv2.imread('./data/CornerTest.jpg')\n",
    "gray = cv2.cvtColor(src, cv2.COLOR_BGR2GRAY)\n",
    "res = cv2.preCornerDetect(gray, ksize=3)\n",
    "ret, res2 = cv2.threshold(np.abs(res), 0.1, 0, cv2.THRESH_TOZERO)\n",
    "corners = findLocalMaxima(res2)\n",
    "print('corners.shape=', corners.shape)\n",
    "# 그레이스케일 영상 gray에서 cv2.preCornerDetect()로 res를 계산한다. \n",
    "# 극대값만을 찾기 위하여 np.abs(res)인 절대값 배열에서, cv2.threshold()로 임계값 thresh = 0.1보다 작은 값은 0으로 변경하여 res2에 저장한다.\n",
    "# 즉, res에서 임계값보다 작은 값을 제거한다. findLocalMaxima()로 res2에서 지역 극값의 좌표를 코너점으로 찾아 corners에 저장한다.\n",
    "\n",
    "#3\n",
    "dst = src.copy()  \n",
    "for x, y in corners:    \n",
    "    cv2.circle(dst, (x, y), 5, (0,0,255), 2)\n",
    "# src를 dst에 복사하고, 코너점 배열 corners의 각 코너점 좌표에 cv2.circle()로 dst에 반지름 5, 빨간색 원을 그린다.\n",
    "    \n",
    "cv2.imshow('dst',  dst) \n",
    "cv2.waitKey()\n",
    "cv2.destroyAllWindows()\n"
   ]
  },
  {
   "cell_type": "code",
   "execution_count": 34,
   "id": "82a9de8c-2e5b-4e1a-9af3-7f3d3be0b168",
   "metadata": {},
   "outputs": [
    {
     "name": "stdout",
     "output_type": "stream",
     "text": [
      "res.shape= (512, 512, 6)\n",
      "len(corners) = 8\n"
     ]
    }
   ],
   "source": [
    "# 코너점 검출: cornerEigenValsAndVecs()\n",
    "# 0802.py\n",
    "import cv2\n",
    "import numpy as np\n",
    "#1\n",
    "src = cv2.imread('./data/CornerTest.jpg')\n",
    "gray = cv2.cvtColor(src, cv2.COLOR_BGR2GRAY)\n",
    "res = cv2.cornerEigenValsAndVecs(gray, blockSize=5, ksize=3)\n",
    "print('res.shape=', res.shape)\n",
    "eigen = cv2.split(res)\n",
    "# cv2.cornerEigenValsAndVecs()로 gray 영상에서 각 화소 이웃에 대한 2x2 공분산 행렬 M의 고유값과 고유 벡터를 res에 계산한다.\n",
    "# res.shape = (512, 512, 6)이다. cv2.split()로 res를 채널 분리하여 eigen에 저장한다.\n",
    "# eigen[0] = λ₁, eigen[1] = λ₂의 고유값이고, λ₁에 대한 고유 벡터는 eigen[2] = x1, eigen[3] = y1이고, λ₂에 대한 고유 벡터는 eigen[4] = x2, eigen[5] = y2에 저장된다.\n",
    "\n",
    "#2\n",
    "T = 0.2\n",
    "ret, edge = cv2.threshold(eigen[0], T, 255, cv2.THRESH_BINARY)\n",
    "edge = edge.astype(np.uint8)\n",
    "# cv2.threshold()로 eigen[0]에서 임계값 T = 0.2로 이진 영상 edge를 검출한다.\n",
    "\n",
    "#3\n",
    "corners = np.argwhere(eigen[1]>T)\n",
    "corners[:,[0, 1]] = corners[:,[1, 0]]\n",
    "print('len(corners) =', len(corners))\n",
    "\n",
    "dst = src.copy()\n",
    "for x, y in corners:  \n",
    "    cv2.circle(dst, (x, y), 5, (0,0,255), 2)\n",
    "# 작은 고유값 eigen[1]이 T보다 크면, 큰 고유값 eigen[0] T보다 크므로 np.argwhere()로 eigen[1] > T인 좌표를 코너점 배열 corners에 검출하고, corners[:, [0, 1]] = corners[:, [1, 0]]에 의해 좌표순서를 열 x, 행 y로 변경하여 반환한다.\n",
    "# corners의 각 코너점 좌표에 cv2.circle()로 dst에 반지름 5인 빨간색 원을 표시한다.\n",
    "    \n",
    "cv2.imshow('edge',  edge) \n",
    "cv2.imshow('dst',  dst)\n",
    "cv2.waitKey()\n",
    "cv2.destroyAllWindows()\n"
   ]
  },
  {
   "cell_type": "code",
   "execution_count": 33,
   "id": "02e4c49c-7c3b-4df6-9027-002c5407105b",
   "metadata": {},
   "outputs": [
    {
     "name": "stdout",
     "output_type": "stream",
     "text": [
      "eigen.shape= (512, 512)\n",
      "len(corners ) = 8\n"
     ]
    }
   ],
   "source": [
    "# 코너점 검출 1: cv2.cornerMinEigenVal()\n",
    "# 0803.py\n",
    "import cv2\n",
    "import numpy as np\n",
    "\n",
    "#1\n",
    "src = cv2.imread('./data/CornerTest.jpg')\n",
    "gray = cv2.cvtColor(src, cv2.COLOR_BGR2GRAY)\n",
    "eigen = cv2.cornerMinEigenVal(gray, blockSize=5)\n",
    "print('eigen.shape=', eigen.shape)\n",
    "# cv2.cornerMinEigenVal()로 gray 영상에서 각 화소 이웃에 의한 2x2 공분산 행렬 M의 작은 고유값 λ₂를 eigen.shape (512, 512)인 eigen에 계산한다.\n",
    "\n",
    "#2\n",
    "T = 0.2\n",
    "corners  = np.argwhere(eigen> T)\n",
    "corners[:,[0, 1]] = corners[:,[1, 0]]\n",
    "print('len(corners ) =', len(corners ))\n",
    "dst = src.copy()\n",
    "for x, y in corners :    \n",
    "    cv2.circle(dst, (x, y), 3, (0,0,255), 2)\n",
    "# np.argwhere()로 eigen > T인 좌표를 코너점 배열 corners에 검출하고, corners[:, [0,1]] = corners[:, [1, 0]]에 의해 좌표순서를 열x, 행y로 변경하여 반환한다.\n",
    "# corners의 각 코너점 좌표에 cv2.circle()로 dst에 반지름 5인 빨간색 원을 표시한다.\n",
    "    \n",
    "cv2.imshow('dst',  dst)\n",
    "cv2.waitKey()\n",
    "cv2.destroyAllWindows()\n"
   ]
  },
  {
   "cell_type": "code",
   "execution_count": 32,
   "id": "729558bc-f8bf-43b3-aa8f-be2dcdd6ecb4",
   "metadata": {},
   "outputs": [
    {
     "name": "stdout",
     "output_type": "stream",
     "text": [
      "corners= [[109 127]\n",
      " [264 127]\n",
      " [267 167]\n",
      " [386 170]\n",
      " [109 268]\n",
      " [167 271]\n",
      " [170 374]\n",
      " [386 374]]\n",
      "corners2= [[107.559364 125.559456]\n",
      " [265.44077  125.559235]\n",
      " [265.55923  168.44174 ]\n",
      " [387.4408   168.55888 ]\n",
      " [107.558365 269.44095 ]\n",
      " [168.4415   269.55927 ]\n",
      " [168.55922  375.4408  ]\n",
      " [387.4408   375.4408  ]]\n"
     ]
    }
   ],
   "source": [
    "# 코너점 검출 2: cv2.cornerHarris(), cv2.cornerSubPix()\n",
    "# 0804.py\n",
    "import cv2\n",
    "import numpy as np\n",
    "\n",
    "#1\n",
    "def findLocalMaxima(src):\n",
    "    kernel= cv2.getStructuringElement(shape=cv2.MORPH_RECT, ksize=(11,11))\n",
    "    dilate = cv2.dilate(src,kernel)\n",
    "    localMax = (src == dilate)\n",
    "    \n",
    "    erode = cv2.erode(src,kernel)\n",
    "    localMax2 = src > erode      \n",
    "    localMax &= localMax2\n",
    "    points = np.argwhere(localMax == True)\n",
    "    points[:,[0, 1]] = points[:,[1, 0]] \n",
    "    return points\n",
    "# findLocalMaxima()는 src에서 팽창과 침식의 모폴로지 연산으로 지역 극대값의 좌표를 points를 검출하여 반환한다.\n",
    "\n",
    "#2\n",
    "src = cv2.imread('./data/CornerTest.jpg')\n",
    "gray = cv2.cvtColor(src, cv2.COLOR_BGR2GRAY)\n",
    "res = cv2.cornerHarris(gray, blockSize=5, ksize=3, k=0.01)\n",
    "ret, res = cv2.threshold(np.abs(res),0.02, 0, cv2.THRESH_TOZERO)\n",
    "res8 = cv2.normalize(res, None, 0, 255, cv2.NORM_MINMAX, dtype=cv2.CV_8U)\n",
    "cv2.imshow('res8',  res8)\n",
    "\n",
    "corners = findLocalMaxima(res)\n",
    "print('corners=', corners)\n",
    "# cv2.cornerHarris()로 gray 영상에서 각 화소 이웃에 의한 2x2 공분산 행렬 M의 Harris 반응값을 res에 계산한다.\n",
    "# res.shape = (512, 512)이다. cv2.threshold()로 np.abs(res)에서 임계값 thresh = 0.02보자 작은 값을 0으로 변경하여 res에 저장한다.\n",
    "# Harris 반응값 res를 [0, 255]범위로 정규화한 res8은 다음과 같다.\n",
    "\n",
    "#3\n",
    "#corners = np.float32(corners).copy()\n",
    "corners = corners.astype(np.float32, order='C')\n",
    "term_crit = (cv2.TERM_CRITERIA_MAX_ITER+cv2.TERM_CRITERIA_EPS, 10, 0.01)\n",
    "corners2 = cv2.cornerSubPix(gray, corners,(5,5),(-1,-1), term_crit)\n",
    "print('corners2=', corners2)\n",
    "\n",
    "dst = src.copy()\n",
    "for x, y in np.int32(corners2):    \n",
    "    cv2.circle(dst, (x, y), 3, (0,0,255), 2)\n",
    "# vindLocalMaxima()로 res에서 코너점을 찾아 corners에 저장한다. 이때의 코너점 corners는 정수 좌표이다.\n",
    "# corners를 np.float32 자료형으로 변환한다. 이때 order = 'C'에 의해 C언어 스타일 메모리 구조를 지정하거나, 복사하지 않으면 cv2.cornerSubPix()에서 오류가 발생함에 주의한다.\n",
    "# cv2.cornerSubPix()로 gray 영상에서 코너점 좌표 corners를 부화소 수준으로 계산하여 corners에 저장한다.\n",
    "# 실행 결과를 보면 corners의 좌표는 corners의 좌표는 corners에서 약간 이동된 다른 것을 알 수 있다. corners2의 각 코너점 좌표에 cv2.circle()로 반지름 5인 빨간색 원을 표시한다.\n",
    "\n",
    "cv2.imshow('dst',  dst)\n",
    "cv2.waitKey()\n",
    "cv2.destroyAllWindows()\n"
   ]
  },
  {
   "cell_type": "code",
   "execution_count": 40,
   "id": "995036fa-d471-4ea8-a1a8-14be8a6e5ed7",
   "metadata": {},
   "outputs": [
    {
     "name": "stdout",
     "output_type": "stream",
     "text": [
      "centroids.shape= (9, 2)\n",
      "centroids= [[255.53481922 255.53107522]\n",
      " [108.         126.        ]\n",
      " [265.         126.        ]\n",
      " [266.         168.        ]\n",
      " [387.         169.        ]\n",
      " [108.         269.        ]\n",
      " [168.         270.        ]\n",
      " [169.         375.        ]\n",
      " [387.         375.        ]]\n",
      "corners= [[255.53482  255.53108 ]\n",
      " [107.55841  125.55865 ]\n",
      " [265.44165  125.55835 ]\n",
      " [265.55832  168.44258 ]\n",
      " [387.44168  168.55795 ]\n",
      " [107.557495 269.44186 ]\n",
      " [168.4424   269.55838 ]\n",
      " [168.55832  375.44168 ]\n",
      " [387.44168  375.44168 ]]\n"
     ]
    }
   ],
   "source": [
    "# 코너점 검출 2: cv2.cornerHarris(), cv2.cornerSubPix()\n",
    "# 0805.py\n",
    "import cv2\n",
    "import numpy as np\n",
    "\n",
    "#1\n",
    "src = cv2.imread('./data/CornerTest.jpg')\n",
    "gray = cv2.cvtColor(src, cv2.COLOR_BGR2GRAY)\n",
    "res = cv2.cornerHarris(gray, blockSize=5, ksize=3, k=0.01)\n",
    "# cv2.cornerHarris()로 gray 영상에서 각 화소 이웃에 의한 2x2 공분산 행렬 M의 Harris 반응값을 res에 계산한다.\n",
    "# res.shape(512, 512)이다.\n",
    "\n",
    "#2\n",
    "res = cv2.dilate(res, None) # 3x3 rect kernel\n",
    "ret, res = cv2.threshold(res, 0.01*res.max(),255,cv2.THRESH_BINARY)\n",
    "res8 = np.uint8(res)\n",
    "cv2.imshow('res8',  res8)\n",
    "# cv2.dilate()로 res에 3x3 사각형 커널을 사용하여 팽창연산으로 지역 최대값을 res에 계산한다.\n",
    "# cv2.threshold()로 res에서 임계값 thresh = 0.01 * res.max()보다 크면 255인 이진 영상을 res에 저장한다.\n",
    "# Harris 반응값 res를 np.uin8 자료형으로 변경\n",
    "\n",
    "#3\n",
    "ret, labels, stats, centroids = cv2.connectedComponentsWithStats(res8)\n",
    "print('centroids.shape=', centroids.shape)\n",
    "print('centroids=',centroids)\n",
    "centroids = np.float32(centroids)\n",
    "# cv2.connectedComponentsWithStats()로 이진 영상 res8를 레이블링하여 레이블개수 ret, 레이블 정보 labels, 통계정보 stats, 중심섬 centroids를 계산한다.\n",
    "# 배경을 포함하기 때문에 ret = 9dlek. centroids의 자료형을 np.float32로 변경\n",
    "# 반응값이 임계값보다 큰 영역의 중심인 centroids가 코너점이다. 이때는 order = 'C'를 지정하지 않아도 cv2.cornerSubPix()에서 오류가 발생하지 않는다.\n",
    "\n",
    "#4\n",
    "term_crit=(cv2.TERM_CRITERIA_MAX_ITER+cv2.TERM_CRITERIA_EPS,10, 0.001)\n",
    "corners = cv2.cornerSubPix(gray, centroids, (5,5), (-1,-1), term_crit)\n",
    "print('corners=',corners)\n",
    "# cv2.cornerSubPix()로 gray 영상에서 centroids를 부화소 수준으로 계산하여 corners에 저장한다.\n",
    "# corners[0]은 배경의 중심점이다. 물체의 코너점인 corners[1:]의 각 좌표에 cv2.circle()로 반지름 5인 빨간색 원을 표시한다.\n",
    "\n",
    "#5\n",
    "corners = np.round(corners)\n",
    "dst = src.copy()\n",
    "for x, y in corners[1:]:    \n",
    "    cv2.circle(dst, (int(x), int(y)), 5, (0,0,255), 2)\n",
    "\n",
    "cv2.imshow('dst',  dst) \n",
    "cv2.waitKey()\n",
    "cv2.destroyAllWindows()\n"
   ]
  },
  {
   "cell_type": "code",
   "execution_count": 39,
   "id": "01db156a-c137-4cd8-908a-1f4b23195888",
   "metadata": {},
   "outputs": [
    {
     "name": "stdout",
     "output_type": "stream",
     "text": [
      "corners.shape= (5, 1, 2)\n",
      "corners= [[[387. 375.]]\n",
      "\n",
      " [[169. 375.]]\n",
      "\n",
      " [[265. 126.]]\n",
      "\n",
      " [[168. 270.]]\n",
      "\n",
      " [[266. 168.]]]\n",
      "corners2.shape= (5, 1, 2)\n",
      "corners2= [[[387. 375.]]\n",
      "\n",
      " [[169. 375.]]\n",
      "\n",
      " [[265. 126.]]\n",
      "\n",
      " [[387. 169.]]\n",
      "\n",
      " [[108. 269.]]]\n"
     ]
    }
   ],
   "source": [
    "## cv2/goodFeaturesToTrack() 코너점 검출\n",
    "# 0806.py\n",
    "import cv2\n",
    "import numpy as np\n",
    "\n",
    "#1\n",
    "src = cv2.imread('./data/CornerTest.jpg')\n",
    "gray = cv2.cvtColor(src, cv2.COLOR_BGR2GRAY)\n",
    "\n",
    "K = 5 \n",
    "# K = 10\n",
    "corners = cv2.goodFeaturesToTrack(gray, maxCorners=K,\n",
    "              qualityLevel=0.05, minDistance=10)\n",
    "print('corners.shape=',corners.shape)\n",
    "print('corners=',corners)\n",
    "# cv2.goodFeaturesToTrack()로 gray에서 최대 코너점 maxCorners = K를 적용하여 코너점 corners에 검출한다. K = 5인 경우, corners.shape = (5, 1, 2)로 5개의 코너점의 좌표가 (1, 2)에 저장된다.\n",
    "\n",
    "#2\n",
    "corners2 = cv2.goodFeaturesToTrack(gray, maxCorners=K,\n",
    "               qualityLevel=0.05, minDistance=10,\n",
    "               useHarrisDetector=True, k=0.04)\n",
    "print('corners2.shape=',corners2.shape)\n",
    "print('corners2=',corners2)\n",
    "# cv2.goodFeaturesToTrack()로 gray에서 최대 코너점 maxCorners = K를 적용하여 코너점 corners2에 검출한다.\n",
    "# K = 5인 경우, corner.shape = (5, 1, 2)로 5개의 코너점의 좌표가 (1, 2)에 저장된다.\n",
    "\n",
    "#3\n",
    "dst = src.copy()\n",
    "corners = corners.reshape(-1, 2)\n",
    "for x, y in corners:    \n",
    "    cv2.circle(dst, (int(x), int(y)), 5, (0,0,255), -1)\n",
    "\n",
    "corners2 = corners2.reshape(-1, 2)\n",
    "for x, y in corners2:    \n",
    "    cv2.circle(dst, (int(x), int(y)), 5, (255,0,0), 2)\n",
    "    \n",
    "# corners의 각 좌표에 cv2.circle()로 반지름 5인 빨간색 채워진 원으로 dst에 표시한다.\n",
    "# corners2의 각 좌표에 cv2.circle()로 반지름 5인 파란색, 두께 2인 원으로 dst에 표시한다.\n",
    "    \n",
    "cv2.imshow('dst',  dst) \n",
    "cv2.waitKey()\n",
    "cv2.destroyAllWindows()\n"
   ]
  },
  {
   "cell_type": "markdown",
   "id": "dcc97580-a47c-4790-b38b-8aeaf93c2da5",
   "metadata": {
    "jp-MarkdownHeadingCollapsed": true,
    "tags": []
   },
   "source": [
    "### 체스보드 패턴 코너점 검출"
   ]
  },
  {
   "cell_type": "markdown",
   "id": "012642a8-2631-4dbb-9383-0171c446ba46",
   "metadata": {},
   "source": [
    "- cv2.findChessboardCorners(image, patternSize[, corners[, flags ]]) -> retval, corners"
   ]
  },
  {
   "cell_type": "markdown",
   "id": "ea903bb9-6aa4-4c44-8188-ab554fb4c2e1",
   "metadata": {},
   "source": [
    "##### image에서 체스보드 패턴의 내부 코너점을 순차적으로 검출한다. 시작점은 왼쪽-위 또는 오른쪽-아래에서 시작하여 행우선 순서로 검출하여 corners에 반환한다.\n",
    "##### image는 그레이스케일 또는 컬러 영상이고, patternSize는 패턴의 내부코너점의 열과 행의 크기로 patternSize = (points_per_row, points_per_colum)이다.\n",
    "##### flags = 0이거나 cv2.CALIB_CB_ADAPTIVE_THRESH, cv2.CALIB_CB_NORMALIZE_IMAGE, cv2.CALIB_CB_FILTER_QUADS, cv2.CALIB_CB_FAST_CHECK를 조합해 사용한다.\n",
    "##### 검출된 코너점은 CORNERS 배열에 반환한다."
   ]
  },
  {
   "cell_type": "markdown",
   "id": "18201b3c-9719-4fd7-8c16-dd05069d4883",
   "metadata": {},
   "source": [
    "- cv2.findCirclesGrid(image, patternSize[, centers[, flags[, blobDetector ]]]) -> retval, centers"
   ]
  },
  {
   "cell_type": "markdown",
   "id": "59da2627-7839-4a94-b0e9-984be4e8b3a3",
   "metadata": {},
   "source": [
    "##### 원 형태의 격자에서 원의 중심점을 검출한다.\n",
    "##### patternSize는 패턴의 내부 코너점의 열과 행의 크기로 patternSize = (points_per_row, points_per_colum)이다.\n",
    "##### flags는 cv2.CALIB_CB_SYMMETRIC_GRID, cv2.CALIB_CB_ASYMMETRIC_GRID, cv2.CALIB_CB_CLUSTERING 중 하나이다.\n",
    "##### blobDetector는 사용할 blob 검출기이다."
   ]
  },
  {
   "cell_type": "markdown",
   "id": "ffaf0ead-9321-49e7-8d8e-568d9e078da2",
   "metadata": {},
   "source": [
    "- cv2.draChessboardCorners(image, patternSize, corners, patternWasFound) -> image"
   ]
  },
  {
   "cell_type": "markdown",
   "id": "30bb9312-0760-45f9-8476-ad09318016cc",
   "metadata": {},
   "source": [
    "##### cv2.findChessboardCorners()로 검출된 코너점 배열 corners를 8비트 컬러 영상 image에 표시한다.\n",
    "##### patternSize는 패턴의 크기, patternWasFound는 패턴이 발견되었는지 여부이다."
   ]
  },
  {
   "cell_type": "markdown",
   "id": "c5ee5c68-0608-4751-af62-8b1e6b2d1afb",
   "metadata": {},
   "source": [
    "#### 실습"
   ]
  },
  {
   "cell_type": "code",
   "execution_count": 60,
   "id": "86cc7450-5977-4fee-9a9e-0b1b67b0d6fb",
   "metadata": {},
   "outputs": [
    {
     "name": "stdout",
     "output_type": "stream",
     "text": [
      "corners.shape= (18, 1, 2)\n"
     ]
    }
   ],
   "source": [
    "## 체스보드 패턴 코너점 검출: cv2.findChessboardCorners()\n",
    "# 0807.py\n",
    "import cv2\n",
    "import numpy as np\n",
    "\n",
    "#1\n",
    "src = cv2.imread('./data/chessBoard.jpg')\n",
    "gray = cv2.cvtColor(src, cv2.COLOR_BGR2GRAY)\n",
    "found, corners = cv2.findChessboardCorners(src, patternSize = (6, 3))\n",
    "print('corners.shape=', corners.shape)\n",
    "# src영상은 7x4의 흰색과 검은색 사각형을 갖는다. 체스보드 패턴의 내부 코너점은 6x3이다.\n",
    "# src 또는 gray에서 cv2.findChessboardCorners()로 patternSize(6,3)의 패턴 크기의 코너점을 corners에 검출한다.\n",
    "# found = True이고, corners.shape = (18, 1, 2)으로 18개의 코너점의 좌표를 (1, 2)에 저장한다.\n",
    "\n",
    "#2\n",
    "term_crit=(cv2.TERM_CRITERIA_EPS+cv2.TERM_CRITERIA_MAX_ITER, 10, 0.01)\n",
    "corners2 = cv2.cornerSubPix(gray, corners, (5,5), (-1,-1), term_crit)\n",
    "# cv2.cornerSubPix()로 corners를 부화소 수준으로 corners2에 계산한다.\n",
    "\n",
    "#3\n",
    "dst = src.copy()\n",
    "cv2.drawChessboardCorners(dst, patternSize, corners2, found)\n",
    "# src를 dst에 복사하고, dv2.drawChessboardCorners()로 검출된 corners2를 dst에 그려 표시한다.\n",
    "\n",
    "cv2.imshow('dst',  dst) \n",
    "cv2.waitKey()\n",
    "cv2.destroyAllWindows()\n"
   ]
  },
  {
   "cell_type": "code",
   "execution_count": 61,
   "id": "8924eec5-c148-478c-979b-452aa76e941a",
   "metadata": {},
   "outputs": [
    {
     "name": "stdout",
     "output_type": "stream",
     "text": [
      "centers.shape= (24, 1, 2)\n"
     ]
    }
   ],
   "source": [
    "# 원 패턴 중심점 검출: cv2.findCirclesGrid()\n",
    "# 0808.py\n",
    "import cv2\n",
    "import numpy as np\n",
    "\n",
    "#1\n",
    "src = cv2.imread('./data/circleGrid.jpg')\n",
    "gray = cv2.cvtColor(src, cv2.COLOR_BGR2GRAY)\n",
    "patternSize = (6, 4)\n",
    "found, centers = cv2.findCirclesGrid(src, patternSize)\n",
    "print('centers.shape=', centers.shape)\n",
    "# src 영상은 6x4의 검은색 원 패턴을 갖는다. src 또는 gray에서 cv2.findCirclesGrid()로 patternSize(6, 4)의 원의 중심점을 centers에 검출한다.\n",
    "# found = True이고, centers.shape = (24, 1, 2)으로 24개의 중심점의 좌표를 (1, 2)에 저장한다.\n",
    "\n",
    "#2\n",
    "term_crit=(cv2.TERM_CRITERIA_EPS+cv2.TERM_CRITERIA_MAX_ITER, 10, 0.01)\n",
    "centers2 = cv2.cornerSubPix(gray, centers, (5,5), (-1,-1), term_crit)\n",
    "# cv2.cornerSubPix()로 centers를 부화소 수준으로 centers2에 계산한다.\n",
    "\n",
    "#3\n",
    "dst = src.copy()\n",
    "cv2.drawChessboardCorners(dst, patternSize, centers2, found)\n",
    "# src를 dst에 복사하고, cv2.drawChessboardCorners()로 검출된 centers를 dst에 그려 표시한다.\n",
    "\n",
    "cv2.imshow('dst',  dst) \n",
    "cv2.waitKey()\n",
    "cv2.destroyAllWindows()\n"
   ]
  },
  {
   "cell_type": "markdown",
   "id": "881babde-3c87-4154-9810-4f304d9d00bd",
   "metadata": {},
   "source": [
    "### 모멘트 Moments"
   ]
  },
  {
   "cell_type": "markdown",
   "id": "5ef38ddb-c43e-4385-82ae-813b56327ba5",
   "metadata": {},
   "source": [
    "* 영상 모멘트는 화소의 가중평균으로 물체 인식을 위해 사용할 수 있는 디스크립터이다.\n",
    "* 영상 분할하고 관심 물체로의 영상 모멘트를 계산하면, 물체의 면적, 무게중심, 물체의 기울어진 방향 등을 계산할 수 있다."
   ]
  },
  {
   "cell_type": "markdown",
   "id": "6ed83823-74ac-4f4c-a42b-478b7e472cc9",
   "metadata": {},
   "source": [
    "- cv2.moments(array[, binaryImage ]) -> retval"
   ]
  },
  {
   "cell_type": "markdown",
   "id": "987fefb6-181a-4e66-af01-22ef9a639a90",
   "metadata": {},
   "source": [
    "##### 경계선 좌표 또는 영상의 3-차 모멘트까지 계산한다.\n",
    "##### array는 1-채널의 영상 또는 경계선 좌표 배열이다. binaryImage = True이면, array가 영상일 때 0이 아닌 화소값을 1로 처리한다.\n",
    "##### 공간 모멘트, 중심 모멘트, 정규화 중심 모멘트를 계산하여 retval에 사전자료형으로 반환한다.\n",
    "* 공간 모멘트\n",
    "    * m<sub>ji</sub>는 공간 모멘트이다. j >= 0이고, i >= 0이고, i + j <= 3이다.\n",
    "    * 영상 모멘트는 영상 화소값과 좌표를 이용하여 계산하고, 경계선 모멘트는 경계선 위의 좌표만은 가지고 모멘트를 계산한다.\n",
    "    * m<sub>00</sub>은 이진 영상에서는 면적이고, 그레이스케일 영상에서는 밝기값의 합니다.\n",
    "* 중심 모멘트\n",
    "    * (x<sub>c</sub>,y<sub>c</sub>)는 무게중심이다. 중심 모멘트에서 mu00 = m00, mu10 = 0, mu01 = 0이다.\n",
    "* 정규 중심 모멘트\n",
    "    * 정규 중심 모멘트에서 nu00 = 1, nu10 = 0, nu01 = 0이다."
   ]
  },
  {
   "cell_type": "markdown",
   "id": "d47f9545-85b3-4fa2-b811-c957a7e15c9a",
   "metadata": {},
   "source": [
    "- cv2.HuMoments(m[, hu ]) -> hu"
   ]
  },
  {
   "cell_type": "markdown",
   "id": "0311b9fc-f381-4df8-bf12-c6ff328c9ba1",
   "metadata": {},
   "source": [
    "##### 정규 중심 모멘트를 이용하여 Hu의 7 모멘트를 계산한다.\n",
    "##### m은 cv2.moments()로 계산한 모멘트이다.\n",
    "##### Hu 모멘트는 이동, 스케일, 회전에 불변이다. 단, hu[6]은 영상 반사에 의해 부호가 변경된다."
   ]
  },
  {
   "cell_type": "markdown",
   "id": "9dff4258-6e24-4d93-a695-3ab96bf01e99",
   "metadata": {},
   "source": [
    "#### 실습"
   ]
  },
  {
   "cell_type": "code",
   "execution_count": 65,
   "id": "bc3104b6-7a0a-43fa-9e6e-41841745034b",
   "metadata": {},
   "outputs": [
    {
     "name": "stdout",
     "output_type": "stream",
     "text": [
      "m00=79262.0\n",
      "m10=19719561.0\n",
      "m01=19943644.0\n",
      "m20=5515429769.0\n",
      "m11=5090506179.0\n",
      "m02=5490383844.0\n",
      "m30=1678594806585.0\n",
      "m21=1448966367859.0\n",
      "m12=1427069177889.0\n",
      "m03=1619623824694.0\n",
      "mu20=609408144.1012974\n",
      "mu11=128735034.94252014\n",
      "mu02=472229671.77704334\n",
      "mu30=3184447093.48999\n",
      "mu21=-2863822758.3268433\n",
      "mu12=-3664976429.7761536\n",
      "mu03=509725524.1086426\n",
      "nu20=0.09700144427924574\n",
      "nu11=0.020491167437841\n",
      "nu02=0.07516630789606452\n",
      "nu30=0.001800410227810075\n",
      "nu21=-0.0016191368967214139\n",
      "nu12=-0.002072090022265142\n",
      "nu03=0.00028818662079742156\n"
     ]
    }
   ],
   "source": [
    "## 영상 모멘트: cv2.moments()\n",
    "# 0809.py\n",
    "import cv2\n",
    "import numpy as np\n",
    "\n",
    "#1\n",
    "src = cv2.imread('./data/momentTest.jpg')\n",
    "gray = cv2.cvtColor(src, cv2.COLOR_BGR2GRAY)\n",
    "ret, bImage = cv2.threshold(gray, 128, 255, cv2.THRESH_BINARY)\n",
    "# 입력 영상 src를 그레이스케일로 gray로 변환하고, 이진 영상 bImage를 생성한다.\n",
    "\n",
    "#2\n",
    "##M = cv2.moments(bImage)   \n",
    "M = cv2.moments(bImage, True)\n",
    "for key, value in M.items():\n",
    "    print('{}={}'.format(key, value))\n",
    "# cv2.moments()로 이진 영상 bImage에서 영상 모멘트 M을 계산한다.\n",
    "# cv2.moments(bImage)는 bImage의 물체 영역의 화소값 255로 계산하고, cv2.moments(bImage, True)는 1로 계산하여 모멘트 값이 다르다.\n",
    "# for문으로 M.items()의 key.value 값으로 모멘트를 출력한다.\n",
    "    \n",
    "#3\n",
    "cx = int(M['m10']/M['m00'])\n",
    "cy = int(M['m01']/M['m00'])\n",
    "dst = src.copy()\n",
    "cv2.circle(dst, (cx, cy), 5, (0,0,255), 2)\n",
    "# 문체의 중심 좌표를 cx, cy에 계산하고, dst에 빨간색 원으로 표시한다.\n",
    "\n",
    "cv2.imshow('dst',  dst)\n",
    "cv2.waitKey()\n",
    "cv2.destroyAllWindows()\n"
   ]
  },
  {
   "cell_type": "code",
   "execution_count": 69,
   "id": "c12abdce-d0af-4f9e-b5af-feb2e2b565b4",
   "metadata": {},
   "outputs": [],
   "source": [
    "## cv2.moments() 경계선 모멘트\n",
    "# 0810.py\n",
    "import cv2\n",
    "import numpy as np\n",
    "\n",
    "#1\n",
    "src = cv2.imread('./data/circles.jpg')\n",
    "gray = cv2.cvtColor(src, cv2.COLOR_BGR2GRAY)\n",
    "ret, bImage = cv2.threshold(gray, 128, 255, cv2.THRESH_BINARY_INV)\n",
    "# 입력 영상 src를 그레이스케일로 gray로 변환하고, cv2.THRESH_BINARY_INV로 물체가 흰색, 배경이 검은색인 이진 영상 bImage를 생성한다.\n",
    "\n",
    "#2\n",
    "mode = cv2.RETR_EXTERNAL\n",
    "method = cv2.CHAIN_APPROX_SIMPLE\n",
    "contours, hierarchy = cv2.findContours(bImage, mode, method)\n",
    "\n",
    "dst = src.copy()\n",
    "cv2.drawContours(dst, contours, -1, (255,0,0), 3)\n",
    "# cv2.findContours()로 이진 영상 bImage에서 윤곽선(경계선)을 contours에 검출하고, dst에 파란색으로 윤곽선을 그린다.\n",
    "\n",
    "#3\n",
    "for cnt in contours:\n",
    "    M = cv2.moments(cnt, True)\n",
    "##    for key, value in M.items():\n",
    "##        print('{}={}'.format(key, value))\n",
    "\n",
    "    cx = int(M['m10']/M['m00'])\n",
    "    cy = int(M['m01']/M['m00'])\n",
    "    cv2.circle(dst, (cx, cy), 5, (0,0,255), 2)\n",
    "# contours의 각 윤곽선 cnt의 모멘트를 M에 계산하고, 각 윤곽선의 중심좌표(cx, cy)를 계산하고, dst에 빨간색 원으로 표시한다.\n",
    "\n",
    "cv2.imshow('dst',  dst)\n",
    "cv2.waitKey()\n",
    "cv2.destroyAllWindows()\n"
   ]
  },
  {
   "cell_type": "code",
   "execution_count": 71,
   "id": "1ae70b5b-7bcd-49ad-b5cc-c1cee2af68b1",
   "metadata": {},
   "outputs": [
    {
     "name": "stdout",
     "output_type": "stream",
     "text": [
      "hu.shape= (7, 1)\n",
      "hu= [[ 1.72272960e-01]\n",
      " [ 2.17960438e-03]\n",
      " [ 9.24428655e-05]\n",
      " [ 1.90785217e-06]\n",
      " [ 1.11977849e-12]\n",
      " [-6.96325160e-09]\n",
      " [-2.53121609e-11]]\n",
      "A= [[ 1.41421356e-01  1.41421356e-01  1.98030817e+02]\n",
      " [-1.41421356e-01  1.41421356e-01  2.81234993e+02]]\n",
      "hu2.shape= (7, 1)\n",
      "hu2= [[ 1.72272960e-01]\n",
      " [ 2.17960438e-03]\n",
      " [ 9.24428655e-05]\n",
      " [ 1.90785217e-06]\n",
      " [ 1.11977849e-12]\n",
      " [-6.96325160e-09]\n",
      " [-2.53121609e-11]]\n",
      "diffSum= 0.0003215707378081359\n"
     ]
    }
   ],
   "source": [
    "# 0811.py\n",
    "import cv2\n",
    "import numpy as np\n",
    "\n",
    "#1\n",
    "src = cv2.imread('./data/momentTest.jpg')\n",
    "gray = cv2.cvtColor(src, cv2.COLOR_BGR2GRAY)\n",
    "ret, bImage = cv2.threshold(gray, 128, 255, cv2.THRESH_BINARY)\n",
    "\n",
    "mode = cv2.RETR_EXTERNAL\n",
    "method = cv2.CHAIN_APPROX_SIMPLE\n",
    "contours, hierarchy = cv2.findContours(bImage, mode, method)\n",
    "\n",
    "dst = src.copy()\n",
    "cnt = contours[0]\n",
    "cv2.drawContours(dst, [cnt], 0, (255,0,0), 3)\n",
    "# 입력 영상 src를 그레이스케일 gray로 변환하고, 이진 영상 bImage를 구하고, cv2.findContours()로 bImage에서 윤곽선을 contours에 검출하고,\n",
    "# 첫 번째 윤곽선 contours[0]을 cnt에 저장하고 src를 복사한 dst에 파란색으로 윤곽선을 그린다.\n",
    "\n",
    "#2\n",
    "M = cv2.moments(cnt)\n",
    "hu = cv2.HuMoments(M)\n",
    "print('hu.shape=', hu.shape)\n",
    "print('hu=', hu)\n",
    "# cv2.moments()로 윤곽선 cnt의 경계선 모멘트 M을 계산하고, cv2.HuMoments()로 모멘트를 이용하여 Hu의 모멘트를 hu에 계산한다.\n",
    "\n",
    "#3\n",
    "angle = 45.0\n",
    "scale = 0.2\n",
    "cx = M['m10']/M['m00']\n",
    "cy = M['m01']/M['m00']\n",
    "center = (cx, cy)\n",
    "t = (20, 30)\n",
    "A = cv2.getRotationMatrix2D( center, angle, scale )\n",
    "A[:, 2] += t\n",
    "print('A=', A)\n",
    "\n",
    "cnt2 = cv2.transform(cnt, A)\n",
    "cv2.drawContours(dst, [cnt2], 0, (0,255,0), 3)\n",
    "cv2.imshow('dst',  dst)\n",
    "\n",
    "#4\n",
    "M2 = cv2.moments(cnt2)\n",
    "hu2 = cv2.HuMoments(M2)\n",
    "print('hu2.shape=', hu2.shape)\n",
    "print('hu2=', hu)\n",
    "\n",
    "#5\n",
    "##diffSum = sum(abs(hu - hu2))\n",
    "diffSum = np.sum(cv2.absdiff(hu, hu2))\n",
    "print('diffSum=', diffSum)\n",
    "\n",
    "cv2.waitKey()\n",
    "cv2.destroyAllWindows()\n"
   ]
  },
  {
   "cell_type": "code",
   "execution_count": null,
   "id": "39056308-ec19-4ec0-bb4b-2c7cdf737304",
   "metadata": {},
   "outputs": [],
   "source": []
  }
 ],
 "metadata": {
  "kernelspec": {
   "display_name": "Python 3 (ipykernel)",
   "language": "python",
   "name": "python3"
  },
  "language_info": {
   "codemirror_mode": {
    "name": "ipython",
    "version": 3
   },
   "file_extension": ".py",
   "mimetype": "text/x-python",
   "name": "python",
   "nbconvert_exporter": "python",
   "pygments_lexer": "ipython3",
   "version": "3.8.13"
  }
 },
 "nbformat": 4,
 "nbformat_minor": 5
}
